{
 "cells": [
  {
   "metadata": {},
   "cell_type": "markdown",
   "source": [
    "\n",
    "# Лабораторная работа No6\n",
    "## Задача:\n",
    "Имеется модель данных для управления библиотекой.\n",
    "1. Самостоятельно сгенерируйте около 5,000 записей в каждую таблицу для тестирования производительности. (данные предполагаются генеративными и случайными)\n",
    "2. Необходимо проанализировать три медленных SQL запроса ниже и оптимизировать их путем создания соответствующих индексов (B-tree, функциональных , индексов с включенными столбцами, ...).\n",
    "\n",
    "### Артефакт для проверки.\n",
    "- Код генерации данных для каждой таблицы\n",
    "- Код создания индексов\n",
    "- EXPLAIN ANALYZE “до индексов”\n",
    "- EXPLAIN ANALYZE “после индексов”\n",
    "\n",
    "### Описание таблиц\n",
    "#### Таблица “authors” (Авторы)\n",
    "Хранит информацию об авторах книг.\n",
    "\n",
    "| Столбец    | Описание                                        |\n",
    "|------------|-------------------------------------------------|\n",
    "| author_id  | Первичный ключ, уникальный идентификатор автора |\n",
    "| first_name | Имя автора (обязательное поле)                  |\n",
    "| last_name  | Фамилия автора (обязательное поле)              |\n",
    "| birth_date | Дата рождения автора (может быть NULL)          |\n",
    "| country    | Страна происхождения автора (может быть NULL)   |\n",
    "\n",
    "#### Таблица “books” (Книги)\n",
    "Содержит данные о книгах в библиотеке.\n",
    "\n",
    "| Столбец          | Описание                                                     |\n",
    "|------------------|--------------------------------------------------------------|\n",
    "| book_id          | Первичный ключ, уникальный идентификатор книги               |\n",
    "| title            | Название книги (обязательное поле)                           |\n",
    "| author_id        | Внешний ключ, ссылается на `authors.author_id`               |\n",
    "| publication_year | Год публикации книги                                         |\n",
    "| isbn             | Уникальный ISBN книги                                        |\n",
    "| genre            | Жанр книги (например, \"Фэнтези\", \"Научная литература\")       |\n",
    "| page_count       | Количество страниц в книге                                   |\n",
    "| available_copies | Количество доступных для выдачи экземпляров (по умолчанию 1) |\n",
    "\n",
    "#### Таблица “borrowers” (Читатели)\n",
    "Хранит информацию о зарегистрированных читателях библиотеки.\n",
    "\n",
    "| Столбец           | Описание                                                                          |\n",
    "|-------------------|-----------------------------------------------------------------------------------|\n",
    "| borrower_id       | Первичный ключ, уникальный идентификатор читателя                                 |\n",
    "| first_name        | Имя читателя (обязательное поле)                                                  |\n",
    "| last_name         | Фамилия читателя (обязательное поле)                                              |\n",
    "| email             | Электронная почта                                                                 |\n",
    "| registration_date | Дата регистрации читателя                                                         |\n",
    "| membership_status | Статус читателя (например, \"active\", \"expired\", \"banned\"). По умолчанию \"active\". |\n",
    "\n",
    "#### Таблица “loans” (Выдачи книг)\n",
    "Фиксирует информацию о выданных книгах.\n",
    "\n",
    "| Столбец     | Описание                                                             |\n",
    "|-------------|----------------------------------------------------------------------|\n",
    "| loan_id     | Первичный ключ, уникальный идентификатор                             |\n",
    "| book_id     | Внешний ключ, ссылается на `books.book_id`                           |\n",
    "| borrower_id | Внешний ключ, ссылается на `borrowers.borrower_id`                   |\n",
    "| loan_date   | Дата выдачи книги                                                    |\n",
    "| due_date    | Дата, когда книга должна быть возвращена                             |\n",
    "| return_date | Фактическая дата возврата книги (NULL, если книга еще не возвращена) |\n",
    "| fine_amount | Размер штрафа за просрочку (по умолчанию 0)                          |\n",
    "\n",
    "#### sql для таблиц\n",
    "```sql\n",
    "CREATE TABLE authors (\n",
    "author_id SERIAL PRIMARY KEY,\n",
    "first_name VARCHAR(100) NOT NULL,\n",
    "last_name VARCHAR(100) NOT NULL,\n",
    "birth_date DATE,\n",
    "country VARCHAR(100)\n",
    ");\n",
    "\n",
    "CREATE TABLE books (\n",
    "book_id SERIAL PRIMARY KEY,\n",
    "title VARCHAR(255) NOT NULL,\n",
    "author_id INTEGER REFERENCES authors(author_id),\n",
    "publication_year INTEGER,\n",
    "isbn VARCHAR(20) UNIQUE,\n",
    "genre VARCHAR(100),\n",
    "page_count INTEGER,\n",
    "available_copies INTEGER DEFAULT 1\n",
    ");\n",
    "\n",
    "CREATE TABLE borrowers (\n",
    "borrower_id SERIAL PRIMARY KEY,\n",
    "first_name VARCHAR(100) NOT NULL,\n",
    "last_name VARCHAR(100) NOT NULL,\n",
    "email VARCHAR(255) UNIQUE,\n",
    "registration_date DATE DEFAULT CURRENT_DATE,\n",
    "membership_status VARCHAR(20) DEFAULT 'active'\n",
    ");\n",
    "\n",
    "CREATE TABLE loans (\n",
    "loan_id SERIAL PRIMARY KEY,\n",
    "book_id INTEGER REFERENCES books(book_id),\n",
    "borrower_id INTEGER REFERENCES borrowers(borrower_id),\n",
    "loan_date DATE DEFAULT CURRENT_DATE,\n",
    "due_date DATE,\n",
    "return_date DATE,\n",
    "fine_amount DECIMAL(10, 2) DEFAULT 0\n",
    ");\n",
    "```\n",
    "\n",
    "### Задание\n",
    "Для каждого SQL запроса:\n",
    "- Проанализируйте план выполнения (EXPLAIN ANALYZE)\n",
    "- Определите, какие индексы (B-tree, функциональные или included) улучшат производительность\n",
    "- Создайте индексы\n",
    "- Проверьте улучшение производительности, используя EXPLAIN ANALYZE после создания индекса (ов)\n",
    "\n",
    "#### Запрос No1\n",
    "```sql\n",
    "SELECT b.title, a.first_name, a.last_name, b.publication_year\n",
    "FROM books b\n",
    "JOIN authors a ON b.author_id = a.author_id\n",
    "WHERE b.title LIKE '%Гарри%'\n",
    "AND b.genre = 'Фэнтези'\n",
    "ORDER BY b.publication_year DESC;\n",
    "```\n",
    "#### Запрос No2\n",
    "```sql\n",
    "SELECT br.first_name, br.last_name, b.title, l.loan_date, l.due_date,\n",
    "(CURRENT_DATE - l.due_date) AS days_overdue,\n",
    "(CURRENT_DATE - l.due_date) * 10 AS fine\n",
    "FROM loans l\n",
    "JOIN borrowers br ON l.borrower_id = br.borrower_id\n",
    "JOIN books b ON l.book_id = b.book_id\n",
    "WHERE l.return_date IS NULL\n",
    "AND l.due_date < CURRENT_DATE\n",
    "AND br.membership_status = 'active'\n",
    "ORDER BY days_overdue DESC;\n",
    "```\n",
    "#### Запрос No3\n",
    "```sql\n",
    "SELECT a.first_name, a.last_name,\n",
    "COUNT(l.loan_id) AS loans_count\n",
    "FROM authors a\n",
    "JOIN books b ON a.author_id = b.author_id\n",
    "JOIN loans l ON b.book_id = l.book_id\n",
    "WHERE b.publication_year BETWEEN 2000 AND 2020\n",
    "GROUP BY a.author_id\n",
    "HAVING COUNT(l.loan_id) > 10\n",
    "ORDER BY loans_count DESC;\n",
    "```"
   ],
   "id": "9a8ca74959b99131"
  },
  {
   "metadata": {},
   "cell_type": "markdown",
   "source": "## Создаем подключение к БД",
   "id": "b94b8475bb91451b"
  },
  {
   "cell_type": "code",
   "id": "initial_id",
   "metadata": {
    "collapsed": true,
    "ExecuteTime": {
     "end_time": "2025-06-16T09:05:29.867145Z",
     "start_time": "2025-06-16T09:05:29.807070Z"
    }
   },
   "source": [
    "import psycopg2\n",
    "import random\n",
    "from faker import Faker\n",
    "\n",
    "fake = Faker('ru_RU')\n",
    "data_count = 15000  # Количество записей в каждой таблице\n",
    "\n",
    "### Подключение к PostgreSQL\n",
    "connection = psycopg2.connect(\n",
    "    host=\"localhost\",\n",
    "    port=\"5432\",\n",
    "    database=\"\",\n",
    "    user=\"\",\n",
    "    password=\"\",\n",
    ")\n",
    "### Создание курсора\n",
    "cursor = connection.cursor()\n",
    "\n",
    "print(\"Подключение к PostgreSQL успешно.\")"
   ],
   "outputs": [
    {
     "name": "stdout",
     "output_type": "stream",
     "text": [
      "Подключение к PostgreSQL успешно.\n"
     ]
    }
   ],
   "execution_count": 220
  },
  {
   "metadata": {},
   "cell_type": "markdown",
   "source": "## Создание схемы",
   "id": "6cf2533f6c7da208"
  },
  {
   "metadata": {
    "ExecuteTime": {
     "end_time": "2025-06-16T09:05:29.937292Z",
     "start_time": "2025-06-16T09:05:29.919938Z"
    }
   },
   "cell_type": "code",
   "source": [
    "cursor.execute(\"CREATE SCHEMA IF NOT EXISTS ivan_patakin;\")\n",
    "connection.commit()\n",
    "cursor.execute(\"SET search_path TO ivan_patakin;\")\n",
    "\n",
    "print(\"Схема 'ivan_patakin' создана. Используется в текущем сеансе.\")"
   ],
   "id": "68196d1bfa5244c4",
   "outputs": [
    {
     "name": "stdout",
     "output_type": "stream",
     "text": [
      "Схема 'ivan_patakin' создана. Используется в текущем сеансе.\n"
     ]
    }
   ],
   "execution_count": 221
  },
  {
   "metadata": {},
   "cell_type": "markdown",
   "source": "## Создаем таблицы",
   "id": "8792d3182ec3891b"
  },
  {
   "metadata": {
    "ExecuteTime": {
     "end_time": "2025-06-16T09:05:30.126924Z",
     "start_time": "2025-06-16T09:05:30.079439Z"
    }
   },
   "cell_type": "code",
   "source": [
    "tables = [\n",
    "    \"\"\"\n",
    "    CREATE TABLE IF NOT EXISTS authors (\n",
    "        author_id SERIAL PRIMARY KEY,\n",
    "        first_name VARCHAR(100) NOT NULL,\n",
    "        last_name VARCHAR(100) NOT NULL,\n",
    "        birth_date DATE,\n",
    "        country VARCHAR(100)\n",
    "    );\n",
    "    \"\"\",\n",
    "    \"\"\"\n",
    "    CREATE TABLE IF NOT EXISTS books (\n",
    "        book_id SERIAL PRIMARY KEY,\n",
    "        title VARCHAR(255) NOT NULL,\n",
    "        author_id INTEGER REFERENCES authors(author_id),\n",
    "        publication_year INTEGER,\n",
    "        isbn VARCHAR(20) UNIQUE,\n",
    "        genre VARCHAR(100),\n",
    "        page_count INTEGER,\n",
    "        available_copies INTEGER DEFAULT 1\n",
    "    );\n",
    "    \"\"\",\n",
    "    \"\"\"\n",
    "    CREATE TABLE IF NOT EXISTS borrowers (\n",
    "        borrower_id SERIAL PRIMARY KEY,\n",
    "        first_name VARCHAR(100) NOT NULL,\n",
    "        last_name VARCHAR(100) NOT NULL,\n",
    "        email VARCHAR(255) UNIQUE,\n",
    "        registration_date DATE DEFAULT CURRENT_DATE,\n",
    "        membership_status VARCHAR(20) DEFAULT 'active'\n",
    "    );\n",
    "    \"\"\",\n",
    "    \"\"\"\n",
    "    CREATE TABLE IF NOT EXISTS loans (\n",
    "        loan_id SERIAL PRIMARY KEY,\n",
    "        book_id INTEGER REFERENCES books(book_id),\n",
    "        borrower_id INTEGER REFERENCES borrowers(borrower_id),\n",
    "        loan_date DATE DEFAULT CURRENT_DATE,\n",
    "        due_date DATE,\n",
    "        return_date DATE,\n",
    "        fine_amount DECIMAL(10, 2) DEFAULT 0\n",
    "    );\n",
    "    \"\"\"\n",
    "]\n",
    "\n",
    "for table in tables:\n",
    "    cursor.execute(table)\n",
    "connection.commit()\n",
    "\n",
    "print(\"Таблицы успешно созданы.\")"
   ],
   "id": "576180099ec4a0f4",
   "outputs": [
    {
     "name": "stdout",
     "output_type": "stream",
     "text": [
      "Таблицы успешно созданы.\n"
     ]
    }
   ],
   "execution_count": 222
  },
  {
   "metadata": {},
   "cell_type": "markdown",
   "source": "## Генерация данных для таблиц",
   "id": "889d8c0102ef4517"
  },
  {
   "metadata": {},
   "cell_type": "markdown",
   "source": "#### Генерация авторов",
   "id": "fdcdebdd0fb0a5ad"
  },
  {
   "metadata": {
    "ExecuteTime": {
     "end_time": "2025-06-16T09:05:50.127257Z",
     "start_time": "2025-06-16T09:05:30.474101Z"
    }
   },
   "cell_type": "code",
   "source": [
    "authors_data = []\n",
    "countries = [\"Россия\", \"США\", \"Великобритания\", \"Франция\", \"Германия\", \"Япония\", \"Китай\", \"Индия\", \"Канада\", \"Австралия\"]\n",
    "\n",
    "for _ in range(data_count):\n",
    "    first_name = fake.first_name()\n",
    "    last_name = fake.last_name()\n",
    "    birth_date = fake.date_of_birth(minimum_age=20, maximum_age=100)\n",
    "    country = random.choice(countries)\n",
    "    authors_data.append((first_name, last_name, birth_date, country))\n",
    "\n",
    "cursor.executemany(\n",
    "    \"INSERT INTO authors (first_name, last_name, birth_date, country) VALUES (%s, %s, %s, %s)\",\n",
    "    authors_data\n",
    ")\n",
    "connection.commit()\n",
    "print(\"Авторы: данные сгенерированы и загружены.\")"
   ],
   "id": "65bc52358e81d214",
   "outputs": [
    {
     "name": "stdout",
     "output_type": "stream",
     "text": [
      "Авторы: данные сгенерированы и загружены.\n"
     ]
    }
   ],
   "execution_count": 223
  },
  {
   "metadata": {},
   "cell_type": "markdown",
   "source": "#### Генерация книг",
   "id": "967053d4fb597a18"
  },
  {
   "metadata": {
    "ExecuteTime": {
     "end_time": "2025-06-16T09:06:09.187506Z",
     "start_time": "2025-06-16T09:05:50.172749Z"
    }
   },
   "cell_type": "code",
   "source": [
    "books_data = []\n",
    "genres = [\"Фэнтези\", \"Детектив\", \"Роман\", \"Научная литература\", \"История\", \"Приключения\", \"Фантастика\", \"Поэзия\", \"Детская литература\", \"Биография\"]\n",
    "\n",
    "for i in range(data_count):\n",
    "    title = fake.catch_phrase()\n",
    "    # Добавляем слово \"Гарри\" примерно в 5% названий для запроса №1\n",
    "    if i % 20 == 0:\n",
    "        title = f\"Гарри {title}\"\n",
    "    author_id = random.randint(1, data_count)\n",
    "    publication_year = random.randint(1950, 2023)\n",
    "    isbn = f\"978-{random.randint(0, 9)}-{random.randint(10000, 99999)}-{random.randint(100, 999)}-{random.randint(0, 9)}\"\n",
    "    genre = random.choice(genres)\n",
    "    page_count = random.randint(50, 1500)\n",
    "    available_copies = random.randint(0, 10)\n",
    "    books_data.append((title, author_id, publication_year, isbn, genre, page_count, available_copies))\n",
    "\n",
    "cursor.executemany(\n",
    "    \"INSERT INTO books (title, author_id, publication_year, isbn, genre, page_count, available_copies) VALUES (%s, %s, %s, %s, %s, %s, %s)\",\n",
    "    books_data\n",
    ")\n",
    "\n",
    "connection.commit()\n",
    "print(\"Книги: данные сгенерированы и загружены.\")"
   ],
   "id": "b57700f59200d55f",
   "outputs": [
    {
     "name": "stdout",
     "output_type": "stream",
     "text": [
      "Книги: данные сгенерированы и загружены.\n"
     ]
    }
   ],
   "execution_count": 224
  },
  {
   "metadata": {},
   "cell_type": "markdown",
   "source": "#### Генерация читателей",
   "id": "3c83f6226fc68d16"
  },
  {
   "metadata": {
    "ExecuteTime": {
     "end_time": "2025-06-16T09:06:26.425306Z",
     "start_time": "2025-06-16T09:06:09.229862Z"
    }
   },
   "cell_type": "code",
   "source": [
    "borrowers_data = []\n",
    "statuses = [\"active\", \"expired\", \"banned\"]\n",
    "status_weights = [0.8, 0.15, 0.05]  # 80% активных, 15% с истёкшим сроком, 5% заблокированных\n",
    "used_emails = set()  # Множество для отслеживания уже использованных email\n",
    "\n",
    "for _ in range(data_count):\n",
    "    first_name = fake.first_name()\n",
    "    last_name = fake.last_name()\n",
    "\n",
    "    email = fake.email()\n",
    "    while email in used_emails:\n",
    "        username, domain = email.split('@')\n",
    "        email = f\"{username}{random.randint(1, 9999)}@{domain}\"\n",
    "    \n",
    "    used_emails.add(email)\n",
    "    \n",
    "    registration_date = fake.date_between(start_date='-5y', end_date='today')\n",
    "    membership_status = random.choices(statuses, weights=status_weights, k=1)[0]\n",
    "    borrowers_data.append((first_name, last_name, email, registration_date, membership_status))\n",
    "\n",
    "cursor.executemany(\n",
    "    \"INSERT INTO borrowers (first_name, last_name, email, registration_date, membership_status) VALUES (%s, %s, %s, %s, %s)\",\n",
    "    borrowers_data\n",
    ")\n",
    "connection.commit()\n",
    "print(\"Читатели: данные сгенерированы и загружены.\")"
   ],
   "id": "9b35e9e536d9e031",
   "outputs": [
    {
     "name": "stdout",
     "output_type": "stream",
     "text": [
      "Читатели: данные сгенерированы и загружены.\n"
     ]
    }
   ],
   "execution_count": 225
  },
  {
   "metadata": {},
   "cell_type": "markdown",
   "source": [
    "#### Генерация выдач книг\n",
    "Используем скрип в PostgreSQL, а не только Python."
   ],
   "id": "d3d22544be60307b"
  },
  {
   "metadata": {
    "ExecuteTime": {
     "end_time": "2025-06-16T09:06:27.152798Z",
     "start_time": "2025-06-16T09:06:26.477319Z"
    }
   },
   "cell_type": "code",
   "source": [
    "cursor.execute(f\"\"\"\n",
    "DO $$\n",
    "DECLARE\n",
    "    book_ids INTEGER[] := ARRAY(SELECT book_id FROM books);\n",
    "    borrower_ids INTEGER[] := ARRAY(SELECT borrower_id FROM borrowers);\n",
    "    today DATE := CURRENT_DATE;\n",
    "    i INT;\n",
    "    book_id INT;\n",
    "    borrower_id INT;\n",
    "    loan_date DATE;\n",
    "    due_date DATE;\n",
    "    return_date DATE;\n",
    "    fine_amount NUMERIC;\n",
    "BEGIN\n",
    "    FOR i IN 1..{data_count} LOOP\n",
    "        book_id := book_ids[trunc(random() * array_length(book_ids, 1) + 1)::INT];\n",
    "        borrower_id := borrower_ids[trunc(random() * array_length(borrower_ids, 1) + 1)::INT];\n",
    "        \n",
    "        loan_date := today - (random() * 365)::INT;\n",
    "        due_date := loan_date + (14 + random() * 16)::INT;\n",
    "        \n",
    "        IF random() < 0.8 THEN\n",
    "            return_date := loan_date + (random() * (due_date - loan_date + 15))::INT;\n",
    "            IF return_date > due_date THEN\n",
    "                fine_amount := (return_date - due_date) * 10;\n",
    "            ELSE\n",
    "                fine_amount := 0;\n",
    "            END IF;\n",
    "        ELSE\n",
    "            return_date := NULL;\n",
    "            IF due_date < today THEN\n",
    "                fine_amount := (today - due_date) * 10;\n",
    "            ELSE\n",
    "                fine_amount := 0;\n",
    "            END IF;\n",
    "        END IF;\n",
    "\n",
    "        INSERT INTO loans (book_id, borrower_id, loan_date, due_date, return_date, fine_amount)\n",
    "        VALUES (book_id, borrower_id, loan_date, due_date, return_date, fine_amount);\n",
    "    END LOOP;\n",
    "END $$;\n",
    "\"\"\")\n",
    "connection.commit()\n",
    "print(\"Выдачи книг: данные сгенерированы и загружены.\")"
   ],
   "id": "b34644b7dd9c66ac",
   "outputs": [
    {
     "name": "stdout",
     "output_type": "stream",
     "text": [
      "Выдачи книг: данные сгенерированы и загружены.\n"
     ]
    }
   ],
   "execution_count": 226
  },
  {
   "metadata": {},
   "cell_type": "markdown",
   "source": "### Вывод итогового количества записей в таблицах",
   "id": "5127557f4eec9dd"
  },
  {
   "metadata": {
    "ExecuteTime": {
     "end_time": "2025-06-16T09:06:27.243602Z",
     "start_time": "2025-06-16T09:06:27.211427Z"
    }
   },
   "cell_type": "code",
   "source": [
    "\n",
    "cursor.execute(\"SELECT COUNT(*) FROM authors\")\n",
    "authors_count = cursor.fetchone()[0]\n",
    "\n",
    "cursor.execute(\"SELECT COUNT(*) FROM books\")\n",
    "books_count = cursor.fetchone()[0]\n",
    "\n",
    "cursor.execute(\"SELECT COUNT(*) FROM borrowers\")\n",
    "borrowers_count = cursor.fetchone()[0]\n",
    "\n",
    "cursor.execute(\"SELECT COUNT(*) FROM loans\")\n",
    "loans_count = cursor.fetchone()[0]\n",
    "\n",
    "print(\"\\n=== Итоговое количество записей в таблицах ===\")\n",
    "print(f\"Авторы: {authors_count}\")\n",
    "print(f\"Книги: {books_count}\")\n",
    "print(f\"Читатели: {borrowers_count}\")\n",
    "print(f\"Выдачи: {loans_count}\")"
   ],
   "id": "3dc7c6eb8c7c7775",
   "outputs": [
    {
     "name": "stdout",
     "output_type": "stream",
     "text": [
      "\n",
      "=== Итоговое количество записей в таблицах ===\n",
      "Авторы: 15000\n",
      "Книги: 15000\n",
      "Читатели: 15000\n",
      "Выдачи: 15000\n"
     ]
    }
   ],
   "execution_count": 227
  },
  {
   "metadata": {},
   "cell_type": "markdown",
   "source": "### Анализ и оптимизация запросов",
   "id": "f0bbb4e13fa9dcbd"
  },
  {
   "metadata": {
    "ExecuteTime": {
     "end_time": "2025-06-16T09:06:27.300461Z",
     "start_time": "2025-06-16T09:06:27.290431Z"
    }
   },
   "cell_type": "code",
   "source": [
    "# Функция для выполнения запроса с EXPLAIN ANALYZE и вывода результатов\n",
    "def analyze_query(query, title=\"\"):\n",
    "    print(f\"\\n=== {title} ===\")\n",
    "    cursor.execute(f\"EXPLAIN ANALYZE {query}\")\n",
    "    plan = cursor.fetchall()\n",
    "    for line in plan:\n",
    "        print(line[0])\n"
   ],
   "id": "fd7d02b311941b8e",
   "outputs": [],
   "execution_count": 228
  },
  {
   "metadata": {},
   "cell_type": "markdown",
   "source": "#### Запрос №1:",
   "id": "c39fc6be95590086"
  },
  {
   "metadata": {
    "ExecuteTime": {
     "end_time": "2025-06-16T09:06:27.488609Z",
     "start_time": "2025-06-16T09:06:27.336982Z"
    }
   },
   "cell_type": "code",
   "source": [
    "query1 = \"\"\"\n",
    "SELECT b.title, a.first_name, a.last_name, b.publication_year\n",
    "FROM books b\n",
    "JOIN authors a ON b.author_id = a.author_id\n",
    "WHERE b.title LIKE '%Гарри%'\n",
    "AND b.genre = 'Фэнтези'\n",
    "ORDER BY b.publication_year DESC;\n",
    "\"\"\"\n",
    "\n",
    "# Анализ запроса до создания индексов\n",
    "analyze_query(query1, \"Запрос №1 до создания индексов\")\n",
    "\n",
    "# Создание индексов для оптимизации запроса №1\n",
    "cursor.execute(\"\"\"\n",
    "CREATE INDEX IF NOT EXISTS idx_books_title_lower ON books (LOWER(title));\n",
    "CREATE INDEX IF NOT EXISTS idx_books_genre ON books (genre);\n",
    "CREATE INDEX IF NOT EXISTS idx_books_genre_title_pub_year \n",
    "    ON books (genre, publication_year DESC) INCLUDE (title);\n",
    "\"\"\")\n",
    "connection.commit()\n",
    "print(\"\\nИндексы для запроса №1 созданы\")\n",
    "\n",
    "# Обновление запроса для использования LOWER(title)\n",
    "query1 = \"\"\"\n",
    "SELECT b.title, a.first_name, a.last_name, b.publication_year\n",
    "FROM books b\n",
    "JOIN authors a ON b.author_id = a.author_id\n",
    "WHERE LOWER(b.title) LIKE '%гарри%'\n",
    "AND b.genre = 'Фэнтези'\n",
    "ORDER BY b.publication_year DESC;\n",
    "\"\"\"\n",
    "\n",
    "# Анализ запроса после создания индексов\n",
    "analyze_query(query1, \"Запрос №1 после создания индексов\")"
   ],
   "id": "855d3b3ab5f9253a",
   "outputs": [
    {
     "name": "stdout",
     "output_type": "stream",
     "text": [
      "\n",
      "=== Запрос №1 до создания индексов ===\n",
      "Sort  (cost=368.11..368.11 rows=1 width=956) (actual time=7.506..7.513 rows=80 loops=1)\n",
      "  Sort Key: b.publication_year DESC\n",
      "  Sort Method: quicksort  Memory: 36kB\n",
      "  ->  Nested Loop  (cost=0.28..368.10 rows=1 width=956) (actual time=0.142..7.442 rows=80 loops=1)\n",
      "        ->  Seq Scan on books b  (cost=0.00..359.80 rows=1 width=524) (actual time=0.123..6.868 rows=80 loops=1)\n",
      "              Filter: (((title)::text ~~ '%Гарри%'::text) AND ((genre)::text = 'Фэнтези'::text))\n",
      "              Rows Removed by Filter: 14920\n",
      "        ->  Index Scan using authors_pkey on authors a  (cost=0.28..8.29 rows=1 width=440) (actual time=0.006..0.006 rows=1 loops=80)\n",
      "              Index Cond: (author_id = b.author_id)\n",
      "Planning Time: 0.232 ms\n",
      "Execution Time: 7.563 ms\n",
      "\n",
      "Индексы для запроса №1 созданы\n",
      "\n",
      "=== Запрос №1 после создания индексов ===\n",
      "Sort  (cost=191.99..192.00 rows=1 width=956) (actual time=3.748..3.754 rows=80 loops=1)\n",
      "  Sort Key: b.publication_year DESC\n",
      "  Sort Method: quicksort  Memory: 36kB\n",
      "  ->  Nested Loop  (cost=5.13..191.98 rows=1 width=956) (actual time=0.395..3.702 rows=80 loops=1)\n",
      "        ->  Bitmap Heap Scan on books b  (cost=4.85..183.68 rows=1 width=524) (actual time=0.324..3.081 rows=80 loops=1)\n",
      "              Recheck Cond: ((genre)::text = 'Фэнтези'::text)\n",
      "              Filter: (lower((title)::text) ~~ '%гарри%'::text)\n",
      "              Rows Removed by Filter: 1421\n",
      "              Heap Blocks: exact=316\n",
      "              ->  Bitmap Index Scan on idx_books_genre  (cost=0.00..4.85 rows=75 width=0) (actual time=0.104..0.104 rows=1501 loops=1)\n",
      "                    Index Cond: ((genre)::text = 'Фэнтези'::text)\n",
      "        ->  Index Scan using authors_pkey on authors a  (cost=0.28..8.29 rows=1 width=440) (actual time=0.007..0.007 rows=1 loops=80)\n",
      "              Index Cond: (author_id = b.author_id)\n",
      "Planning Time: 0.611 ms\n",
      "Execution Time: 3.954 ms\n"
     ]
    }
   ],
   "execution_count": 229
  },
  {
   "metadata": {
    "ExecuteTime": {
     "end_time": "2025-06-16T09:06:27.533835Z",
     "start_time": "2025-06-16T09:06:27.511692Z"
    }
   },
   "cell_type": "code",
   "source": [
    "cursor.execute(\"\"\"\n",
    "DROP INDEX IF EXISTS idx_books_title_lower;\n",
    "DROP INDEX IF EXISTS idx_books_genre;\n",
    "DROP INDEX IF EXISTS idx_books_genre_title_pub_year;\n",
    "\"\"\")\n",
    "connection.commit()\n",
    "print(\"Индексы для запроса №1 удалены\")"
   ],
   "id": "adad75158eea7209",
   "outputs": [
    {
     "name": "stdout",
     "output_type": "stream",
     "text": [
      "Индексы для запроса №1 удалены\n"
     ]
    }
   ],
   "execution_count": 230
  },
  {
   "metadata": {},
   "cell_type": "markdown",
   "source": "#### Запрос №2:",
   "id": "4e2f9edb84e2d6fc"
  },
  {
   "metadata": {
    "ExecuteTime": {
     "end_time": "2025-06-16T09:06:27.712519Z",
     "start_time": "2025-06-16T09:06:27.614416Z"
    }
   },
   "cell_type": "code",
   "source": [
    "# Запрос №2\n",
    "query2 = \"\"\"\n",
    "SELECT br.first_name, br.last_name, b.title, l.loan_date, l.due_date,\n",
    "(CURRENT_DATE - l.due_date) AS days_overdue,\n",
    "(CURRENT_DATE - l.due_date) * 10 AS fine\n",
    "FROM loans l\n",
    "JOIN borrowers br ON l.borrower_id = br.borrower_id\n",
    "JOIN books b ON l.book_id = b.book_id\n",
    "WHERE l.return_date IS NULL\n",
    "AND l.due_date < CURRENT_DATE\n",
    "AND br.membership_status = 'active'\n",
    "ORDER BY days_overdue DESC;\n",
    "\"\"\"\n",
    "\n",
    "# Анализ запроса до создания индексов\n",
    "analyze_query(query2, \"Запрос №2 до создания индексов\")\n",
    "\n",
    "# Создание индексов для оптимизации запроса №2\n",
    "cursor.execute(\"\"\"\n",
    "CREATE INDEX IF NOT EXISTS idx_loans_return_date_due_date ON loans (return_date, due_date);\n",
    "CREATE INDEX IF NOT EXISTS idx_borrowers_membership_status ON borrowers (membership_status);\n",
    "CREATE INDEX IF NOT EXISTS idx_loans_borrower_id ON loans (borrower_id);\n",
    "CREATE INDEX IF NOT EXISTS idx_loans_book_id ON loans (book_id);\n",
    "\"\"\")\n",
    "connection.commit()\n",
    "print(\"\\nИндексы для запроса №2 созданы\")\n",
    "\n",
    "# Анализ запроса после создания индексов\n",
    "analyze_query(query2, \"Запрос №2 после создания индексов\")"
   ],
   "id": "27a47be085a8a85e",
   "outputs": [
    {
     "name": "stdout",
     "output_type": "stream",
     "text": [
      "\n",
      "=== Запрос №2 до создания индексов ===\n",
      "Sort  (cost=482.72..482.73 rows=1 width=968) (actual time=16.695..17.568 rows=2248 loops=1)\n",
      "  Sort Key: ((CURRENT_DATE - l.due_date)) DESC\n",
      "  Sort Method: quicksort  Memory: 413kB\n",
      "  ->  Nested Loop  (cost=0.56..482.71 rows=1 width=968) (actual time=0.070..15.210 rows=2248 loops=1)\n",
      "        ->  Nested Loop  (cost=0.28..475.12 rows=1 width=448) (actual time=0.054..9.575 rows=2248 loops=1)\n",
      "              ->  Seq Scan on loans l  (cost=0.00..310.80 rows=22 width=16) (actual time=0.032..1.758 rows=2806 loops=1)\n",
      "                    Filter: ((return_date IS NULL) AND (due_date < CURRENT_DATE))\n",
      "                    Rows Removed by Filter: 12194\n",
      "              ->  Index Scan using borrowers_pkey on borrowers br  (cost=0.28..7.39 rows=1 width=440) (actual time=0.002..0.002 rows=1 loops=2806)\n",
      "                    Index Cond: (borrower_id = l.borrower_id)\n",
      "                    Filter: ((membership_status)::text = 'active'::text)\n",
      "                    Rows Removed by Filter: 0\n",
      "        ->  Index Scan using books_pkey on books b  (cost=0.29..7.58 rows=1 width=520) (actual time=0.002..0.002 rows=1 loops=2248)\n",
      "              Index Cond: (book_id = l.book_id)\n",
      "Planning Time: 0.501 ms\n",
      "Execution Time: 17.904 ms\n",
      "\n",
      "Индексы для запроса №2 созданы\n",
      "\n",
      "=== Запрос №2 после создания индексов ===\n",
      "Sort  (cost=222.42..222.42 rows=1 width=968) (actual time=8.723..8.946 rows=2248 loops=1)\n",
      "  Sort Key: ((CURRENT_DATE - l.due_date)) DESC\n",
      "  Sort Method: quicksort  Memory: 413kB\n",
      "  ->  Nested Loop  (cost=70.97..222.41 rows=1 width=968) (actual time=1.491..7.700 rows=2248 loops=1)\n",
      "        ->  Hash Join  (cost=70.69..214.89 rows=1 width=448) (actual time=1.468..4.036 rows=2248 loops=1)\n",
      "              Hash Cond: (br.borrower_id = l.borrower_id)\n",
      "              ->  Bitmap Heap Scan on borrowers br  (cost=4.87..148.68 rows=75 width=440) (actual time=0.300..1.353 rows=11932 loops=1)\n",
      "                    Recheck Cond: ((membership_status)::text = 'active'::text)\n",
      "                    Heap Blocks: exact=189\n",
      "                    ->  Bitmap Index Scan on idx_borrowers_membership_status  (cost=0.00..4.85 rows=75 width=0) (actual time=0.275..0.276 rows=11932 loops=1)\n",
      "                          Index Cond: ((membership_status)::text = 'active'::text)\n",
      "              ->  Hash  (cost=65.51..65.51 rows=25 width=16) (actual time=1.154..1.155 rows=2806 loops=1)\n",
      "                    Buckets: 4096 (originally 1024)  Batches: 1 (originally 1)  Memory Usage: 164kB\n",
      "                    ->  Bitmap Heap Scan on loans l  (cost=4.54..65.51 rows=25 width=16) (actual time=0.139..0.655 rows=2806 loops=1)\n",
      "                          Recheck Cond: ((return_date IS NULL) AND (due_date < CURRENT_DATE))\n",
      "                          Heap Blocks: exact=111\n",
      "                          ->  Bitmap Index Scan on idx_loans_return_date_due_date  (cost=0.00..4.54 rows=25 width=0) (actual time=0.124..0.124 rows=2806 loops=1)\n",
      "                                Index Cond: ((return_date IS NULL) AND (due_date < CURRENT_DATE))\n",
      "        ->  Index Scan using books_pkey on books b  (cost=0.29..7.50 rows=1 width=520) (actual time=0.001..0.001 rows=1 loops=2248)\n",
      "              Index Cond: (book_id = l.book_id)\n",
      "Planning Time: 1.559 ms\n",
      "Execution Time: 9.199 ms\n"
     ]
    }
   ],
   "execution_count": 231
  },
  {
   "metadata": {
    "ExecuteTime": {
     "end_time": "2025-06-16T09:06:27.951154Z",
     "start_time": "2025-06-16T09:06:27.923530Z"
    }
   },
   "cell_type": "code",
   "source": [
    "cursor.execute(\"\"\"\n",
    "DROP INDEX IF EXISTS idx_loans_return_date_due_date;\n",
    "DROP INDEX IF EXISTS idx_borrowers_membership_status;\n",
    "DROP INDEX IF EXISTS idx_loans_borrower_id;\n",
    "DROP INDEX IF EXISTS idx_loans_book_id;\n",
    "\"\"\")\n",
    "connection.commit()\n",
    "print(\"Индексы для запроса №2 удалены\")"
   ],
   "id": "d371ccfd35cdb675",
   "outputs": [
    {
     "name": "stdout",
     "output_type": "stream",
     "text": [
      "Индексы для запроса №2 удалены\n"
     ]
    }
   ],
   "execution_count": 232
  },
  {
   "metadata": {},
   "cell_type": "markdown",
   "source": "#### Запрос №3",
   "id": "2c3800d962d94da8"
  },
  {
   "metadata": {
    "ExecuteTime": {
     "end_time": "2025-06-16T09:06:28.378401Z",
     "start_time": "2025-06-16T09:06:28.165761Z"
    }
   },
   "cell_type": "code",
   "source": [
    "# Запрос №3\n",
    "query3 = \"\"\"\n",
    "SELECT a.first_name, a.last_name,\n",
    "COUNT(l.loan_id) AS loans_count\n",
    "FROM authors a\n",
    "JOIN books b ON a.author_id = b.author_id\n",
    "JOIN loans l ON b.book_id = l.book_id\n",
    "WHERE b.publication_year BETWEEN 2000 AND 2020\n",
    "GROUP BY a.author_id\n",
    "HAVING COUNT(l.loan_id) > 10\n",
    "ORDER BY loans_count DESC;\n",
    "\"\"\"\n",
    "\n",
    "# Анализ запроса до создания индексов\n",
    "analyze_query(query3, \"Запрос №3 до создания индексов\")\n",
    "\n",
    "# Создание индексов для оптимизации запроса №3\n",
    "cursor.execute(\"\"\"\n",
    "CREATE INDEX IF NOT EXISTS idx_books_pub_year ON books (publication_year);\n",
    "CREATE INDEX IF NOT EXISTS idx_books_author_id_pub_year_compound ON books (author_id, publication_year);\n",
    "CREATE INDEX IF NOT EXISTS idx_loans_book_id_loan_id ON loans (book_id, loan_id);\n",
    "CREATE INDEX IF NOT EXISTS idx_loans_book_id ON loans (book_id);\n",
    "\"\"\")\n",
    "connection.commit()\n",
    "print(\"\\nИндексы для запроса №3 созданы\")\n",
    "\n",
    "# Анализ запроса после создания индексов\n",
    "analyze_query(query3, \"Запрос №3 после создания индексов\")"
   ],
   "id": "8205fd4298835320",
   "outputs": [
    {
     "name": "stdout",
     "output_type": "stream",
     "text": [
      "\n",
      "=== Запрос №3 до создания индексов ===\n",
      "Sort  (cost=1046.29..1046.35 rows=25 width=448) (actual time=40.176..40.190 rows=0 loops=1)\n",
      "  Sort Key: (count(l.loan_id)) DESC\n",
      "  Sort Method: quicksort  Memory: 25kB\n",
      "  ->  GroupAggregate  (cost=1044.21..1045.71 rows=25 width=448) (actual time=40.084..40.096 rows=0 loops=1)\n",
      "        Group Key: a.author_id\n",
      "        Filter: (count(l.loan_id) > 10)\n",
      "        Rows Removed by Filter: 2499\n",
      "        ->  Sort  (cost=1044.21..1044.40 rows=75 width=444) (actual time=37.966..38.449 rows=4265 loops=1)\n",
      "              Sort Key: a.author_id\n",
      "              Sort Method: quicksort  Memory: 430kB\n",
      "              ->  Hash Join  (cost=741.29..1041.87 rows=75 width=444) (actual time=21.349..34.712 rows=4265 loops=1)\n",
      "                    Hash Cond: (b.author_id = a.author_id)\n",
      "                    ->  Hash Join  (cost=542.94..843.32 rows=75 width=8) (actual time=8.880..16.774 rows=4265 loops=1)\n",
      "                          Hash Cond: (l.book_id = b.book_id)\n",
      "                          ->  Seq Scan on loans l  (cost=0.00..261.00 rows=15000 width=8) (actual time=0.282..2.694 rows=15000 loops=1)\n",
      "                          ->  Hash  (cost=542.00..542.00 rows=75 width=8) (actual time=5.758..5.761 rows=4341 loops=1)\n",
      "                                Buckets: 8192 (originally 1024)  Batches: 1 (originally 1)  Memory Usage: 234kB\n",
      "                                ->  Seq Scan on books b  (cost=0.00..542.00 rows=75 width=8) (actual time=0.111..4.220 rows=4341 loops=1)\n",
      "                                      Filter: ((publication_year >= 2000) AND (publication_year <= 2020))\n",
      "                                      Rows Removed by Filter: 10659\n",
      "                    ->  Hash  (cost=176.49..176.49 rows=1749 width=440) (actual time=12.411..12.412 rows=15000 loops=1)\n",
      "                          Buckets: 16384 (originally 2048)  Batches: 1 (originally 1)  Memory Usage: 1108kB\n",
      "                          ->  Seq Scan on authors a  (cost=0.00..176.49 rows=1749 width=440) (actual time=0.032..3.117 rows=15000 loops=1)\n",
      "Planning Time: 0.986 ms\n",
      "Execution Time: 40.824 ms\n",
      "\n",
      "Индексы для запроса №3 созданы\n",
      "\n",
      "=== Запрос №3 после создания индексов ===\n",
      "Sort  (cost=687.98..688.05 rows=25 width=448) (actual time=24.997..25.004 rows=0 loops=1)\n",
      "  Sort Key: (count(l.loan_id)) DESC\n",
      "  Sort Method: quicksort  Memory: 25kB\n",
      "  ->  GroupAggregate  (cost=685.90..687.40 rows=25 width=448) (actual time=24.974..24.981 rows=0 loops=1)\n",
      "        Group Key: a.author_id\n",
      "        Filter: (count(l.loan_id) > 10)\n",
      "        Rows Removed by Filter: 2499\n",
      "        ->  Sort  (cost=685.90..686.09 rows=75 width=444) (actual time=23.332..23.657 rows=4265 loops=1)\n",
      "              Sort Key: a.author_id\n",
      "              Sort Method: quicksort  Memory: 430kB\n",
      "              ->  Hash Join  (cost=382.99..683.57 rows=75 width=444) (actual time=12.303..20.838 rows=4265 loops=1)\n",
      "                    Hash Cond: (b.author_id = a.author_id)\n",
      "                    ->  Hash Join  (cost=184.63..485.02 rows=75 width=8) (actual time=4.148..9.174 rows=4265 loops=1)\n",
      "                          Hash Cond: (l.book_id = b.book_id)\n",
      "                          ->  Seq Scan on loans l  (cost=0.00..261.00 rows=15000 width=8) (actual time=0.025..1.952 rows=15000 loops=1)\n",
      "                          ->  Hash  (cost=183.70..183.70 rows=75 width=8) (actual time=4.079..4.082 rows=4341 loops=1)\n",
      "                                Buckets: 8192 (originally 1024)  Batches: 1 (originally 1)  Memory Usage: 234kB\n",
      "                                ->  Bitmap Heap Scan on books b  (cost=5.05..183.70 rows=75 width=8) (actual time=0.345..2.582 rows=4341 loops=1)\n",
      "                                      Recheck Cond: ((publication_year >= 2000) AND (publication_year <= 2020))\n",
      "                                      Heap Blocks: exact=317\n",
      "                                      ->  Bitmap Index Scan on idx_books_pub_year  (cost=0.00..5.04 rows=75 width=0) (actual time=0.293..0.294 rows=4341 loops=1)\n",
      "                                            Index Cond: ((publication_year >= 2000) AND (publication_year <= 2020))\n",
      "                    ->  Hash  (cost=176.49..176.49 rows=1749 width=440) (actual time=8.120..8.121 rows=15000 loops=1)\n",
      "                          Buckets: 16384 (originally 2048)  Batches: 1 (originally 1)  Memory Usage: 1108kB\n",
      "                          ->  Seq Scan on authors a  (cost=0.00..176.49 rows=1749 width=440) (actual time=0.035..2.551 rows=15000 loops=1)\n",
      "Planning Time: 1.417 ms\n",
      "Execution Time: 25.598 ms\n"
     ]
    }
   ],
   "execution_count": 233
  },
  {
   "metadata": {
    "ExecuteTime": {
     "end_time": "2025-06-16T09:06:28.449242Z",
     "start_time": "2025-06-16T09:06:28.428961Z"
    }
   },
   "cell_type": "code",
   "source": [
    "cursor.execute(\"\"\"\n",
    "DROP INDEX IF EXISTS idx_books_pub_year;\n",
    "DROP INDEX IF EXISTS idx_books_author_id_pub_year_compound;\n",
    "DROP INDEX IF EXISTS idx_loans_book_id_loan_id;\n",
    "DROP INDEX IF EXISTS idx_loans_book_id;\n",
    "\"\"\")\n",
    "connection.commit()\n",
    "print(\"Индексы для запроса №3 удалены\")"
   ],
   "id": "652904e30b045174",
   "outputs": [
    {
     "name": "stdout",
     "output_type": "stream",
     "text": [
      "Индексы для запроса №3 удалены\n"
     ]
    }
   ],
   "execution_count": 234
  },
  {
   "metadata": {},
   "cell_type": "markdown",
   "source": "## Удаление таблиц",
   "id": "b437852f7ad0f8dd"
  },
  {
   "metadata": {
    "ExecuteTime": {
     "end_time": "2025-06-16T09:06:28.555624Z",
     "start_time": "2025-06-16T09:06:28.517917Z"
    }
   },
   "cell_type": "code",
   "source": [
    "tables_to_drop = [\n",
    "    \"loans\",\n",
    "    \"books\",\n",
    "    \"borrowers\",\n",
    "    \"authors\"\n",
    "]\n",
    "for table in tables_to_drop:\n",
    "    cursor.execute(f\"DROP TABLE IF EXISTS {table} CASCADE;\")\n",
    "    \n",
    "connection.commit()\n",
    "print(\"Таблицы успешно удалены.\")"
   ],
   "id": "c8eb7b1a03955144",
   "outputs": [
    {
     "name": "stdout",
     "output_type": "stream",
     "text": [
      "Таблицы успешно удалены.\n"
     ]
    }
   ],
   "execution_count": 235
  },
  {
   "metadata": {
    "ExecuteTime": {
     "end_time": "2025-06-16T09:06:28.636317Z",
     "start_time": "2025-06-16T09:06:28.623667Z"
    }
   },
   "cell_type": "code",
   "source": [
    "cursor.close()\n",
    "connection.close()\n",
    "\n",
    "print(\"Соединение с PostgreSQL закрыто.\")"
   ],
   "id": "7aba9c5604bc1593",
   "outputs": [
    {
     "name": "stdout",
     "output_type": "stream",
     "text": [
      "Соединение с PostgreSQL закрыто.\n"
     ]
    }
   ],
   "execution_count": 236
  }
 ],
 "metadata": {
  "kernelspec": {
   "display_name": "Python 3",
   "language": "python",
   "name": "python3"
  },
  "language_info": {
   "codemirror_mode": {
    "name": "ipython",
    "version": 2
   },
   "file_extension": ".py",
   "mimetype": "text/x-python",
   "name": "python",
   "nbconvert_exporter": "python",
   "pygments_lexer": "ipython2",
   "version": "2.7.6"
  }
 },
 "nbformat": 4,
 "nbformat_minor": 5
}
