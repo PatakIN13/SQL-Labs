{
 "cells": [
  {
   "metadata": {},
   "cell_type": "markdown",
   "source": [
    "# Лабораторная работа No7\n",
    "## Задача:\n",
    "Самостоятельно сгенерируйте 1 000 авторов и книги по каждому автору в диапазоне от 2 до 5, используя Python библиотеку Faker.\n",
    "\n",
    "### Описание таблиц\n",
    "Имеется часть модель данных для управления библиотекой (из Лабораторной работы No6).\n",
    "### Таблица “authors” (Авторы)\n",
    "Хранит информацию об авторах книг.\n",
    "\n",
    "| Столбец    | Описание                                        |\n",
    "|------------|-------------------------------------------------|\n",
    "| author_id  | Первичный ключ, уникальный идентификатор автора |\n",
    "| first_name | Имя автора (обязательное поле)                  |\n",
    "| last_name  | Фамилия автора (обязательное поле)              |\n",
    "| birth_date | Дата рождения автора (может быть NULL)          |\n",
    "| country    | Страна происхождения автора (может быть NULL)   |\n",
    "\n",
    "### Таблица “books” (Книги)\n",
    "Содержит данные о книгах в библиотеке.\n",
    "\n",
    "| Столбец          | Описание                                                     |\n",
    "|------------------|--------------------------------------------------------------|\n",
    "| book_id          | Первичный ключ, уникальный идентификатор книги               |\n",
    "| title            | Название книги (обязательное поле)                           |\n",
    "| author_id        | Внешний ключ, ссылается на `authors.author_id`               |\n",
    "| publication_year | Год публикации книги                                         |\n",
    "| isbn             | Уникальный ISBN книги                                        |\n",
    "| genre            | Жанр книги (например, \"Фэнтези\", \"Научная литература\")       |\n",
    "| page_count       | Количество страниц в книге                                   |\n",
    "| available_copies | Количество доступных для выдачи экземпляров (по умолчанию 1) |\n",
    "\n",
    "### SQL\n",
    "```sql\n",
    "CREATE TABLE authors (\n",
    "author_id SERIAL PRIMARY KEY,\n",
    "first_name VARCHAR(100) NOT NULL,\n",
    "last_name VARCHAR(100) NOT NULL,\n",
    "birth_date DATE,\n",
    "country VARCHAR(100)\n",
    ");\n",
    "\n",
    "CREATE TABLE books (\n",
    "book_id SERIAL PRIMARY KEY,\n",
    "title VARCHAR(255) NOT NULL,\n",
    "author_id INTEGER REFERENCES authors(author_id),\n",
    "publication_year INTEGER,\n",
    "isbn VARCHAR(20) UNIQUE,\n",
    "genre VARCHAR(100),\n",
    "page_count INTEGER,\n",
    "available_copies INTEGER DEFAULT 1\n",
    ");\n",
    "```"
   ],
   "id": "b1633a6707629fe1"
  },
  {
   "cell_type": "code",
   "id": "initial_id",
   "metadata": {
    "collapsed": true,
    "ExecuteTime": {
     "end_time": "2025-07-06T19:52:26.531263Z",
     "start_time": "2025-07-06T19:52:26.512824Z"
    }
   },
   "source": [
    "import psycopg2\n",
    "import random\n",
    "from faker import Faker\n",
    "from tabulate import tabulate\n",
    "\n",
    "fake = Faker('ru_RU')\n",
    "data_count = 1000\n",
    "\n",
    "### Подключение к PostgreSQL\n",
    "connection = psycopg2.connect(\n",
    "    host=\"localhost\",\n",
    "    port=\"5432\",\n",
    "    database=\"\",\n",
    "    user=\"\",\n",
    "    password=\"\",\n",
    ")\n",
    "### Создание курсора\n",
    "cursor = connection.cursor()\n",
    "\n",
    "print(\"Подключение к PostgreSQL успешно.\")"
   ],
   "outputs": [
    {
     "name": "stdout",
     "output_type": "stream",
     "text": [
      "Подключение к PostgreSQL успешно.\n"
     ]
    }
   ],
   "execution_count": 171
  },
  {
   "metadata": {},
   "cell_type": "markdown",
   "source": "## Создание схемы",
   "id": "d96399dd789ccf22"
  },
  {
   "metadata": {
    "ExecuteTime": {
     "end_time": "2025-07-06T19:52:26.540015Z",
     "start_time": "2025-07-06T19:52:26.535938Z"
    }
   },
   "cell_type": "code",
   "source": [
    "cursor.execute(\"CREATE SCHEMA IF NOT EXISTS ivan_patakin;\")\n",
    "connection.commit()\n",
    "cursor.execute(\"SET search_path TO ivan_patakin;\")\n",
    "\n",
    "print(\"Схема 'ivan_patakin' создана. Используется в текущем сеансе.\")"
   ],
   "id": "50f4f0d41efae654",
   "outputs": [
    {
     "name": "stdout",
     "output_type": "stream",
     "text": [
      "Схема 'ivan_patakin' создана. Используется в текущем сеансе.\n"
     ]
    }
   ],
   "execution_count": 172
  },
  {
   "metadata": {},
   "cell_type": "markdown",
   "source": "## Создаем таблицы",
   "id": "95d577d00c840018"
  },
  {
   "metadata": {
    "ExecuteTime": {
     "end_time": "2025-07-06T19:52:26.596446Z",
     "start_time": "2025-07-06T19:52:26.588187Z"
    }
   },
   "cell_type": "code",
   "source": [
    "tables = [\n",
    "    \"\"\"\n",
    "    CREATE TABLE authors (\n",
    "        author_id SERIAL PRIMARY KEY,\n",
    "        first_name VARCHAR(100) NOT NULL,\n",
    "        last_name VARCHAR(100) NOT NULL,\n",
    "        birth_date DATE,\n",
    "        country VARCHAR(100)\n",
    "    );\n",
    "    \"\"\",\n",
    "    \"\"\"\n",
    "    CREATE TABLE books (\n",
    "        book_id SERIAL PRIMARY KEY,\n",
    "        title VARCHAR(255) NOT NULL,\n",
    "        author_id INTEGER REFERENCES authors(author_id),\n",
    "        publication_year INTEGER,\n",
    "        isbn VARCHAR(20) UNIQUE,\n",
    "        genre VARCHAR(100),\n",
    "        page_count INTEGER,\n",
    "        available_copies INTEGER DEFAULT 1\n",
    "    );\n",
    "    \"\"\"\n",
    "]\n",
    "\n",
    "for table in tables:\n",
    "    cursor.execute(table)\n",
    "connection.commit()\n",
    "\n",
    "print(\"Таблицы успешно созданы.\")"
   ],
   "id": "c8f06a5b66c8fd6d",
   "outputs": [
    {
     "name": "stdout",
     "output_type": "stream",
     "text": [
      "Таблицы успешно созданы.\n"
     ]
    }
   ],
   "execution_count": 173
  },
  {
   "metadata": {},
   "cell_type": "markdown",
   "source": [
    "## Генерация данных для таблиц\n",
    "### Генерация авторов"
   ],
   "id": "57548e8e9118aee7"
  },
  {
   "metadata": {
    "ExecuteTime": {
     "end_time": "2025-07-06T19:52:26.701591Z",
     "start_time": "2025-07-06T19:52:26.638653Z"
    }
   },
   "cell_type": "code",
   "source": [
    "authors_data = []\n",
    "countries = [\"Россия\", \"США\", \"Великобритания\", \"Франция\", \"Германия\", \"Япония\", \"Китай\", \"Индия\", \"Канада\", \"Австралия\"]\n",
    "\n",
    "for _ in range(data_count):\n",
    "    first_name = fake.first_name()\n",
    "    last_name = fake.last_name()\n",
    "    birth_date = fake.date_of_birth(minimum_age=20, maximum_age=100)\n",
    "    country = random.choice(countries)\n",
    "    authors_data.append((first_name, last_name, birth_date, country))\n",
    "\n",
    "cursor.executemany(\n",
    "    \"INSERT INTO authors (first_name, last_name, birth_date, country) VALUES (%s, %s, %s, %s)\",\n",
    "    authors_data\n",
    ")\n",
    "connection.commit()\n",
    "print(\"Авторы: данные сгенерированы и загружены.\")"
   ],
   "id": "d84433cf9f2af586",
   "outputs": [
    {
     "name": "stdout",
     "output_type": "stream",
     "text": [
      "Авторы: данные сгенерированы и загружены.\n"
     ]
    }
   ],
   "execution_count": 174
  },
  {
   "metadata": {},
   "cell_type": "markdown",
   "source": "### Генерация книг",
   "id": "ee092e0f4969c936"
  },
  {
   "metadata": {
    "ExecuteTime": {
     "end_time": "2025-07-06T19:52:27.064883Z",
     "start_time": "2025-07-06T19:52:26.710163Z"
    }
   },
   "cell_type": "code",
   "source": [
    "books_data = []\n",
    "genres = [\"Фэнтези\", \"Детектив\", \"Роман\", \"Научная литература\", \"История\", \"Приключения\", \"Фантастика\", \"Поэзия\", \"Детская литература\", \"Биография\"]\n",
    "\n",
    "for author_id in range(1, data_count + 1):\n",
    "    num_books = random.randint(2, 5)\n",
    "    for _ in range(num_books):\n",
    "        title = fake.catch_phrase()\n",
    "        publication_year = random.randint(1950, 2023)\n",
    "        isbn = f\"978-{random.randint(0, 9)}-{random.randint(10000, 99999)}-{random.randint(100, 999)}-{random.randint(0, 9)}\"\n",
    "        genre = random.choice(genres)\n",
    "        page_count = random.randint(50, 1500)\n",
    "        available_copies = random.randint(1, 10)\n",
    "        books_data.append((title, author_id, publication_year, isbn, genre, page_count, available_copies))\n",
    "\n",
    "cursor.executemany(\n",
    "    \"INSERT INTO books (title, author_id, publication_year, isbn, genre, page_count, available_copies) VALUES (%s, %s, %s, %s, %s, %s, %s)\",\n",
    "    books_data\n",
    ")\n",
    "connection.commit()\n",
    "print(\"Книги: данные сгенерированы и загружены.\")"
   ],
   "id": "a00f8a6edb42ccd6",
   "outputs": [
    {
     "name": "stdout",
     "output_type": "stream",
     "text": [
      "Книги: данные сгенерированы и загружены.\n"
     ]
    }
   ],
   "execution_count": 175
  },
  {
   "metadata": {},
   "cell_type": "markdown",
   "source": "### Вывод итогового количества записей в таблицах",
   "id": "be49cf57e18a4e3d"
  },
  {
   "metadata": {
    "ExecuteTime": {
     "end_time": "2025-07-06T19:52:27.075906Z",
     "start_time": "2025-07-06T19:52:27.072619Z"
    }
   },
   "cell_type": "code",
   "source": [
    "cursor.execute(\"SELECT COUNT(*) FROM authors\")\n",
    "authors_count = cursor.fetchone()[0]\n",
    "\n",
    "cursor.execute(\"SELECT COUNT(*) FROM books\")\n",
    "books_count = cursor.fetchone()[0]\n",
    "\n",
    "print(\"\\n=== Итоговое количество записей в таблицах ===\")\n",
    "print(f\"Авторы: {authors_count}\")\n",
    "print(f\"Книги: {books_count}\")"
   ],
   "id": "3de8d6ef901806ca",
   "outputs": [
    {
     "name": "stdout",
     "output_type": "stream",
     "text": [
      "\n",
      "=== Итоговое количество записей в таблицах ===\n",
      "Авторы: 1000\n",
      "Книги: 3511\n"
     ]
    }
   ],
   "execution_count": 176
  },
  {
   "metadata": {},
   "cell_type": "markdown",
   "source": [
    "### Вывод данных из таблиц\n",
    "Для упрощения вывод ограничен 10 записями из таблиц\n",
    "#### Вывод данных из таблицы authors"
   ],
   "id": "24afe6bb5db2479"
  },
  {
   "metadata": {
    "ExecuteTime": {
     "end_time": "2025-07-06T19:52:27.128868Z",
     "start_time": "2025-07-06T19:52:27.123179Z"
    }
   },
   "cell_type": "code",
   "source": [
    "cursor.execute(\"SELECT * FROM authors LIMIT 10;\")\n",
    "authors = cursor.fetchall()\n",
    "headers = [desc[0] for desc in cursor.description]\n",
    "\n",
    "print(tabulate(authors, headers=headers, tablefmt=\"grid\"))"
   ],
   "id": "67e40ce9d3cd1323",
   "outputs": [
    {
     "name": "stdout",
     "output_type": "stream",
     "text": [
      "+-------------+--------------+-------------+--------------+-----------+\n",
      "|   author_id | first_name   | last_name   | birth_date   | country   |\n",
      "+=============+==============+=============+==============+===========+\n",
      "|           1 | Исай         | Бирюков     | 1936-03-07   | Канада    |\n",
      "+-------------+--------------+-------------+--------------+-----------+\n",
      "|           2 | Селиверст    | Маслова     | 1997-04-18   | Россия    |\n",
      "+-------------+--------------+-------------+--------------+-----------+\n",
      "|           3 | Парфен       | Веселов     | 1975-10-31   | Индия     |\n",
      "+-------------+--------------+-------------+--------------+-----------+\n",
      "|           4 | Вячеслав     | Дмитриева   | 1985-10-15   | Индия     |\n",
      "+-------------+--------------+-------------+--------------+-----------+\n",
      "|           5 | Сила         | Блохин      | 1982-03-01   | Россия    |\n",
      "+-------------+--------------+-------------+--------------+-----------+\n",
      "|           6 | Радим        | Суворов     | 1928-07-22   | Германия  |\n",
      "+-------------+--------------+-------------+--------------+-----------+\n",
      "|           7 | Денис        | Макарова    | 1927-06-28   | Франция   |\n",
      "+-------------+--------------+-------------+--------------+-----------+\n",
      "|           8 | Мирослав     | Павлова     | 1980-07-20   | Япония    |\n",
      "+-------------+--------------+-------------+--------------+-----------+\n",
      "|           9 | Трофим       | Евсеев      | 1987-12-21   | Австралия |\n",
      "+-------------+--------------+-------------+--------------+-----------+\n",
      "|          10 | Ольга        | Тимофеев    | 1964-09-22   | Австралия |\n",
      "+-------------+--------------+-------------+--------------+-----------+\n"
     ]
    }
   ],
   "execution_count": 177
  },
  {
   "metadata": {},
   "cell_type": "markdown",
   "source": "#### Вывод данных из таблицы books",
   "id": "9e27fadb83d05778"
  },
  {
   "metadata": {
    "ExecuteTime": {
     "end_time": "2025-07-06T19:52:27.210370Z",
     "start_time": "2025-07-06T19:52:27.205843Z"
    }
   },
   "cell_type": "code",
   "source": [
    "cursor.execute(\"SELECT * FROM books LIMIT 10;\")\n",
    "books = cursor.fetchall()\n",
    "headers = [desc[0] for desc in cursor.description]\n",
    "\n",
    "print(tabulate(books, headers=headers, tablefmt=\"grid\"))"
   ],
   "id": "cb0b2844976ad83e",
   "outputs": [
    {
     "name": "stdout",
     "output_type": "stream",
     "text": [
      "+-----------+--------------------------------------------------------------+-------------+--------------------+-------------------+--------------------+--------------+--------------------+\n",
      "|   book_id | title                                                        |   author_id |   publication_year | isbn              | genre              |   page_count |   available_copies |\n",
      "+===========+==============================================================+=============+====================+===================+====================+==============+====================+\n",
      "|         1 | Межгрупповое и заметное оборудование                         |           1 |               1955 | 978-1-34487-261-7 | Поэзия             |         1059 |                  4 |\n",
      "+-----------+--------------------------------------------------------------+-------------+--------------------+-------------------+--------------------+--------------+--------------------+\n",
      "|         2 | Управляемая и приоритетная нейронная сеть                    |           1 |               1993 | 978-6-12890-879-3 | Детектив           |          777 |                  5 |\n",
      "+-----------+--------------------------------------------------------------+-------------+--------------------+-------------------+--------------------+--------------+--------------------+\n",
      "|         3 | Стратегическое и итернациональное совершенствование процесса |           1 |               2021 | 978-8-64950-106-7 | Фэнтези            |          344 |                  2 |\n",
      "+-----------+--------------------------------------------------------------+-------------+--------------------+-------------------+--------------------+--------------+--------------------+\n",
      "|         4 | Реконструируемый и веб-ориентированный набор инструкций      |           2 |               2008 | 978-7-47782-245-5 | Научная литература |          875 |                  4 |\n",
      "+-----------+--------------------------------------------------------------+-------------+--------------------+-------------------+--------------------+--------------+--------------------+\n",
      "|         5 | Новый и мультимедийный подход                                |           2 |               2014 | 978-7-20785-246-9 | Приключения        |          324 |                  7 |\n",
      "+-----------+--------------------------------------------------------------+-------------+--------------------+-------------------+--------------------+--------------+--------------------+\n",
      "|         6 | Синхронизированная и последовательная эмуляция               |           2 |               1977 | 978-5-18119-846-8 | История            |          363 |                  4 |\n",
      "+-----------+--------------------------------------------------------------+-------------+--------------------+-------------------+--------------------+--------------+--------------------+\n",
      "|         7 | Безопасная и широкая проекция                                |           2 |               2003 | 978-2-60155-337-6 | История            |          140 |                  1 |\n",
      "+-----------+--------------------------------------------------------------+-------------+--------------------+-------------------+--------------------+--------------+--------------------+\n",
      "|         8 | Функциональное и широкое ядро                                |           2 |               1953 | 978-4-56640-718-5 | Поэзия             |          943 |                  6 |\n",
      "+-----------+--------------------------------------------------------------+-------------+--------------------+-------------------+--------------------+--------------+--------------------+\n",
      "|         9 | Сетевое и третичное шифрование                               |           3 |               2010 | 978-6-56541-433-8 | Фантастика         |          329 |                  4 |\n",
      "+-----------+--------------------------------------------------------------+-------------+--------------------+-------------------+--------------------+--------------+--------------------+\n",
      "|        10 | Сетевое и логистическое интернет-решение                     |           3 |               1950 | 978-1-28969-401-0 | Приключения        |           79 |                  6 |\n",
      "+-----------+--------------------------------------------------------------+-------------+--------------------+-------------------+--------------------+--------------+--------------------+\n"
     ]
    }
   ],
   "execution_count": 178
  },
  {
   "metadata": {},
   "cell_type": "markdown",
   "source": "#### Вывод данных колличества книг у автора",
   "id": "33d0a7724a8870a8"
  },
  {
   "metadata": {
    "ExecuteTime": {
     "end_time": "2025-07-06T19:52:27.290686Z",
     "start_time": "2025-07-06T19:52:27.282066Z"
    }
   },
   "cell_type": "code",
   "source": [
    "cursor.execute(\"\"\"\n",
    "CREATE VIEW author_book_count AS\n",
    "SELECT\n",
    "    a.author_id,\n",
    "    a.first_name,\n",
    "    a.last_name,\n",
    "    COUNT(b.book_id) AS book_count\n",
    "FROM\n",
    "    authors a\n",
    "LEFT JOIN\n",
    "    books b\n",
    "ON\n",
    "    a.author_id = b.author_id\n",
    "GROUP BY\n",
    "    a.author_id, a.first_name, a.last_name;\n",
    "\"\"\")\n",
    "\n",
    "connection.commit()\n",
    "\n",
    "cursor.execute(\"SELECT * FROM author_book_count LIMIT 10;\")\n",
    "books = cursor.fetchall()\n",
    "headers = [desc[0] for desc in cursor.description]\n",
    "\n",
    "print(tabulate(books, headers=headers, tablefmt=\"grid\"))\n"
   ],
   "id": "339be7578263a41d",
   "outputs": [
    {
     "name": "stdout",
     "output_type": "stream",
     "text": [
      "+-------------+--------------+-------------+--------------+\n",
      "|   author_id | first_name   | last_name   |   book_count |\n",
      "+=============+==============+=============+==============+\n",
      "|         652 | Будимир      | Белозеров   |            5 |\n",
      "+-------------+--------------+-------------+--------------+\n",
      "|         273 | Твердислав   | Трофимов    |            4 |\n",
      "+-------------+--------------+-------------+--------------+\n",
      "|          51 | Ратибор      | Захаров     |            5 |\n",
      "+-------------+--------------+-------------+--------------+\n",
      "|         951 | Святополк    | Селезнев    |            4 |\n",
      "+-------------+--------------+-------------+--------------+\n",
      "|         839 | Эмиль        | Вишняков    |            5 |\n",
      "+-------------+--------------+-------------+--------------+\n",
      "|          70 | Мир          | Горбачева   |            4 |\n",
      "+-------------+--------------+-------------+--------------+\n",
      "|         350 | Радислав     | Степанов    |            3 |\n",
      "+-------------+--------------+-------------+--------------+\n",
      "|         758 | Руслан       | Большакова  |            4 |\n",
      "+-------------+--------------+-------------+--------------+\n",
      "|         539 | Савва        | Исаева      |            3 |\n",
      "+-------------+--------------+-------------+--------------+\n",
      "|         874 | Лев          | Алексеева   |            3 |\n",
      "+-------------+--------------+-------------+--------------+\n"
     ]
    }
   ],
   "execution_count": 179
  },
  {
   "metadata": {},
   "cell_type": "markdown",
   "source": "## Удаление таблиц",
   "id": "bc9da036c49128de"
  },
  {
   "metadata": {
    "ExecuteTime": {
     "end_time": "2025-07-06T19:52:27.351706Z",
     "start_time": "2025-07-06T19:52:27.344189Z"
    }
   },
   "cell_type": "code",
   "source": [
    "tables_to_drop = [\n",
    "    'authors',\n",
    "    'books'\n",
    "]\n",
    "\n",
    "cursor.execute(\"DROP VIEW IF EXISTS author_book_count;\")\n",
    "\n",
    "for table in tables_to_drop:\n",
    "    cursor.execute(f\"DROP TABLE IF EXISTS {table} CASCADE;\")\n",
    "\n",
    "connection.commit()\n",
    "print(\"Таблицы успешно удалены.\")"
   ],
   "id": "8df6a12bee53229",
   "outputs": [
    {
     "name": "stdout",
     "output_type": "stream",
     "text": [
      "Таблицы успешно удалены.\n"
     ]
    }
   ],
   "execution_count": 180
  },
  {
   "metadata": {},
   "cell_type": "markdown",
   "source": "### Закрытие соединения",
   "id": "89133e89b14f5cc9"
  },
  {
   "metadata": {
    "ExecuteTime": {
     "end_time": "2025-07-06T19:52:27.401849Z",
     "start_time": "2025-07-06T19:52:27.395592Z"
    }
   },
   "cell_type": "code",
   "source": [
    "cursor.close()\n",
    "connection.close()\n",
    "\n",
    "print(\"Соединение с PostgreSQL закрыто.\")"
   ],
   "id": "f2e176b2862669a7",
   "outputs": [
    {
     "name": "stdout",
     "output_type": "stream",
     "text": [
      "Соединение с PostgreSQL закрыто.\n"
     ]
    }
   ],
   "execution_count": 181
  }
 ],
 "metadata": {
  "kernelspec": {
   "display_name": "Python 3",
   "language": "python",
   "name": "python3"
  },
  "language_info": {
   "codemirror_mode": {
    "name": "ipython",
    "version": 2
   },
   "file_extension": ".py",
   "mimetype": "text/x-python",
   "name": "python",
   "nbconvert_exporter": "python",
   "pygments_lexer": "ipython2",
   "version": "2.7.6"
  }
 },
 "nbformat": 4,
 "nbformat_minor": 5
}
