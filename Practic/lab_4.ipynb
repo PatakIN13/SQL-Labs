{
 "cells": [
  {
   "metadata": {},
   "cell_type": "markdown",
   "source": [
    "# Лабораторная работа No4\n",
    "## Задача:\n",
    "### 1. Адаптируйте pizza-скрипт для базы данных PostgreSQL.\n",
    "Скрип аналогичен скрипту из лабораторной работы No2.\n",
    "Если есть необходимость, то вы можете применить его заново, предварительно удалив таблицы командой.  \n",
    "![Диаграмма](media/lab_2_1.png)\n",
    "#### Таблица `pizzeria` (Справочник пиццерий - ресторанов)\n",
    "- поле `id` - первичный ключ\n",
    "- поле `name` - имя пиццы\n",
    "- поле `rating` - средний рейтинг ресторана (от 0 до 5 звезд)\n",
    "#### Таблица `person` (Справочник людей кто любит пиццу)\n",
    "- поле `id` - первичный ключ\n",
    "- поле `name` - имя человека\n",
    "- поле `age` - возраст\n",
    "- поле `gender` - пол\n",
    "- поле `address` - адрес проживания\n",
    "#### Таблица `menu` (Справочник доступных меню с ценами и конкретными видами\n",
    "пицц)\n",
    "- поле `id` - первичный ключ\n",
    "- поле `pizzeria_id` - ссылка на пиццерию\n",
    "- поле `pizza_name` - название пиццы\n",
    "- поле `price` - цена пиццы\n",
    "#### Таблица `person_visits` (Операционная таблица с информацией о посещении\n",
    "людей конкретных пиццерий)\n",
    "- поле `id` - первичный ключ\n",
    "- поле `person_id` - ссылка на посетившего человека\n",
    "- поле `pizzeria_id` - ссылка на ресторан\n",
    "- поле `visit_date` - дата (например 2022-01-01) визита\n",
    "#### Таблица `person_order` (Операционная таблица с информацией о покупках пицц\n",
    "людьми)\n",
    "- поле `id` - первичный ключ\n",
    "- поле `person_id` - ссылка на человека, который приобрел пиццу\n",
    "- поле `menu_id` - ссылка на меню\n",
    "- поле `order_date` - дата (например 2022-01-01) покупки\n",
    "\n",
    "### 2. Необходимо написать SQL запросы к следующим 10 задачам ниже.\n",
    "Задание считается выполненным - если SQL запрос написан синтаксически корректно и возвращает ожидаемые данные на условие задачи.\n",
    "- Найти все возможные комбинации людей и пиццерий, чтобы понять потенциальные варианты посещений.\n",
    "- Используя оператор `NATURAL JOIN`, написать SQL запрос для получения список пицц и их цен, которые производятся в пиццериях\n",
    "- Вывести список людей и их заказы с деталями пиццы.\n",
    "- Используя оператор `EXISTS`, найти людей, которые сделали заказы в пиццериях с рейтингом выше 4.5.\n",
    "- Вывести всех клиентов и их соответствующие посещения пиццерий, даже если клиент не посещал пиццерию\n",
    "- Вывести все пиццерии и количество посещений по каждой, даже если посещений не было\n",
    "- Используя оператор `LATERAL JOIN`, для каждого человека вывести 3 самых дорогих пиццы, которые он заказывал.\n",
    "- Используя оператор `LATERAL JOIN`, Для каждой пиццерии найти 2 самых популярных пиццы (по количеству заказов) и показать их названия с количеством заказов.\n",
    "- Используя оператор `WITH` (CTE), выведите уникальные семантические пары клиентов, родной город которых один и тот же. Результат необходимо отсортировать по первому столбцу. Семантически эквивалентная пара является пара клиентов например (Иванов, Петров) = (Петров, Иванов), в этом случае должна быть выведена одна из пар."
   ],
   "id": "f5bcdcea6847d814"
  },
  {
   "metadata": {},
   "cell_type": "markdown",
   "source": "## Создаем подключение к БД",
   "id": "66f461e2c20526a2"
  },
  {
   "cell_type": "code",
   "id": "initial_id",
   "metadata": {
    "collapsed": true,
    "ExecuteTime": {
     "end_time": "2025-05-21T05:36:12.751100Z",
     "start_time": "2025-05-21T05:36:12.707511Z"
    }
   },
   "source": [
    "import psycopg2\n",
    "from tabulate import tabulate\n",
    "\n",
    "### Подключение к PostgreSQL\n",
    "connection = psycopg2.connect(\n",
    "    host=\"localhost\",\n",
    "    port=\"5432\",\n",
    "    database=\"\",\n",
    "    user=\"\",\n",
    "    password=\"\",\n",
    ")\n",
    "### Создание курсора\n",
    "cursor = connection.cursor()\n",
    "\n",
    "print(\"Подключение к PostgreSQL успешно.\")"
   ],
   "outputs": [
    {
     "name": "stdout",
     "output_type": "stream",
     "text": [
      "Подключение к PostgreSQL успешно.\n"
     ]
    }
   ],
   "execution_count": 54
  },
  {
   "metadata": {},
   "cell_type": "markdown",
   "source": [
    "## Создание схемы\n",
    "### !Отключено, для данной работы схема создается в скрипте pizza_model.sql"
   ],
   "id": "53001777392757cc"
  },
  {
   "metadata": {
    "ExecuteTime": {
     "end_time": "2025-05-21T05:36:12.775290Z",
     "start_time": "2025-05-21T05:36:12.771119Z"
    }
   },
   "cell_type": "code",
   "source": [
    "#cursor.execute(\"CREATE SCHEMA IF NOT EXISTS ivan_patakin;\")\n",
    "#connection.commit()\n",
    "\n",
    "#print(\"Схема 'ivan_patakin' создана.\")"
   ],
   "id": "b5252dc1a5f9f026",
   "outputs": [],
   "execution_count": 55
  },
  {
   "metadata": {},
   "cell_type": "markdown",
   "source": "## Выполняем pizza-скрипт для создания таблиц",
   "id": "5fbf3ce0c4ec0861"
  },
  {
   "metadata": {},
   "cell_type": "markdown",
   "source": [
    "pizza_model был немного изменен в lab_2:\n",
    "1. Добавлено создание схемы, если она не создана.\n",
    "2. Добавлен автоинкремент ко всем таблицам и восстановлена последовательность в соответствии с данными уже находящимися в таблице"
   ],
   "id": "a040189abecb6934"
  },
  {
   "metadata": {
    "ExecuteTime": {
     "end_time": "2025-05-21T05:36:13.017186Z",
     "start_time": "2025-05-21T05:36:12.880259Z"
    }
   },
   "cell_type": "code",
   "source": [
    "with open('Data/Lab2/pizza_model.sql', 'r', encoding='utf-8') as file:\n",
    "    sql_script = file.read()\n",
    "    \n",
    "cursor.execute(sql_script)\n",
    "\n",
    "connection.commit()\n",
    "\n",
    "print(\"pizza-скрипт выполнен\")"
   ],
   "id": "a6da8888815f04d5",
   "outputs": [
    {
     "name": "stdout",
     "output_type": "stream",
     "text": [
      "pizza-скрипт выполнен\n"
     ]
    }
   ],
   "execution_count": 56
  },
  {
   "metadata": {},
   "cell_type": "markdown",
   "source": "## SQL запросы:",
   "id": "54e6e8c4f9da857b"
  },
  {
   "metadata": {},
   "cell_type": "markdown",
   "source": "### SQL запрос, все возможные комбинации людей и пиццерий, чтобы понять потенциальные варианты посещений.",
   "id": "e4f3c52762584322"
  },
  {
   "metadata": {
    "ExecuteTime": {
     "end_time": "2025-05-21T05:36:13.217023Z",
     "start_time": "2025-05-21T05:36:13.199839Z"
    }
   },
   "cell_type": "code",
   "source": [
    "cursor.execute(\"\"\"\n",
    "    SELECT \n",
    "        person.name AS person_name, \n",
    "        pizzeria.name AS pizzeria_name\n",
    "    FROM ivan_patakin.person\n",
    "    CROSS JOIN ivan_patakin.pizzeria\n",
    "    ORDER BY person.name, pizzeria.name;\n",
    "\"\"\")\n",
    "rows = cursor.fetchall()\n",
    "print(\"Все возможные комбинации людей и пиццерий:\")\n",
    "headers = [\"Имя\", \"Название пиццерии\"]\n",
    "print(tabulate(rows, headers=headers, tablefmt=\"grid\"))"
   ],
   "id": "61616f3f651d738c",
   "outputs": [
    {
     "name": "stdout",
     "output_type": "stream",
     "text": [
      "Все возможные комбинации людей и пиццерий:\n",
      "+---------+---------------------+\n",
      "| Имя     | Название пиццерии   |\n",
      "+=========+=====================+\n",
      "| Andrey  | Best Pizza          |\n",
      "+---------+---------------------+\n",
      "| Andrey  | DinoPizza           |\n",
      "+---------+---------------------+\n",
      "| Andrey  | DoDo Pizza          |\n",
      "+---------+---------------------+\n",
      "| Andrey  | Dominos             |\n",
      "+---------+---------------------+\n",
      "| Andrey  | Papa Johns          |\n",
      "+---------+---------------------+\n",
      "| Andrey  | Pizza Hut           |\n",
      "+---------+---------------------+\n",
      "| Anna    | Best Pizza          |\n",
      "+---------+---------------------+\n",
      "| Anna    | DinoPizza           |\n",
      "+---------+---------------------+\n",
      "| Anna    | DoDo Pizza          |\n",
      "+---------+---------------------+\n",
      "| Anna    | Dominos             |\n",
      "+---------+---------------------+\n",
      "| Anna    | Papa Johns          |\n",
      "+---------+---------------------+\n",
      "| Anna    | Pizza Hut           |\n",
      "+---------+---------------------+\n",
      "| Denis   | Best Pizza          |\n",
      "+---------+---------------------+\n",
      "| Denis   | DinoPizza           |\n",
      "+---------+---------------------+\n",
      "| Denis   | DoDo Pizza          |\n",
      "+---------+---------------------+\n",
      "| Denis   | Dominos             |\n",
      "+---------+---------------------+\n",
      "| Denis   | Papa Johns          |\n",
      "+---------+---------------------+\n",
      "| Denis   | Pizza Hut           |\n",
      "+---------+---------------------+\n",
      "| Dmitriy | Best Pizza          |\n",
      "+---------+---------------------+\n",
      "| Dmitriy | DinoPizza           |\n",
      "+---------+---------------------+\n",
      "| Dmitriy | DoDo Pizza          |\n",
      "+---------+---------------------+\n",
      "| Dmitriy | Dominos             |\n",
      "+---------+---------------------+\n",
      "| Dmitriy | Papa Johns          |\n",
      "+---------+---------------------+\n",
      "| Dmitriy | Pizza Hut           |\n",
      "+---------+---------------------+\n",
      "| Elvira  | Best Pizza          |\n",
      "+---------+---------------------+\n",
      "| Elvira  | DinoPizza           |\n",
      "+---------+---------------------+\n",
      "| Elvira  | DoDo Pizza          |\n",
      "+---------+---------------------+\n",
      "| Elvira  | Dominos             |\n",
      "+---------+---------------------+\n",
      "| Elvira  | Papa Johns          |\n",
      "+---------+---------------------+\n",
      "| Elvira  | Pizza Hut           |\n",
      "+---------+---------------------+\n",
      "| Irina   | Best Pizza          |\n",
      "+---------+---------------------+\n",
      "| Irina   | DinoPizza           |\n",
      "+---------+---------------------+\n",
      "| Irina   | DoDo Pizza          |\n",
      "+---------+---------------------+\n",
      "| Irina   | Dominos             |\n",
      "+---------+---------------------+\n",
      "| Irina   | Papa Johns          |\n",
      "+---------+---------------------+\n",
      "| Irina   | Pizza Hut           |\n",
      "+---------+---------------------+\n",
      "| Kate    | Best Pizza          |\n",
      "+---------+---------------------+\n",
      "| Kate    | DinoPizza           |\n",
      "+---------+---------------------+\n",
      "| Kate    | DoDo Pizza          |\n",
      "+---------+---------------------+\n",
      "| Kate    | Dominos             |\n",
      "+---------+---------------------+\n",
      "| Kate    | Papa Johns          |\n",
      "+---------+---------------------+\n",
      "| Kate    | Pizza Hut           |\n",
      "+---------+---------------------+\n",
      "| Nataly  | Best Pizza          |\n",
      "+---------+---------------------+\n",
      "| Nataly  | DinoPizza           |\n",
      "+---------+---------------------+\n",
      "| Nataly  | DoDo Pizza          |\n",
      "+---------+---------------------+\n",
      "| Nataly  | Dominos             |\n",
      "+---------+---------------------+\n",
      "| Nataly  | Papa Johns          |\n",
      "+---------+---------------------+\n",
      "| Nataly  | Pizza Hut           |\n",
      "+---------+---------------------+\n",
      "| Peter   | Best Pizza          |\n",
      "+---------+---------------------+\n",
      "| Peter   | DinoPizza           |\n",
      "+---------+---------------------+\n",
      "| Peter   | DoDo Pizza          |\n",
      "+---------+---------------------+\n",
      "| Peter   | Dominos             |\n",
      "+---------+---------------------+\n",
      "| Peter   | Papa Johns          |\n",
      "+---------+---------------------+\n",
      "| Peter   | Pizza Hut           |\n",
      "+---------+---------------------+\n"
     ]
    }
   ],
   "execution_count": 57
  },
  {
   "metadata": {},
   "cell_type": "markdown",
   "source": "### SQL запрос, используя оператор `NATURAL JOIN` для получения список пицц и их цен, которые производятся в пиццериях",
   "id": "c13c72230f3b2397"
  },
  {
   "metadata": {
    "ExecuteTime": {
     "end_time": "2025-05-21T05:36:13.313814Z",
     "start_time": "2025-05-21T05:36:13.301592Z"
    }
   },
   "cell_type": "code",
   "source": [
    "cursor.execute(\"\"\"\n",
    "    SELECT pizza_name, price\n",
    "    FROM ivan_patakin.menu\n",
    "    NATURAL JOIN ivan_patakin.pizzeria;\n",
    "\"\"\")\n",
    "rows = cursor.fetchall()\n",
    "print(\"Список пицц и их цен:\")\n",
    "headers = [\"Название пиццы\", \"Цена\"]\n",
    "print(tabulate(rows, headers=headers, tablefmt=\"grid\"))"
   ],
   "id": "e6811d34bf4879d8",
   "outputs": [
    {
     "name": "stdout",
     "output_type": "stream",
     "text": [
      "Список пицц и их цен:\n",
      "+------------------+--------+\n",
      "| Название пиццы   |   Цена |\n",
      "+==================+========+\n",
      "| cheese pizza     |    900 |\n",
      "+------------------+--------+\n",
      "| pepperoni pizza  |   1200 |\n",
      "+------------------+--------+\n",
      "| sausage pizza    |   1200 |\n",
      "+------------------+--------+\n",
      "| supreme pizza    |   1200 |\n",
      "+------------------+--------+\n",
      "| cheese pizza     |    950 |\n",
      "+------------------+--------+\n",
      "| pepperoni pizza  |    800 |\n",
      "+------------------+--------+\n"
     ]
    }
   ],
   "execution_count": 58
  },
  {
   "metadata": {},
   "cell_type": "markdown",
   "source": "### SQL запрос, список людей и их заказы с деталями пиццы",
   "id": "7be7f635af6bfdf0"
  },
  {
   "metadata": {
    "ExecuteTime": {
     "end_time": "2025-05-21T05:36:13.449372Z",
     "start_time": "2025-05-21T05:36:13.434901Z"
    }
   },
   "cell_type": "code",
   "source": [
    "cursor.execute(\"\"\"\n",
    "    SELECT \n",
    "        person.name AS person_name, \n",
    "        menu.pizza_name, \n",
    "        menu.price, \n",
    "        pizzeria.name AS pizzeria_name,\n",
    "        person_order.order_date\n",
    "    FROM ivan_patakin.person\n",
    "    JOIN ivan_patakin.person_order ON person.id = person_order.person_id\n",
    "    JOIN ivan_patakin.menu ON person_order.menu_id = menu.id\n",
    "    JOIN ivan_patakin.pizzeria ON menu.pizzeria_id = pizzeria.id;\n",
    "\"\"\")\n",
    "rows = cursor.fetchall()\n",
    "print(\"Список людей, их заказы с деталями пиццы и названием пиццерии:\")\n",
    "headers = [\"Имя\", \"Название пиццы\", \"Цена\", \"Название пиццерии\", \"Дата заказа\"]\n",
    "print(tabulate(rows, headers=headers, tablefmt=\"grid\"))"
   ],
   "id": "fb6d30d8e77f5816",
   "outputs": [
    {
     "name": "stdout",
     "output_type": "stream",
     "text": [
      "Список людей, их заказы с деталями пиццы и названием пиццерии:\n",
      "+---------+------------------+--------+---------------------+---------------+\n",
      "| Имя     | Название пиццы   |   Цена | Название пиццерии   | Дата заказа   |\n",
      "+=========+==================+========+=====================+===============+\n",
      "| Anna    | cheese pizza     |    900 | Pizza Hut           | 2022-01-01    |\n",
      "+---------+------------------+--------+---------------------+---------------+\n",
      "| Anna    | pepperoni pizza  |   1200 | Pizza Hut           | 2022-01-01    |\n",
      "+---------+------------------+--------+---------------------+---------------+\n",
      "| Andrey  | cheese pizza     |    800 | Dominos             | 2022-01-01    |\n",
      "+---------+------------------+--------+---------------------+---------------+\n",
      "| Andrey  | mushroom pizza   |   1100 | Dominos             | 2022-01-01    |\n",
      "+---------+------------------+--------+---------------------+---------------+\n",
      "| Kate    | cheese pizza     |    700 | Best Pizza          | 2022-01-04    |\n",
      "+---------+------------------+--------+---------------------+---------------+\n",
      "| Denis   | cheese pizza     |    700 | Best Pizza          | 2022-01-07    |\n",
      "+---------+------------------+--------+---------------------+---------------+\n",
      "| Denis   | pepperoni pizza  |    800 | Best Pizza          | 2022-01-07    |\n",
      "+---------+------------------+--------+---------------------+---------------+\n",
      "| Denis   | supreme pizza    |    850 | Best Pizza          | 2022-01-07    |\n",
      "+---------+------------------+--------+---------------------+---------------+\n",
      "| Denis   | pepperoni pizza  |    800 | DinoPizza           | 2022-01-08    |\n",
      "+---------+------------------+--------+---------------------+---------------+\n",
      "| Denis   | sausage pizza    |   1000 | DinoPizza           | 2022-01-08    |\n",
      "+---------+------------------+--------+---------------------+---------------+\n",
      "| Elvira  | pepperoni pizza  |    800 | DinoPizza           | 2022-01-09    |\n",
      "+---------+------------------+--------+---------------------+---------------+\n",
      "| Elvira  | sausage pizza    |   1000 | DinoPizza           | 2022-01-09    |\n",
      "+---------+------------------+--------+---------------------+---------------+\n",
      "| Irina   | mushroom pizza   |    950 | Papa Johns          | 2022-01-01    |\n",
      "+---------+------------------+--------+---------------------+---------------+\n",
      "| Peter   | sausage pizza    |   1200 | Pizza Hut           | 2022-01-03    |\n",
      "+---------+------------------+--------+---------------------+---------------+\n",
      "| Peter   | mushroom pizza   |   1100 | Dominos             | 2022-01-05    |\n",
      "+---------+------------------+--------+---------------------+---------------+\n",
      "| Peter   | supreme pizza    |   1200 | Pizza Hut           | 2022-01-05    |\n",
      "+---------+------------------+--------+---------------------+---------------+\n",
      "| Nataly  | cheese pizza     |    800 | Dominos             | 2022-01-06    |\n",
      "+---------+------------------+--------+---------------------+---------------+\n",
      "| Nataly  | pepperoni pizza  |   1000 | Papa Johns          | 2022-01-07    |\n",
      "+---------+------------------+--------+---------------------+---------------+\n",
      "| Dmitriy | supreme pizza    |    850 | Best Pizza          | 2022-01-09    |\n",
      "+---------+------------------+--------+---------------------+---------------+\n",
      "| Dmitriy | pepperoni pizza  |    800 | DinoPizza           | 2022-01-10    |\n",
      "+---------+------------------+--------+---------------------+---------------+\n"
     ]
    }
   ],
   "execution_count": 59
  },
  {
   "metadata": {},
   "cell_type": "markdown",
   "source": "### SQL запрос, используя оператор EXISTS, найти людей, которые сделали заказы в пиццериях с рейтингом выше 4.5.",
   "id": "a3c67aa85ca6d1ce"
  },
  {
   "metadata": {
    "ExecuteTime": {
     "end_time": "2025-05-21T05:36:13.604709Z",
     "start_time": "2025-05-21T05:36:13.590177Z"
    }
   },
   "cell_type": "code",
   "source": [
    "cursor.execute(\"\"\"\n",
    "    SELECT DISTINCT \n",
    "        person.name AS person_name,\n",
    "        pizzeria.name AS pizzeria_name,\n",
    "        pizzeria.rating AS pizzeria_rating\n",
    "    FROM ivan_patakin.person\n",
    "    JOIN ivan_patakin.pizzeria\n",
    "    ON EXISTS (\n",
    "        SELECT 1\n",
    "        FROM ivan_patakin.person_order\n",
    "        JOIN ivan_patakin.menu ON person_order.menu_id = menu.id\n",
    "        WHERE person_order.person_id = person.id AND menu.pizzeria_id = pizzeria.id AND pizzeria.rating > 4.5\n",
    "    );\n",
    "\"\"\")\n",
    "rows = cursor.fetchall()\n",
    "print(\"Люди, которые сделали заказы в пиццериях с рейтингом выше 4.5:\")\n",
    "headers = [\"Имя\", \"Название пиццерии\", \"Рейтинг пиццерии\"]\n",
    "print(tabulate(rows, headers=headers, tablefmt=\"grid\"))"
   ],
   "id": "a7a242f07c2a3ea0",
   "outputs": [
    {
     "name": "stdout",
     "output_type": "stream",
     "text": [
      "Люди, которые сделали заказы в пиццериях с рейтингом выше 4.5:\n",
      "+--------+---------------------+--------------------+\n",
      "| Имя    | Название пиццерии   |   Рейтинг пиццерии |\n",
      "+========+=====================+====================+\n",
      "| Anna   | Pizza Hut           |                4.6 |\n",
      "+--------+---------------------+--------------------+\n",
      "| Irina  | Papa Johns          |                4.9 |\n",
      "+--------+---------------------+--------------------+\n",
      "| Peter  | Pizza Hut           |                4.6 |\n",
      "+--------+---------------------+--------------------+\n",
      "| Nataly | Papa Johns          |                4.9 |\n",
      "+--------+---------------------+--------------------+\n"
     ]
    }
   ],
   "execution_count": 60
  },
  {
   "metadata": {},
   "cell_type": "markdown",
   "source": "### SQL запрос, всех клиентов и их соответствующие посещения пиццерий, даже если клиент не посещал пиццерию",
   "id": "ff02704531f77fdb"
  },
  {
   "metadata": {
    "ExecuteTime": {
     "end_time": "2025-05-21T05:36:13.887912Z",
     "start_time": "2025-05-21T05:36:13.865669Z"
    }
   },
   "cell_type": "code",
   "source": [
    "cursor.execute(\"\"\"\n",
    "    SELECT \n",
    "        person.name AS person_name, \n",
    "        pizzeria.name AS pizzeria_name, \n",
    "        person_visits.visit_date\n",
    "    FROM ivan_patakin.person\n",
    "    CROSS JOIN ivan_patakin.pizzeria\n",
    "    LEFT JOIN ivan_patakin.person_visits \n",
    "        ON person.id = person_visits.person_id \n",
    "        AND pizzeria.id = person_visits.pizzeria_id\n",
    "    ORDER BY person.name, pizzeria.name;\n",
    "\"\"\")\n",
    "rows = cursor.fetchall()\n",
    "print(\"Все клиенты и их посещения пиццерий (включая тех, кто не посещал):\")\n",
    "headers = [\"Имя\", \"Название пиццерии\", \"Дата посещения\"]\n",
    "print(tabulate(rows, headers=headers, tablefmt=\"grid\"))"
   ],
   "id": "b9deae248d53fd5e",
   "outputs": [
    {
     "name": "stdout",
     "output_type": "stream",
     "text": [
      "Все клиенты и их посещения пиццерий (включая тех, кто не посещал):\n",
      "+---------+---------------------+------------------+\n",
      "| Имя     | Название пиццерии   | Дата посещения   |\n",
      "+=========+=====================+==================+\n",
      "| Andrey  | Best Pizza          |                  |\n",
      "+---------+---------------------+------------------+\n",
      "| Andrey  | DinoPizza           |                  |\n",
      "+---------+---------------------+------------------+\n",
      "| Andrey  | DoDo Pizza          |                  |\n",
      "+---------+---------------------+------------------+\n",
      "| Andrey  | Dominos             | 2022-01-01       |\n",
      "+---------+---------------------+------------------+\n",
      "| Andrey  | Papa Johns          |                  |\n",
      "+---------+---------------------+------------------+\n",
      "| Andrey  | Pizza Hut           | 2022-01-02       |\n",
      "+---------+---------------------+------------------+\n",
      "| Anna    | Best Pizza          |                  |\n",
      "+---------+---------------------+------------------+\n",
      "| Anna    | DinoPizza           |                  |\n",
      "+---------+---------------------+------------------+\n",
      "| Anna    | DoDo Pizza          |                  |\n",
      "+---------+---------------------+------------------+\n",
      "| Anna    | Dominos             |                  |\n",
      "+---------+---------------------+------------------+\n",
      "| Anna    | Papa Johns          |                  |\n",
      "+---------+---------------------+------------------+\n",
      "| Anna    | Pizza Hut           | 2022-01-01       |\n",
      "+---------+---------------------+------------------+\n",
      "| Denis   | Best Pizza          | 2022-01-07       |\n",
      "+---------+---------------------+------------------+\n",
      "| Denis   | DinoPizza           | 2022-01-08       |\n",
      "+---------+---------------------+------------------+\n",
      "| Denis   | DoDo Pizza          |                  |\n",
      "+---------+---------------------+------------------+\n",
      "| Denis   | Dominos             |                  |\n",
      "+---------+---------------------+------------------+\n",
      "| Denis   | Papa Johns          |                  |\n",
      "+---------+---------------------+------------------+\n",
      "| Denis   | Pizza Hut           |                  |\n",
      "+---------+---------------------+------------------+\n",
      "| Dmitriy | Best Pizza          | 2022-01-09       |\n",
      "+---------+---------------------+------------------+\n",
      "| Dmitriy | DinoPizza           | 2022-01-10       |\n",
      "+---------+---------------------+------------------+\n",
      "| Dmitriy | DoDo Pizza          |                  |\n",
      "+---------+---------------------+------------------+\n",
      "| Dmitriy | Dominos             |                  |\n",
      "+---------+---------------------+------------------+\n",
      "| Dmitriy | Papa Johns          | 2022-01-08       |\n",
      "+---------+---------------------+------------------+\n",
      "| Dmitriy | Pizza Hut           |                  |\n",
      "+---------+---------------------+------------------+\n",
      "| Elvira  | Best Pizza          |                  |\n",
      "+---------+---------------------+------------------+\n",
      "| Elvira  | DinoPizza           | 2022-01-09       |\n",
      "+---------+---------------------+------------------+\n",
      "| Elvira  | DoDo Pizza          |                  |\n",
      "+---------+---------------------+------------------+\n",
      "| Elvira  | Dominos             | 2022-01-08       |\n",
      "+---------+---------------------+------------------+\n",
      "| Elvira  | Papa Johns          |                  |\n",
      "+---------+---------------------+------------------+\n",
      "| Elvira  | Pizza Hut           |                  |\n",
      "+---------+---------------------+------------------+\n",
      "| Irina   | Best Pizza          |                  |\n",
      "+---------+---------------------+------------------+\n",
      "| Irina   | DinoPizza           |                  |\n",
      "+---------+---------------------+------------------+\n",
      "| Irina   | DoDo Pizza          |                  |\n",
      "+---------+---------------------+------------------+\n",
      "| Irina   | Dominos             | 2022-01-09       |\n",
      "+---------+---------------------+------------------+\n",
      "| Irina   | Papa Johns          | 2022-01-01       |\n",
      "+---------+---------------------+------------------+\n",
      "| Irina   | Pizza Hut           |                  |\n",
      "+---------+---------------------+------------------+\n",
      "| Kate    | Best Pizza          | 2022-01-03       |\n",
      "+---------+---------------------+------------------+\n",
      "| Kate    | DinoPizza           | 2022-01-04       |\n",
      "+---------+---------------------+------------------+\n",
      "| Kate    | DoDo Pizza          |                  |\n",
      "+---------+---------------------+------------------+\n",
      "| Kate    | Dominos             |                  |\n",
      "+---------+---------------------+------------------+\n",
      "| Kate    | Papa Johns          |                  |\n",
      "+---------+---------------------+------------------+\n",
      "| Kate    | Pizza Hut           |                  |\n",
      "+---------+---------------------+------------------+\n",
      "| Nataly  | Best Pizza          |                  |\n",
      "+---------+---------------------+------------------+\n",
      "| Nataly  | DinoPizza           |                  |\n",
      "+---------+---------------------+------------------+\n",
      "| Nataly  | DoDo Pizza          |                  |\n",
      "+---------+---------------------+------------------+\n",
      "| Nataly  | Dominos             | 2022-01-06       |\n",
      "+---------+---------------------+------------------+\n",
      "| Nataly  | Papa Johns          | 2022-01-07       |\n",
      "+---------+---------------------+------------------+\n",
      "| Nataly  | Pizza Hut           | 2022-01-05       |\n",
      "+---------+---------------------+------------------+\n",
      "| Peter   | Best Pizza          |                  |\n",
      "+---------+---------------------+------------------+\n",
      "| Peter   | DinoPizza           |                  |\n",
      "+---------+---------------------+------------------+\n",
      "| Peter   | DoDo Pizza          |                  |\n",
      "+---------+---------------------+------------------+\n",
      "| Peter   | Dominos             | 2022-01-05       |\n",
      "+---------+---------------------+------------------+\n",
      "| Peter   | Papa Johns          |                  |\n",
      "+---------+---------------------+------------------+\n",
      "| Peter   | Pizza Hut           | 2022-01-03       |\n",
      "+---------+---------------------+------------------+\n"
     ]
    }
   ],
   "execution_count": 61
  },
  {
   "metadata": {},
   "cell_type": "markdown",
   "source": "### SQL запрос, все пиццерии и количество посещений по каждой, даже если посещений не было",
   "id": "66b75ce09dec4519"
  },
  {
   "metadata": {
    "ExecuteTime": {
     "end_time": "2025-05-21T05:36:14.077643Z",
     "start_time": "2025-05-21T05:36:14.065381Z"
    }
   },
   "cell_type": "code",
   "source": [
    "cursor.execute(\"\"\"\n",
    "    SELECT \n",
    "        pizzeria.name AS pizzeria_name, \n",
    "        COUNT(person_visits.id) AS visit_count\n",
    "    FROM ivan_patakin.pizzeria\n",
    "    LEFT JOIN ivan_patakin.person_visits ON pizzeria.id = person_visits.pizzeria_id\n",
    "    GROUP BY pizzeria.name;\n",
    "\"\"\")\n",
    "rows = cursor.fetchall()\n",
    "print(\"Все пиццерии и количество посещений по каждой:\")\n",
    "headers = [\"Название пиццерии\", \"Количество посещений\"]\n",
    "print(tabulate(rows, headers=headers, tablefmt=\"grid\"))"
   ],
   "id": "27be9b72c7baa274",
   "outputs": [
    {
     "name": "stdout",
     "output_type": "stream",
     "text": [
      "Все пиццерии и количество посещений по каждой:\n",
      "+---------------------+------------------------+\n",
      "| Название пиццерии   |   Количество посещений |\n",
      "+=====================+========================+\n",
      "| DinoPizza           |                      4 |\n",
      "+---------------------+------------------------+\n",
      "| Pizza Hut           |                      4 |\n",
      "+---------------------+------------------------+\n",
      "| Dominos             |                      5 |\n",
      "+---------------------+------------------------+\n",
      "| Best Pizza          |                      3 |\n",
      "+---------------------+------------------------+\n",
      "| DoDo Pizza          |                      0 |\n",
      "+---------------------+------------------------+\n",
      "| Papa Johns          |                      3 |\n",
      "+---------------------+------------------------+\n"
     ]
    }
   ],
   "execution_count": 62
  },
  {
   "metadata": {},
   "cell_type": "markdown",
   "source": "### SQL запрос, используя оператор LATERAL JOIN, для каждого человека вывести 3 самых дорогих пиццы, которые он заказывал",
   "id": "f3dc85b6c38f71f4"
  },
  {
   "metadata": {
    "ExecuteTime": {
     "end_time": "2025-05-21T05:36:14.239917Z",
     "start_time": "2025-05-21T05:36:14.219395Z"
    }
   },
   "cell_type": "code",
   "source": [
    "cursor.execute(\"\"\"\n",
    "    SELECT\n",
    "        person.name AS person_name,\n",
    "        top_pizzas.pizza_name,\n",
    "        top_pizzas.price\n",
    "    FROM ivan_patakin.person\n",
    "    LEFT JOIN LATERAL (\n",
    "        SELECT\n",
    "            menu.pizza_name,\n",
    "            menu.price\n",
    "        FROM ivan_patakin.person_order\n",
    "        JOIN ivan_patakin.menu ON person_order.menu_id = menu.id\n",
    "        WHERE person_order.person_id = person.id\n",
    "        ORDER BY menu.price DESC\n",
    "        LIMIT 3\n",
    "    ) AS top_pizzas ON true\n",
    "    ORDER BY person_name, top_pizzas.price;\n",
    "\"\"\")\n",
    "rows = cursor.fetchall()\n",
    "print(\"3 самых дорогих пиццы для каждого человека:\")\n",
    "headers = [\"Имя\", \"Название пиццы\", \"Цена\"]\n",
    "print(tabulate(rows, headers=headers, tablefmt=\"grid\"))"
   ],
   "id": "17f2fbfe1534d772",
   "outputs": [
    {
     "name": "stdout",
     "output_type": "stream",
     "text": [
      "3 самых дорогих пиццы для каждого человека:\n",
      "+---------+------------------+--------+\n",
      "| Имя     | Название пиццы   |   Цена |\n",
      "+=========+==================+========+\n",
      "| Andrey  | cheese pizza     |    800 |\n",
      "+---------+------------------+--------+\n",
      "| Andrey  | mushroom pizza   |   1100 |\n",
      "+---------+------------------+--------+\n",
      "| Anna    | cheese pizza     |    900 |\n",
      "+---------+------------------+--------+\n",
      "| Anna    | pepperoni pizza  |   1200 |\n",
      "+---------+------------------+--------+\n",
      "| Denis   | pepperoni pizza  |    800 |\n",
      "+---------+------------------+--------+\n",
      "| Denis   | supreme pizza    |    850 |\n",
      "+---------+------------------+--------+\n",
      "| Denis   | sausage pizza    |   1000 |\n",
      "+---------+------------------+--------+\n",
      "| Dmitriy | pepperoni pizza  |    800 |\n",
      "+---------+------------------+--------+\n",
      "| Dmitriy | supreme pizza    |    850 |\n",
      "+---------+------------------+--------+\n",
      "| Elvira  | pepperoni pizza  |    800 |\n",
      "+---------+------------------+--------+\n",
      "| Elvira  | sausage pizza    |   1000 |\n",
      "+---------+------------------+--------+\n",
      "| Irina   | mushroom pizza   |    950 |\n",
      "+---------+------------------+--------+\n",
      "| Kate    | cheese pizza     |    700 |\n",
      "+---------+------------------+--------+\n",
      "| Nataly  | cheese pizza     |    800 |\n",
      "+---------+------------------+--------+\n",
      "| Nataly  | pepperoni pizza  |   1000 |\n",
      "+---------+------------------+--------+\n",
      "| Peter   | mushroom pizza   |   1100 |\n",
      "+---------+------------------+--------+\n",
      "| Peter   | supreme pizza    |   1200 |\n",
      "+---------+------------------+--------+\n",
      "| Peter   | sausage pizza    |   1200 |\n",
      "+---------+------------------+--------+\n"
     ]
    }
   ],
   "execution_count": 63
  },
  {
   "metadata": {},
   "cell_type": "markdown",
   "source": "### SQL запрос, используя оператор LATERAL JOIN, Для каждой пиццерии найти 2 самых популярных пиццы (по количеству заказов) и показать их названия с количеством заказов.",
   "id": "e690817fe58964a3"
  },
  {
   "metadata": {
    "ExecuteTime": {
     "end_time": "2025-05-21T05:36:14.547662Z",
     "start_time": "2025-05-21T05:36:14.535280Z"
    }
   },
   "cell_type": "code",
   "source": [
    "cursor.execute(\"\"\"\n",
    "    SELECT \n",
    "        pizzeria.name AS pizzeria_name, \n",
    "        popular_pizzas.pizza_name, \n",
    "        popular_pizzas.order_count\n",
    "    FROM ivan_patakin.pizzeria\n",
    "    INNER JOIN LATERAL (\n",
    "        SELECT menu.pizza_name, COUNT(person_order.id) AS order_count\n",
    "        FROM ivan_patakin.menu\n",
    "        INNER JOIN ivan_patakin.person_order ON menu.id = person_order.menu_id\n",
    "        WHERE menu.pizzeria_id = pizzeria.id\n",
    "        GROUP BY menu.pizza_name\n",
    "        ORDER BY order_count DESC\n",
    "        LIMIT 2\n",
    "    ) AS popular_pizzas ON true;\n",
    "\"\"\")\n",
    "rows = cursor.fetchall()\n",
    "print(\"2 самых популярных пиццы для каждой пиццерии (только с заказами):\")\n",
    "headers = [\"Название пиццерии\", \"Название пиццы\", \"Количество заказов\"]\n",
    "print(tabulate(rows, headers=headers, tablefmt=\"grid\"))"
   ],
   "id": "28c00d01efcf5a14",
   "outputs": [
    {
     "name": "stdout",
     "output_type": "stream",
     "text": [
      "2 самых популярных пиццы для каждой пиццерии (только с заказами):\n",
      "+---------------------+------------------+----------------------+\n",
      "| Название пиццерии   | Название пиццы   |   Количество заказов |\n",
      "+=====================+==================+======================+\n",
      "| Pizza Hut           | cheese pizza     |                    1 |\n",
      "+---------------------+------------------+----------------------+\n",
      "| Pizza Hut           | pepperoni pizza  |                    1 |\n",
      "+---------------------+------------------+----------------------+\n",
      "| Dominos             | cheese pizza     |                    2 |\n",
      "+---------------------+------------------+----------------------+\n",
      "| Dominos             | mushroom pizza   |                    2 |\n",
      "+---------------------+------------------+----------------------+\n",
      "| Papa Johns          | mushroom pizza   |                    1 |\n",
      "+---------------------+------------------+----------------------+\n",
      "| Papa Johns          | pepperoni pizza  |                    1 |\n",
      "+---------------------+------------------+----------------------+\n",
      "| Best Pizza          | cheese pizza     |                    2 |\n",
      "+---------------------+------------------+----------------------+\n",
      "| Best Pizza          | supreme pizza    |                    2 |\n",
      "+---------------------+------------------+----------------------+\n",
      "| DinoPizza           | pepperoni pizza  |                    3 |\n",
      "+---------------------+------------------+----------------------+\n",
      "| DinoPizza           | sausage pizza    |                    2 |\n",
      "+---------------------+------------------+----------------------+\n"
     ]
    }
   ],
   "execution_count": 64
  },
  {
   "metadata": {},
   "cell_type": "markdown",
   "source": "### SQL запрос, используя оператор WITH (CTE), выведите уникальные семантические пары клиентов, родной город которых один и тот же. Результат необходимо отсортировать по первому столбцу.",
   "id": "11d7e31fadad5503"
  },
  {
   "metadata": {
    "ExecuteTime": {
     "end_time": "2025-05-21T05:36:15.012097Z",
     "start_time": "2025-05-21T05:36:14.990518Z"
    }
   },
   "cell_type": "code",
   "source": [
    "cursor.execute(\"\"\"\n",
    "    WITH paired_clients AS (\n",
    "        SELECT \n",
    "            p1.name AS client1, \n",
    "            p2.name AS client2,\n",
    "            p1.address AS city\n",
    "        FROM ivan_patakin.person p1\n",
    "        JOIN ivan_patakin.person p2 ON p1.address = p2.address AND p1.id < p2.id\n",
    "    )\n",
    "    SELECT client1, client2, city\n",
    "    FROM paired_clients\n",
    "    ORDER BY client1;\n",
    "\"\"\")\n",
    "rows = cursor.fetchall()\n",
    "print(\"Уникальные семантические пары клиентов с указанием города:\")\n",
    "headers = [\"Клиент 1\", \"Клиент 2\", \"Город\"]\n",
    "print(tabulate(rows, headers=headers, tablefmt=\"grid\"))"
   ],
   "id": "20a43b4a012b4b4f",
   "outputs": [
    {
     "name": "stdout",
     "output_type": "stream",
     "text": [
      "Уникальные семантические пары клиентов с указанием города:\n",
      "+------------+------------+------------------+\n",
      "| Клиент 1   | Клиент 2   | Город            |\n",
      "+============+============+==================+\n",
      "| Anna       | Andrey     | Moscow           |\n",
      "+------------+------------+------------------+\n",
      "| Denis      | Elvira     | Kazan            |\n",
      "+------------+------------+------------------+\n",
      "| Irina      | Peter      | Saint-Petersburg |\n",
      "+------------+------------+------------------+\n",
      "| Kate       | Elvira     | Kazan            |\n",
      "+------------+------------+------------------+\n",
      "| Kate       | Denis      | Kazan            |\n",
      "+------------+------------+------------------+\n"
     ]
    }
   ],
   "execution_count": 65
  },
  {
   "metadata": {},
   "cell_type": "markdown",
   "source": "## Удаление таблиц",
   "id": "bf6822de1c0e7bbc"
  },
  {
   "metadata": {
    "ExecuteTime": {
     "end_time": "2025-05-21T05:36:15.527991Z",
     "start_time": "2025-05-21T05:36:15.467603Z"
    }
   },
   "cell_type": "code",
   "source": [
    "cursor.execute(\"\"\"\n",
    "    DROP TABLE IF EXISTS ivan_patakin.person_order;\n",
    "    DROP TABLE IF EXISTS ivan_patakin.menu;\n",
    "    DROP TABLE IF EXISTS ivan_patakin.person_visits;\n",
    "    DROP TABLE IF EXISTS ivan_patakin.pizzeria;\n",
    "    DROP TABLE IF EXISTS ivan_patakin.person;\n",
    "\"\"\")\n",
    "\n",
    "connection.commit()\n",
    "\n",
    "print(\"Таблицы удалены\")"
   ],
   "id": "b3ee7a265e6949c2",
   "outputs": [
    {
     "name": "stdout",
     "output_type": "stream",
     "text": [
      "Таблицы удалены\n"
     ]
    }
   ],
   "execution_count": 66
  },
  {
   "metadata": {},
   "cell_type": "markdown",
   "source": "### Закрытие курсора и соединения",
   "id": "622d0a63ae0a8616"
  },
  {
   "metadata": {
    "ExecuteTime": {
     "end_time": "2025-05-21T05:36:15.823742Z",
     "start_time": "2025-05-21T05:36:15.816586Z"
    }
   },
   "cell_type": "code",
   "source": [
    "cursor.close()\n",
    "connection.close()\n",
    "\n",
    "print(\"Соединение с PostgreSQL закрыто.\")"
   ],
   "id": "a60d7d7c720e73c3",
   "outputs": [
    {
     "name": "stdout",
     "output_type": "stream",
     "text": [
      "Соединение с PostgreSQL закрыто.\n"
     ]
    }
   ],
   "execution_count": 67
  }
 ],
 "metadata": {
  "kernelspec": {
   "display_name": "Python 3",
   "language": "python",
   "name": "python3"
  },
  "language_info": {
   "codemirror_mode": {
    "name": "ipython",
    "version": 2
   },
   "file_extension": ".py",
   "mimetype": "text/x-python",
   "name": "python",
   "nbconvert_exporter": "python",
   "pygments_lexer": "ipython2",
   "version": "2.7.6"
  }
 },
 "nbformat": 4,
 "nbformat_minor": 5
}
