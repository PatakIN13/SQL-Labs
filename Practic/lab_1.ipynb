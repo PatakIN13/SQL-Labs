{
 "cells": [
  {
   "metadata": {},
   "cell_type": "markdown",
   "source": [
    "# Лабораторная работа No1\n",
    "Имеется следующие оперативные данные по датчикам телеметрии `SensorData.csv`  \n",
    "Пример одной строки:\n",
    "```\n",
    "1;1666200364421000;16882.26501\n",
    "```\n",
    "где:\n",
    "```\n",
    "1 - номер датчика;\n",
    "1666200364421000 - дата в UNIX_TIMESTAMP\n",
    "16882.26501 - значение датчика;\n",
    "```\n",
    "В данных возможны обновления записей (UPDATE) на основании номера\n",
    "датчика  \n",
    "Имеется справочник датчиков телеметрии `SensorInfo.xlsx (SensorInfoDict.csv)`\n",
    "1) Создайте модель данных хранения информации по предоставленным\n",
    "данным.\n",
    "2) Укажите какие параметры хранения по вашему мнению необходимы для\n",
    "той или иной таблицы\n",
    "- FILLFACTOR\n",
    "- Политика работы с TOAST таблицами\n",
    "3) Создайте виртуальную таблицу (VIEW) в вашей схеме базы данных для\n",
    "предоставления данных вида\n",
    "- Название датчика;\n",
    "- Дата значения датчика в формате DD.MM.YYYY HH24:MI:SS\n",
    "- Значение датчика с округлением до 2 знаков после запятой"
   ],
   "id": "bcb17e3a0c5ab4dd"
  },
  {
   "metadata": {},
   "cell_type": "markdown",
   "source": "## Создаем подключение к БД",
   "id": "cad176492f35f03e"
  },
  {
   "metadata": {
    "ExecuteTime": {
     "end_time": "2025-04-15T09:47:32.000598Z",
     "start_time": "2025-04-15T09:47:31.948627Z"
    }
   },
   "cell_type": "code",
   "source": [
    "import psycopg2\n",
    "### Подключение к PostgreSQL\n",
    "connection = psycopg2.connect(\n",
    "    host=\"localhost\",\n",
    "    port=\"5432\",\n",
    "    database=\"\",\n",
    "    user=\"\",\n",
    "    password=\"\",\n",
    ")\n",
    "### Создание курсора\n",
    "cursor = connection.cursor()\n",
    "\n",
    "print(\"Подключение к PostgreSQL успешно.\")"
   ],
   "id": "f407988a0e78e244",
   "outputs": [
    {
     "name": "stdout",
     "output_type": "stream",
     "text": [
      "Подключение к PostgreSQL успешно.\n"
     ]
    }
   ],
   "execution_count": 125
  },
  {
   "metadata": {},
   "cell_type": "markdown",
   "source": "## Создание схемы",
   "id": "ab80ea14f388bc33"
  },
  {
   "metadata": {
    "ExecuteTime": {
     "end_time": "2025-04-15T09:47:32.124783Z",
     "start_time": "2025-04-15T09:47:32.105880Z"
    }
   },
   "cell_type": "code",
   "source": [
    "cursor.execute(\"CREATE SCHEMA IF NOT EXISTS ivan_patakin;\")\n",
    "connection.commit()\n",
    "\n",
    "print(\"Схема 'ivan_patakin' создана.\")"
   ],
   "id": "25a5f7e7af392d4d",
   "outputs": [
    {
     "name": "stdout",
     "output_type": "stream",
     "text": [
      "Схема 'ivan_patakin' создана.\n"
     ]
    }
   ],
   "execution_count": 126
  },
  {
   "metadata": {},
   "cell_type": "markdown",
   "source": [
    "## Создание таблиц\n",
    "### Создадим справочники для хранения \"Тип значения\" и \"Единица измерения\" "
   ],
   "id": "a52c9d8128f4dc50"
  },
  {
   "metadata": {
    "ExecuteTime": {
     "end_time": "2025-04-15T09:47:32.348818Z",
     "start_time": "2025-04-15T09:47:32.322770Z"
    }
   },
   "cell_type": "code",
   "source": [
    "cursor.execute(\"\"\"\n",
    "CREATE TABLE IF NOT EXISTS ivan_patakin.value_type_dict (\n",
    "    id SERIAL PRIMARY KEY,\n",
    "    value_type VARCHAR(50) NOT NULL\n",
    ");\n",
    "\"\"\")\n",
    "connection.commit()\n",
    "\n",
    "cursor.execute(\"\"\"\n",
    "CREATE TABLE IF NOT EXISTS ivan_patakin.unit_dict (\n",
    "    id SERIAL PRIMARY KEY,\n",
    "    unit VARCHAR(50) NOT NULL\n",
    ");\n",
    "\"\"\")\n",
    "connection.commit()\n",
    "\n",
    "print(\"Справочники value_type_dict и unit_dict созданы\")"
   ],
   "id": "bf4085ca701cf96a",
   "outputs": [
    {
     "name": "stdout",
     "output_type": "stream",
     "text": [
      "Справочники value_type_dict и unit_dict созданы\n"
     ]
    }
   ],
   "execution_count": 127
  },
  {
   "metadata": {},
   "cell_type": "markdown",
   "source": [
    "Установим FILLFACTOR для справочников на 100%\n",
    "- Справочники будут использоваться для хранения небольшого количества строк, и их размер будет небольшим.\n",
    "- Установка FILLFACTOR на 100% позволит избежать дополнительных затрат на хранение и ускорить доступ к данным."
   ],
   "id": "7d3125fe5a86d69d"
  },
  {
   "metadata": {
    "ExecuteTime": {
     "end_time": "2025-04-15T09:47:32.420004Z",
     "start_time": "2025-04-15T09:47:32.407885Z"
    }
   },
   "cell_type": "code",
   "source": [
    "cursor.execute(\"\"\"\n",
    "ALTER TABLE ivan_patakin.value_type_dict SET (FILLFACTOR = 100);\n",
    "ALTER TABLE ivan_patakin.unit_dict SET (FILLFACTOR = 100);\n",
    "\"\"\")\n",
    "connection.commit()\n",
    "\n",
    "print(\"FILLFACTOR для справочников установлен на 100%\")"
   ],
   "id": "5d86962fc991ceb1",
   "outputs": [
    {
     "name": "stdout",
     "output_type": "stream",
     "text": [
      "FILLFACTOR для справочников установлен на 100%\n"
     ]
    }
   ],
   "execution_count": 128
  },
  {
   "metadata": {},
   "cell_type": "markdown",
   "source": "#### Заполним справочники данными",
   "id": "2e8472b5d05afd3f"
  },
  {
   "metadata": {
    "ExecuteTime": {
     "end_time": "2025-04-15T09:47:32.516514Z",
     "start_time": "2025-04-15T09:47:32.494922Z"
    }
   },
   "cell_type": "code",
   "source": [
    "cursor.execute(\"\"\"\n",
    "               INSERT INTO ivan_patakin.value_type_dict (value_type) VALUES ('PV'), ('MV');\n",
    "                \"\"\")\n",
    "connection.commit()\n",
    "\n",
    "cursor.execute(\"\"\"\n",
    "INSERT INTO ivan_patakin.unit_dict (unit) VALUES ('кг/ч'), ('КПа'), ('град. C'), ('%'), ('дискретный'), ('% масс.');\n",
    "\"\"\")\n",
    "connection.commit()\n",
    "\n",
    "print(\"Справочники value_type_dict и unit_dict заполнены\")"
   ],
   "id": "8dd934f7894efa86",
   "outputs": [
    {
     "name": "stdout",
     "output_type": "stream",
     "text": [
      "Справочники value_type_dict и unit_dict заполнены\n"
     ]
    }
   ],
   "execution_count": 129
  },
  {
   "metadata": {},
   "cell_type": "markdown",
   "source": "### Создадим справочник датчиков телеметрии и таблицу для данных с датчиков",
   "id": "33c32bd1ae0e75a3"
  },
  {
   "metadata": {
    "ExecuteTime": {
     "end_time": "2025-04-15T09:47:32.589604Z",
     "start_time": "2025-04-15T09:47:32.569263Z"
    }
   },
   "cell_type": "code",
   "source": [
    "cursor.execute(\"\"\"\n",
    "CREATE TABLE ivan_patakin.sensor_info_dict (\n",
    "    sensor_id INT PRIMARY KEY NOT NULL,\n",
    "    sensor_name VARCHAR(100) NOT NULL,\n",
    "    description TEXT,\n",
    "    value_type_id INT REFERENCES ivan_patakin.value_type_dict(id) ON DELETE CASCADE,\n",
    "    unit_id INT REFERENCES ivan_patakin.unit_dict(id) ON DELETE CASCADE,\n",
    "    min_value FLOAT,\n",
    "    max_value FLOAT\n",
    ");\n",
    "\"\"\")\n",
    "connection.commit()\n",
    "\n",
    "print(\"Справочник sensor_info_dict создана\")"
   ],
   "id": "31b039b160b3a603",
   "outputs": [
    {
     "name": "stdout",
     "output_type": "stream",
     "text": [
      "Справочник sensor_info_dict создана\n"
     ]
    }
   ],
   "execution_count": 130
  },
  {
   "metadata": {
    "ExecuteTime": {
     "end_time": "2025-04-15T09:47:32.650893Z",
     "start_time": "2025-04-15T09:47:32.636676Z"
    }
   },
   "cell_type": "code",
   "source": [
    "cursor.execute(\"\"\"\n",
    "CREATE TABLE ivan_patakin.sensor_data (\n",
    "    sensor_id INT REFERENCES ivan_patakin.sensor_info_dict(sensor_id) ON DELETE CASCADE NOT NULL,\n",
    "    unix_timestamp BIGINT NOT NULL,\n",
    "    sensor_value FLOAT NOT NULL\n",
    "    );\n",
    "               \"\"\")\n",
    "connection.commit()\n",
    "print(\"Таблица sensor_data создана\")"
   ],
   "id": "e700a498e56bacff",
   "outputs": [
    {
     "name": "stdout",
     "output_type": "stream",
     "text": [
      "Таблица sensor_data создана\n"
     ]
    }
   ],
   "execution_count": 131
  },
  {
   "metadata": {},
   "cell_type": "markdown",
   "source": [
    "Установим FILLFACTOR для таблиц sensor_info_dict и sensor_data.\n",
    "- Таблица sensor_info_dict будет содержать информацию о датчиках, которая может изменяться со временем. Установка FILLFACTOR на 90% позволит уменьшить фрагментацию и ускорить операции вставки и обновления.\n",
    "- Таблица sensor_data будет содержать большие объемы данных, которые будут записываться в нее регулярно. Установка FILLFACTOR на 80% позволит уменьшить фрагментацию данных при частых обновлениях и обеспечить более эффективное использование памяти."
   ],
   "id": "af62be00395155b"
  },
  {
   "metadata": {
    "ExecuteTime": {
     "end_time": "2025-04-15T09:47:32.702331Z",
     "start_time": "2025-04-15T09:47:32.692567Z"
    }
   },
   "cell_type": "code",
   "source": [
    "cursor.execute(\"\"\"\n",
    "ALTER TABLE ivan_patakin.sensor_info_dict SET (FILLFACTOR = 90);\n",
    "ALTER TABLE ivan_patakin.sensor_data SET (FILLFACTOR = 80);\n",
    "\"\"\")\n",
    "connection.commit()\n",
    "\n",
    "print(\"FILLFACTOR для справочника sensor_info_dict и таблицы sensor_data установлен\")"
   ],
   "id": "1bc6030a1e1d883d",
   "outputs": [
    {
     "name": "stdout",
     "output_type": "stream",
     "text": [
      "FILLFACTOR для справочника sensor_info_dict и таблицы sensor_data установлен\n"
     ]
    }
   ],
   "execution_count": 132
  },
  {
   "metadata": {},
   "cell_type": "markdown",
   "source": [
    "Политика работы с TOAST таблицами\n",
    "- Для таблицы sensor_info_dict установим политику работы с параметром description на EXTERNAL, так как это поле может содержать большие объемы данных (например, описание датчика), и мы хотим хранить его в отдельной TOAST таблице."
   ],
   "id": "20c30379d9df4a45"
  },
  {
   "metadata": {
    "ExecuteTime": {
     "end_time": "2025-04-15T09:47:32.750594Z",
     "start_time": "2025-04-15T09:47:32.742073Z"
    }
   },
   "cell_type": "code",
   "source": [
    "cursor.execute(\"ALTER TABLE ivan_patakin.sensor_info_dict ALTER COLUMN description SET STORAGE EXTERNAL;\")\n",
    "\n",
    "print(\"Политика работы с TOAST таблицей для справочника sensor_info_dict установлена на EXTERNAL\")"
   ],
   "id": "594696e7ef2bfd35",
   "outputs": [
    {
     "name": "stdout",
     "output_type": "stream",
     "text": [
      "Политика работы с TOAST таблицей для справочника sensor_info_dict установлена на EXTERNAL\n"
     ]
    }
   ],
   "execution_count": 133
  },
  {
   "metadata": {},
   "cell_type": "markdown",
   "source": "#### Заполним справочник sensor_info_dict данными из SensorInfoDict.csv",
   "id": "89b237bfff5a51e2"
  },
  {
   "metadata": {
    "ExecuteTime": {
     "end_time": "2025-04-15T09:47:32.967368Z",
     "start_time": "2025-04-15T09:47:32.790118Z"
    }
   },
   "cell_type": "code",
   "source": [
    "import csv\n",
    "with open('Data/Lab1/SensorInfoDict.csv', encoding='utf-8') as csvfile:\n",
    "    reader = csv.DictReader(csvfile, delimiter=',')\n",
    "    for row in reader:\n",
    "        cursor.execute(\"SELECT id FROM ivan_patakin.value_type_dict WHERE value_type = %s;\", (row['Тип значения'],))\n",
    "        value_type_id = cursor.fetchone()[0]\n",
    "        \n",
    "        cursor.execute(\"SELECT id FROM ivan_patakin.unit_dict WHERE unit = %s;\", (row['Единица измерения'],))\n",
    "        unit_id = cursor.fetchone()[0]\n",
    "        \n",
    "        cursor.execute(\"\"\"\n",
    "            INSERT INTO ivan_patakin.sensor_info_dict (sensor_id, sensor_name, description, value_type_id, unit_id, min_value, max_value)\n",
    "            VALUES (%s, %s, %s, %s, %s, %s, %s);\n",
    "        \"\"\", (row['Идентификатор'], row['Название датчика'], row['Описание'], value_type_id, unit_id, float(row['min'].replace(',','.')), float(row['max'].replace(',','.'))))\n",
    "connection.commit()\n",
    "\n",
    "print(\"Справочник sensor_info_dict заполнен\")"
   ],
   "id": "9d14eb7e754387c3",
   "outputs": [
    {
     "name": "stdout",
     "output_type": "stream",
     "text": [
      "Справочник sensor_info_dict заполнен\n"
     ]
    }
   ],
   "execution_count": 134
  },
  {
   "metadata": {},
   "cell_type": "markdown",
   "source": "#### Заполним таблицу sensor_data данными из SensorData.csv",
   "id": "69d7b193b2ec2d78"
  },
  {
   "metadata": {
    "ExecuteTime": {
     "end_time": "2025-04-15T09:47:42.850622Z",
     "start_time": "2025-04-15T09:47:32.994851Z"
    }
   },
   "cell_type": "code",
   "source": [
    "with open('Data/Lab1/SensorData.csv', encoding='utf-8') as csvfile:\n",
    "    reader = csv.reader(csvfile, delimiter=';')\n",
    "    for row in reader:\n",
    "        cursor.execute(\"\"\"\n",
    "            INSERT INTO ivan_patakin.sensor_data (sensor_id, unix_timestamp, sensor_value)\n",
    "            VALUES (%s, %s, %s);\n",
    "        \"\"\", (row[0], row[1], float(row[2].replace(',','.'))))\n",
    "connection.commit()\n",
    "\n",
    "print(\"Таблица sensor_data заполнена\")"
   ],
   "id": "315bbe1545721517",
   "outputs": [
    {
     "name": "stdout",
     "output_type": "stream",
     "text": [
      "Таблица sensor_data заполнена\n"
     ]
    }
   ],
   "execution_count": 135
  },
  {
   "metadata": {},
   "cell_type": "markdown",
   "source": "## Создадим VIEW для просмотра загруженных данных",
   "id": "16364998b2ba378"
  },
  {
   "metadata": {
    "ExecuteTime": {
     "end_time": "2025-04-15T09:47:42.897809Z",
     "start_time": "2025-04-15T09:47:42.883284Z"
    }
   },
   "cell_type": "code",
   "source": [
    "cursor.execute(\"\"\"\n",
    "CREATE OR REPLACE VIEW ivan_patakin.sensor_data_view AS\n",
    "SELECT\n",
    "    sid.sensor_name AS \"Название датчика\",\n",
    "    to_timestamp(sd.unix_timestamp / 1000000)::timestamp AS \"Дата значения датчика\",\n",
    "    ROUND(CAST(sd.sensor_value AS NUMERIC), 2) AS \"Значение датчика\"\n",
    "FROM\n",
    "    ivan_patakin.sensor_data sd\n",
    "JOIN\n",
    "    ivan_patakin.sensor_info_dict sid ON sd.sensor_id = sid.sensor_id;\n",
    "\"\"\")\n",
    "\n",
    "connection.commit()\n",
    "\n",
    "print(\"Виртуальная таблица sensor_data_view создана\")"
   ],
   "id": "67e40de0114c6cd",
   "outputs": [
    {
     "name": "stdout",
     "output_type": "stream",
     "text": [
      "Виртуальная таблица sensor_data_view создана\n"
     ]
    }
   ],
   "execution_count": 136
  },
  {
   "metadata": {},
   "cell_type": "markdown",
   "source": [
    "## Выведем данные в sensor_data_view\n",
    "```sql\n",
    "select * from ivan_patakin.sensor_data_view\n",
    "```"
   ],
   "id": "c2398beedad2dddb"
  },
  {
   "metadata": {},
   "cell_type": "markdown",
   "source": "## Удалим таблицы и справочники",
   "id": "ae511f3e0409dd7c"
  },
  {
   "metadata": {
    "ExecuteTime": {
     "end_time": "2025-04-15T09:47:42.946673Z",
     "start_time": "2025-04-15T09:47:42.921136Z"
    }
   },
   "cell_type": "code",
   "source": [
    "cursor.execute(\"\"\"\n",
    "DROP VIEW IF EXISTS ivan_patakin.sensor_data_view;\n",
    "DROP TABLE IF EXISTS ivan_patakin.sensor_data;\n",
    "DROP TABLE IF EXISTS ivan_patakin.sensor_info_dict;\n",
    "DROP TABLE IF EXISTS ivan_patakin.unit_dict;\n",
    "DROP TABLE IF EXISTS ivan_patakin.value_type_dict;\n",
    "                \"\"\")\n",
    "connection.commit()\n",
    "\n",
    "print(\"Таблицы удалены\")"
   ],
   "id": "e68594526e7ee3c6",
   "outputs": [
    {
     "name": "stdout",
     "output_type": "stream",
     "text": [
      "Таблицы удалены\n"
     ]
    }
   ],
   "execution_count": 137
  },
  {
   "metadata": {
    "ExecuteTime": {
     "end_time": "2025-04-15T09:47:42.980221Z",
     "start_time": "2025-04-15T09:47:42.973560Z"
    }
   },
   "cell_type": "code",
   "source": [
    "### Закрытие курсора и соединения\n",
    "cursor.close()\n",
    "connection.close()\n",
    "\n",
    "print(\"Соединение с PostgreSQL закрыто.\")"
   ],
   "id": "1850d60a0e5ea1e7",
   "outputs": [
    {
     "name": "stdout",
     "output_type": "stream",
     "text": [
      "Соединение с PostgreSQL закрыто.\n"
     ]
    }
   ],
   "execution_count": 138
  }
 ],
 "metadata": {
  "kernelspec": {
   "display_name": "Python 3",
   "language": "python",
   "name": "python3"
  },
  "language_info": {
   "codemirror_mode": {
    "name": "ipython",
    "version": 2
   },
   "file_extension": ".py",
   "mimetype": "text/x-python",
   "name": "python",
   "nbconvert_exporter": "python",
   "pygments_lexer": "ipython2",
   "version": "2.7.6"
  }
 },
 "nbformat": 4,
 "nbformat_minor": 5
}
