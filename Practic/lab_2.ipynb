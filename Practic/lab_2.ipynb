{
 "cells": [
  {
   "metadata": {},
   "cell_type": "markdown",
   "source": [
    "# Лабораторная работа No2\n",
    "## Задача:\n",
    "### 1. Адаптируйте pizza-скрипт для базы данных PostgreSQL. Если есть необходимость, то вы можете применить его заново, предварительно удалив таблицы командой.\n",
    "![Диаграмма](media/lab_2_1.png)\n",
    "#### Таблица `pizzeria` (Справочник пиццерий - ресторанов)\n",
    "- поле `id` - первичный ключ\n",
    "- поле `name` - имя пиццы\n",
    "- поле `rating` - средний рейтинг ресторана (от 0 до 5 звезд)\n",
    "#### Таблица `person` (Справочник людей кто любит пиццу)\n",
    "- поле `id` - первичный ключ\n",
    "- поле `name` - имя человека\n",
    "- поле `age` - возраст\n",
    "- поле `gender` - пол\n",
    "- поле `address` - адрес проживания\n",
    "#### Таблица `menu` (Справочник доступных меню с ценами и конкретными видами\n",
    "пицц)\n",
    "- поле `id` - первичный ключ\n",
    "- поле `pizzeria_id` - ссылка на пиццерию\n",
    "- поле `pizza_name` - название пиццы\n",
    "- поле `price` - цена пиццы\n",
    "#### Таблица `person_visits` (Операционная таблица с информацией о посещении\n",
    "людей конкретных пиццерий)\n",
    "- поле `id` - первичный ключ\n",
    "- поле `person_id` - ссылка на посетившего человека\n",
    "- поле `pizzeria_id` - ссылка на ресторан\n",
    "- поле `visit_date` - дата (например 2022-01-01) визита\n",
    "#### Таблица `person_order` (Операционная таблица с информацией о покупках пицц\n",
    "людьми)\n",
    "- поле `id` - первичный ключ\n",
    "- поле `person_id` - ссылка на человека, который приобрел пиццу\n",
    "- поле `menu_id` - ссылка на меню\n",
    "- поле `order_date` - дата (например 2022-01-01) покупки\n",
    "### 2. Необходимо написать SQL запросы к следующим 10 задачам ниже. Задание считается выполненным - если SQL запрос написан синтаксически корректно и возвращает ожидаемые данные на условие задачи.\n",
    "- Напишите SQL запрос, который возвращает имя “любителя пиццы” и его возраст, проживающего в городе Казань. Результат отсортируйте по имени.\n",
    "- Напишите SQL запрос, который выводит имена пиццерий с рейтингом, лежащим в диапазоне от 3.5 до 5 включительно. Результат отсортируйте по имени пиццерии в убывающем порядке\n",
    "- Напишите SQL запрос, который использует формулу преобразования на основании персональной информации человека, которая дана ниже как пример. `Anna (age:16, gender: 'female', address:'Moscow')` Результат отсортируйте по значению вывода формулы.\n",
    "- Выведите идентификаторы и имена пицц и людей в одном списке, отсортированном по имени.\n",
    "- Выведите дату заказа и имя человека, сделавшего заказ, отсортированным по дате заказа и по имени человека одновременно.\n",
    "- Выведите имя пиццерии, которая ни разу не была посещена.\n",
    "- Напишите SQL запрос, который возвращает полный список всех имен людей, независимо посетили они пиццерию в интервал времени от 1 до 3 января 2022 года (включительно крайние дни) или нет. И также запрос должен возвращать полный список названий всех пиццерий, которые возможно были посещены в указанный интервал времени с указанием даты посещения. Все `NULL` значения в ответе преобразуйте в значение ‘-’ (символ тире). Результат отсортируйте по полям имя человека и название пиццерии. Пример части ответа вы можете найти ниже \n",
    "| person_name | visit_date | pizzeria_name |\n",
    "| ----------- | ---------- | ------------- |\n",
    "| - | - | DinoPizza |\n",
    "| - | - | DoDo Pizza|\n",
    "| Andrey | 2022-01-01 | Dominos |\n",
    "| ... | ... | ... |\n",
    "| Peter | 2022-01-03 | Pizza Hut |\n",
    "- Добавьте новую пиццу в меню ресторана Dominos с названием “greek pizza” и ценой 800 рублей.\n",
    "- Обновите цену для пиццы “greek pizza” для ресторана Dominos с учетом 10 % скидки.\n",
    "- Выведите имена всех посетителей, количество посещений в рестораны которых должно быть ровно 3. Результат отсортируйте по имени посетителя."
   ],
   "id": "bbb4ca2cac0accb8"
  },
  {
   "metadata": {},
   "cell_type": "markdown",
   "source": "## Создаем подключение к БД",
   "id": "29e19ede81014674"
  },
  {
   "cell_type": "code",
   "id": "initial_id",
   "metadata": {
    "collapsed": true,
    "ExecuteTime": {
     "end_time": "2025-05-10T15:52:13.060270Z",
     "start_time": "2025-05-10T15:52:13.030120Z"
    }
   },
   "source": [
    "import psycopg2\n",
    "from tabulate import tabulate\n",
    "\n",
    "### Подключение к PostgreSQL\n",
    "connection = psycopg2.connect(\n",
    "    host=\"localhost\",\n",
    "    port=\"5432\",\n",
    "    database=\"\",\n",
    "    user=\"\",\n",
    "    password=\"\",\n",
    ")\n",
    "### Создание курсора\n",
    "cursor = connection.cursor()\n",
    "\n",
    "print(\"Подключение к PostgreSQL успешно.\")"
   ],
   "outputs": [
    {
     "name": "stdout",
     "output_type": "stream",
     "text": [
      "Подключение к PostgreSQL успешно.\n"
     ]
    }
   ],
   "execution_count": 306
  },
  {
   "metadata": {},
   "cell_type": "markdown",
   "source": [
    "## Создание схемы\n",
    "### !Отключено, для данной работы схема создается в скрипте pizza_model.sql"
   ],
   "id": "b9301cd93c45774f"
  },
  {
   "metadata": {
    "ExecuteTime": {
     "end_time": "2025-05-10T15:52:13.158577Z",
     "start_time": "2025-05-10T15:52:13.152394Z"
    }
   },
   "cell_type": "code",
   "source": [
    "#cursor.execute(\"CREATE SCHEMA IF NOT EXISTS ivan_patakin;\")\n",
    "#connection.commit()\n",
    "\n",
    "#print(\"Схема 'ivan_patakin' создана.\")"
   ],
   "id": "d73b8bbf64331e4",
   "outputs": [],
   "execution_count": 307
  },
  {
   "metadata": {},
   "cell_type": "markdown",
   "source": "## Выполняем pizza-скрипт для создания таблиц",
   "id": "e860f9b388bf2191"
  },
  {
   "metadata": {},
   "cell_type": "markdown",
   "source": [
    "pizza_model был немного изменен\n",
    "1. Добавлено создание схемы, если она не создана.\n",
    "2. Добавлен автоинкремент ко всем таблицам и восстановлена последовательность в соответствии с данными уже находящимися в таблице"
   ],
   "id": "b744ab6cc92bbd7d"
  },
  {
   "metadata": {
    "ExecuteTime": {
     "end_time": "2025-05-10T15:52:13.395524Z",
     "start_time": "2025-05-10T15:52:13.234093Z"
    }
   },
   "cell_type": "code",
   "source": [
    "with open('Data/Lab2/pizza_model.sql', 'r', encoding='utf-8') as file:\n",
    "    sql_script = file.read()\n",
    "    \n",
    "cursor.execute(sql_script)\n",
    "\n",
    "connection.commit()\n",
    "\n",
    "print(\"pizza-скрипт выполнен\")"
   ],
   "id": "7390ec2eac3e6e15",
   "outputs": [
    {
     "name": "stdout",
     "output_type": "stream",
     "text": [
      "pizza-скрипт выполнен\n"
     ]
    }
   ],
   "execution_count": 308
  },
  {
   "metadata": {},
   "cell_type": "markdown",
   "source": "## SQL запросы:",
   "id": "177e4ed3a91b2d3f"
  },
  {
   "metadata": {},
   "cell_type": "markdown",
   "source": "### SQL запрос, который возвращает имя “любителя пиццы” и его возраст, проживающего в городе Казань. Результат отсортируйте по имени.",
   "id": "d51d84ee8b94fde1"
  },
  {
   "metadata": {
    "ExecuteTime": {
     "end_time": "2025-05-10T15:52:13.524726Z",
     "start_time": "2025-05-10T15:52:13.509639Z"
    }
   },
   "cell_type": "code",
   "source": [
    "cursor.execute(\"\"\"\n",
    "    SELECT \n",
    "        p.name AS person_name, \n",
    "        p.age, \n",
    "        COUNT(po.id) AS pizza_orders_count\n",
    "    FROM \n",
    "        ivan_patakin.person p\n",
    "    LEFT JOIN \n",
    "        ivan_patakin.person_order po \n",
    "    ON \n",
    "        p.id = po.person_id\n",
    "    WHERE \n",
    "        p.address = 'Kazan'\n",
    "    GROUP BY \n",
    "        p.id\n",
    "    ORDER BY \n",
    "        p.name;\n",
    "\"\"\")\n",
    "\n",
    "rows = cursor.fetchall()\n",
    "headers = [\"Имя\", \"Возраст\", \"Количество\"]\n",
    "print(tabulate(rows, headers=headers))\n"
   ],
   "id": "722da3494009b37f",
   "outputs": [
    {
     "name": "stdout",
     "output_type": "stream",
     "text": [
      "Имя       Возраст    Количество\n",
      "------  ---------  ------------\n",
      "Denis          13             5\n",
      "Elvira         45             2\n",
      "Kate           33             1\n"
     ]
    }
   ],
   "execution_count": 309
  },
  {
   "metadata": {},
   "cell_type": "markdown",
   "source": "### SQL запрос, который выводит имена пиццерий с рейтингом, лежащим в диапазоне от 3.5 до 5 включительно. Результат отсортируйте по имени пиццерии в убывающем порядке.",
   "id": "1bed2635fa66de36"
  },
  {
   "metadata": {
    "ExecuteTime": {
     "end_time": "2025-05-10T15:52:13.645812Z",
     "start_time": "2025-05-10T15:52:13.629911Z"
    }
   },
   "cell_type": "code",
   "source": [
    "cursor.execute(\"\"\"\n",
    "    SELECT \n",
    "        name AS pizzeria_name, \n",
    "        rating\n",
    "    FROM \n",
    "        ivan_patakin.pizzeria\n",
    "    WHERE \n",
    "        rating BETWEEN 3.5 AND 5\n",
    "    ORDER BY \n",
    "        name DESC;\n",
    "\"\"\")\n",
    "\n",
    "rows = cursor.fetchall()\n",
    "headers = [\"Пиццерия\", \"Рейтинг\"]\n",
    "print(tabulate(rows, headers=headers))"
   ],
   "id": "ff51d576221232cf",
   "outputs": [
    {
     "name": "stdout",
     "output_type": "stream",
     "text": [
      "Пиццерия      Рейтинг\n",
      "----------  ---------\n",
      "Pizza Hut         4.6\n",
      "Papa Johns        4.9\n",
      "Dominos           4.3\n",
      "DinoPizza         4.2\n"
     ]
    }
   ],
   "execution_count": 310
  },
  {
   "metadata": {},
   "cell_type": "markdown",
   "source": "### SQL запрос, который использует формулу преобразования на основании персональной информации человека, которая дана ниже как пример. `Anna (age:16, gender: 'female', address:'Moscow')` Результат отсортируйте по значению вывода формулы.",
   "id": "d05547f85d9d91c9"
  },
  {
   "metadata": {
    "ExecuteTime": {
     "end_time": "2025-05-10T15:52:13.749235Z",
     "start_time": "2025-05-10T15:52:13.739717Z"
    }
   },
   "cell_type": "code",
   "source": [
    "cursor.execute(\"\"\"\n",
    "    SELECT CONCAT(name, ' (age:', age, ', gender: ''', gender, ''', address:''', address, ''')') AS person_info\n",
    "    FROM ivan_patakin.person\n",
    "    ORDER BY person_info;\n",
    "\"\"\")\n",
    "\n",
    "rows = cursor.fetchall()\n",
    "for row in rows:\n",
    "    print(row[0])"
   ],
   "id": "568c1d7746e69c01",
   "outputs": [
    {
     "name": "stdout",
     "output_type": "stream",
     "text": [
      "Andrey (age:21, gender: 'male', address:'Moscow')\n",
      "Anna (age:16, gender: 'female', address:'Moscow')\n",
      "Denis (age:13, gender: 'male', address:'Kazan')\n",
      "Dmitriy (age:18, gender: 'male', address:'Samara')\n",
      "Elvira (age:45, gender: 'female', address:'Kazan')\n",
      "Irina (age:21, gender: 'female', address:'Saint-Petersburg')\n",
      "Kate (age:33, gender: 'female', address:'Kazan')\n",
      "Nataly (age:30, gender: 'female', address:'Novosibirsk')\n",
      "Peter (age:24, gender: 'male', address:'Saint-Petersburg')\n"
     ]
    }
   ],
   "execution_count": 311
  },
  {
   "metadata": {},
   "cell_type": "markdown",
   "source": "### Выведите идентификаторы и имена пицц и людей в одном списке, отсортированном по имени.",
   "id": "daccae71faddab0e"
  },
  {
   "metadata": {
    "ExecuteTime": {
     "end_time": "2025-05-10T15:52:13.859603Z",
     "start_time": "2025-05-10T15:52:13.848711Z"
    }
   },
   "cell_type": "code",
   "source": [
    "cursor.execute(\"\"\"\n",
    "    SELECT id, name\n",
    "    FROM ivan_patakin.person\n",
    "    UNION ALL\n",
    "    SELECT id, pizza_name AS name\n",
    "    FROM ivan_patakin.menu\n",
    "    ORDER BY name;\n",
    "\"\"\")\n",
    "\n",
    "rows = cursor.fetchall()\n",
    "headers = [\"id\", \"name\"]\n",
    "print(tabulate(rows, headers=headers))"
   ],
   "id": "d60f769c8936c466",
   "outputs": [
    {
     "name": "stdout",
     "output_type": "stream",
     "text": [
      "  id  name\n",
      "----  ---------------\n",
      "   2  Andrey\n",
      "   1  Anna\n",
      "   4  Denis\n",
      "   9  Dmitriy\n",
      "   5  Elvira\n",
      "   6  Irina\n",
      "   3  Kate\n",
      "   8  Nataly\n",
      "   7  Peter\n",
      "   5  cheese pizza\n",
      "   1  cheese pizza\n",
      "   8  cheese pizza\n",
      "  10  cheese pizza\n",
      "  12  cheese pizza\n",
      "  16  cheese pizza\n",
      "   9  mushroom pizza\n",
      "  13  mushroom pizza\n",
      "   6  pepperoni pizza\n",
      "  17  pepperoni pizza\n",
      "  14  pepperoni pizza\n",
      "   2  pepperoni pizza\n",
      "  15  sausage pizza\n",
      "   7  sausage pizza\n",
      "   3  sausage pizza\n",
      "  18  supreme pizza\n",
      "  11  supreme pizza\n",
      "   4  supreme pizza\n"
     ]
    }
   ],
   "execution_count": 312
  },
  {
   "metadata": {},
   "cell_type": "markdown",
   "source": "### Выведите дату заказа и имя человека, сделавшего заказ, отсортированным по дате заказа и по имени человека одновременно.",
   "id": "57329ab7a72075c4"
  },
  {
   "metadata": {
    "ExecuteTime": {
     "end_time": "2025-05-10T15:52:13.949272Z",
     "start_time": "2025-05-10T15:52:13.939205Z"
    }
   },
   "cell_type": "code",
   "source": [
    "cursor.execute(\"\"\"\n",
    "    SELECT po.order_date, p.name AS person_name\n",
    "    FROM ivan_patakin.person_order po\n",
    "    JOIN ivan_patakin.person p ON po.person_id = p.id\n",
    "    ORDER BY po.order_date, p.name;\n",
    "\"\"\")\n",
    "\n",
    "rows = cursor.fetchall()\n",
    "headers = [\"Дата\", \"Имя\"]\n",
    "print(tabulate(rows, headers=headers))"
   ],
   "id": "76f441d0baab5fe8",
   "outputs": [
    {
     "name": "stdout",
     "output_type": "stream",
     "text": [
      "Дата        Имя\n",
      "----------  -------\n",
      "2022-01-01  Andrey\n",
      "2022-01-01  Andrey\n",
      "2022-01-01  Anna\n",
      "2022-01-01  Anna\n",
      "2022-01-01  Irina\n",
      "2022-01-03  Peter\n",
      "2022-01-04  Kate\n",
      "2022-01-05  Peter\n",
      "2022-01-05  Peter\n",
      "2022-01-06  Nataly\n",
      "2022-01-07  Denis\n",
      "2022-01-07  Denis\n",
      "2022-01-07  Denis\n",
      "2022-01-07  Nataly\n",
      "2022-01-08  Denis\n",
      "2022-01-08  Denis\n",
      "2022-01-09  Dmitriy\n",
      "2022-01-09  Elvira\n",
      "2022-01-09  Elvira\n",
      "2022-01-10  Dmitriy\n"
     ]
    }
   ],
   "execution_count": 313
  },
  {
   "metadata": {},
   "cell_type": "markdown",
   "source": "### Выведите имя пиццерии, которая ни разу не была посещена.",
   "id": "64fee40fcf3adb8b"
  },
  {
   "metadata": {
    "ExecuteTime": {
     "end_time": "2025-05-10T15:52:14.051516Z",
     "start_time": "2025-05-10T15:52:14.043723Z"
    }
   },
   "cell_type": "code",
   "source": [
    "cursor.execute(\"\"\"\n",
    "    SELECT p.name AS pizzeria_name\n",
    "    FROM ivan_patakin.pizzeria p\n",
    "    LEFT JOIN ivan_patakin.person_visits pv ON p.id = pv.pizzeria_id\n",
    "    WHERE pv.id IS NULL;\n",
    "\"\"\")\n",
    "\n",
    "rows = cursor.fetchall()\n",
    "for row in rows:\n",
    "    print(row[0])"
   ],
   "id": "fc998e49f69ae929",
   "outputs": [
    {
     "name": "stdout",
     "output_type": "stream",
     "text": [
      "DoDo Pizza\n"
     ]
    }
   ],
   "execution_count": 314
  },
  {
   "metadata": {},
   "cell_type": "markdown",
   "source": "### SQL запрос, который возвращает полный список всех имен людей, независимо посетили они пиццерию в интервал времени от 1 до 3 января 2022 года (включительно крайние дни) или нет. И также запрос должен возвращать полный список названий всех пиццерий, которые возможно были посещены в указанный интервал времени с указанием даты посещения. Все `NULL` значения в ответе преобразуйте в значение ‘-’ (символ тире). Результат отсортируйте по полям имя человека и название пиццерии.",
   "id": "2be5cc202b1a2f09"
  },
  {
   "metadata": {
    "ExecuteTime": {
     "end_time": "2025-05-10T15:52:14.147935Z",
     "start_time": "2025-05-10T15:52:14.138760Z"
    }
   },
   "cell_type": "code",
   "source": [
    "cursor.execute(\"\"\"\n",
    "    WITH valid_visits AS (\n",
    "        SELECT\n",
    "            person_id,\n",
    "            pizzeria_id,\n",
    "            visit_date\n",
    "        FROM\n",
    "            ivan_patakin.person_visits\n",
    "        WHERE\n",
    "            visit_date BETWEEN '2022-01-01' AND '2022-01-03'\n",
    "    )\n",
    "    SELECT\n",
    "        COALESCE(p.name, '-') AS person_name,\n",
    "        COALESCE(TO_CHAR(vv.visit_date, 'YYYY-MM-DD'), '-') AS visit_date,\n",
    "        COALESCE(pr.name, '-') AS pizzeria_name\n",
    "    FROM\n",
    "        ivan_patakin.person p\n",
    "    FULL OUTER JOIN valid_visits vv ON p.id = vv.person_id\n",
    "    FULL OUTER JOIN ivan_patakin.pizzeria pr ON vv.pizzeria_id = pr.id\n",
    "    ORDER BY\n",
    "        person_name,\n",
    "        pizzeria_name;\n",
    "\"\"\")\n",
    "\n",
    "rows = cursor.fetchall()\n",
    "headers = [\"Имя\", \"Дата\", \"Пиццерия\"]\n",
    "print(tabulate(rows, headers=headers))"
   ],
   "id": "2262301e3b64669d",
   "outputs": [
    {
     "name": "stdout",
     "output_type": "stream",
     "text": [
      "Имя      Дата        Пиццерия\n",
      "-------  ----------  ----------\n",
      "-        -           DinoPizza\n",
      "-        -           DoDo Pizza\n",
      "Andrey   2022-01-01  Dominos\n",
      "Andrey   2022-01-02  Pizza Hut\n",
      "Anna     2022-01-01  Pizza Hut\n",
      "Denis    -           -\n",
      "Dmitriy  -           -\n",
      "Elvira   -           -\n",
      "Irina    2022-01-01  Papa Johns\n",
      "Kate     2022-01-03  Best Pizza\n",
      "Nataly   -           -\n",
      "Peter    2022-01-03  Pizza Hut\n"
     ]
    }
   ],
   "execution_count": 315
  },
  {
   "metadata": {},
   "cell_type": "markdown",
   "source": "### Добавьте новую пиццу в меню ресторана Dominos с названием “greek pizza” и ценой 800 рублей.",
   "id": "93f339046a06e751"
  },
  {
   "metadata": {
    "ExecuteTime": {
     "end_time": "2025-05-10T15:52:14.248802Z",
     "start_time": "2025-05-10T15:52:14.227216Z"
    }
   },
   "cell_type": "code",
   "source": [
    "cursor.execute(\"\"\"\n",
    "    INSERT INTO ivan_patakin.menu (pizzeria_id, pizza_name, price)\n",
    "    SELECT\n",
    "        p.id AS pizzeria_id,\n",
    "        'greek pizza' AS pizza_name,\n",
    "        800 AS price\n",
    "    FROM\n",
    "        ivan_patakin.pizzeria p\n",
    "    WHERE\n",
    "        p.name = 'Dominos';\n",
    "\"\"\")\n",
    "\n",
    "connection.commit()\n",
    "print(\"Пицца greek pizza добавлена в ресторан Dominos\")\n",
    "\n",
    "cursor.execute(\"\"\"\n",
    "    SELECT \n",
    "        m.id AS menu_id,\n",
    "        p.name AS pizzeria_name,\n",
    "        m.pizza_name,\n",
    "        m.price\n",
    "    FROM ivan_patakin.menu m\n",
    "    JOIN ivan_patakin.pizzeria p ON m.pizzeria_id = p.id\n",
    "    WHERE m.pizza_name = 'greek pizza';\n",
    "\"\"\")\n",
    "\n",
    "rows = cursor.fetchall()\n",
    "headers = [\"id\", \"Пиццерия\", \"Название пиццы\", \"Цена\"]\n",
    "print(tabulate(rows, headers=headers))\n"
   ],
   "id": "e2300eea438c97b7",
   "outputs": [
    {
     "name": "stdout",
     "output_type": "stream",
     "text": [
      "Пицца greek pizza добавлена в ресторан Dominos\n",
      "  id  Пиццерия    Название пиццы      Цена\n",
      "----  ----------  ----------------  ------\n",
      "  19  Dominos     greek pizza          800\n"
     ]
    }
   ],
   "execution_count": 316
  },
  {
   "metadata": {},
   "cell_type": "markdown",
   "source": "### Обновите цену для пиццы “greek pizza” для ресторана Dominos с учетом 10 % скидки.",
   "id": "5d91d21e027575fb"
  },
  {
   "metadata": {
    "ExecuteTime": {
     "end_time": "2025-05-10T15:52:14.387440Z",
     "start_time": "2025-05-10T15:52:14.365692Z"
    }
   },
   "cell_type": "code",
   "source": [
    "cursor.execute(\"\"\"\n",
    "    UPDATE ivan_patakin.menu\n",
    "    SET price = price * 0.9\n",
    "    WHERE pizza_name = 'greek pizza' AND pizzeria_id = (SELECT id FROM ivan_patakin.pizzeria WHERE name = 'Dominos');\n",
    "\"\"\")\n",
    "\n",
    "connection.commit()\n",
    "\n",
    "print(\"Цена для greek pizza обновлена\")\n",
    "\n",
    "cursor.execute(\"\"\"\n",
    "    SELECT \n",
    "        m.pizza_name, \n",
    "        p.name AS pizzeria_name, \n",
    "        m.price\n",
    "    FROM ivan_patakin.menu m\n",
    "    JOIN ivan_patakin.pizzeria p ON m.pizzeria_id = p.id\n",
    "    WHERE m.pizza_name = 'greek pizza' AND p.name = 'Dominos';\n",
    "\"\"\")\n",
    "\n",
    "rows = cursor.fetchall()\n",
    "headers = [\"Название пиццы\", \"Пиццерия\", \"Цена\"]\n",
    "print(tabulate(rows, headers=headers))"
   ],
   "id": "bc1bfbb33eb266ee",
   "outputs": [
    {
     "name": "stdout",
     "output_type": "stream",
     "text": [
      "Цена для greek pizza обновлена\n",
      "Название пиццы    Пиццерия      Цена\n",
      "----------------  ----------  ------\n",
      "greek pizza       Dominos        720\n"
     ]
    }
   ],
   "execution_count": 317
  },
  {
   "metadata": {},
   "cell_type": "markdown",
   "source": "### Выведите имена всех посетителей, количество посещений в рестораны которых должно быть ровно 3. Результат отсортируйте по имени посетителя.",
   "id": "83247784b9f56ee8"
  },
  {
   "metadata": {
    "ExecuteTime": {
     "end_time": "2025-05-10T15:52:14.496257Z",
     "start_time": "2025-05-10T15:52:14.482225Z"
    }
   },
   "cell_type": "code",
   "source": [
    "cursor.execute(\"\"\"\n",
    "    SELECT \n",
    "        p.name AS person_name,\n",
    "        COUNT(pv.id) AS visit_count\n",
    "    FROM \n",
    "        ivan_patakin.person p\n",
    "    JOIN \n",
    "        ivan_patakin.person_visits pv \n",
    "    ON \n",
    "        p.id = pv.person_id\n",
    "    GROUP BY \n",
    "        p.name\n",
    "    HAVING \n",
    "        COUNT(pv.id) = 3\n",
    "    ORDER BY \n",
    "        p.name;\n",
    "\"\"\")\n",
    "\n",
    "rows = cursor.fetchall()\n",
    "headers = [\"Имя\", \"Количество посещений\"]\n",
    "print(tabulate(rows, headers=headers))"
   ],
   "id": "c32a6a135888ff67",
   "outputs": [
    {
     "name": "stdout",
     "output_type": "stream",
     "text": [
      "Имя        Количество посещений\n",
      "-------  ----------------------\n",
      "Dmitriy                       3\n",
      "Nataly                        3\n"
     ]
    }
   ],
   "execution_count": 318
  },
  {
   "metadata": {},
   "cell_type": "markdown",
   "source": "## Удаление таблиц",
   "id": "605b7f30c24bf7a1"
  },
  {
   "metadata": {
    "ExecuteTime": {
     "end_time": "2025-05-10T15:52:14.605975Z",
     "start_time": "2025-05-10T15:52:14.562788Z"
    }
   },
   "cell_type": "code",
   "source": [
    "cursor.execute(\"\"\"\n",
    "    DROP TABLE IF EXISTS ivan_patakin.person_order;\n",
    "    DROP TABLE IF EXISTS ivan_patakin.menu;\n",
    "    DROP TABLE IF EXISTS ivan_patakin.person_visits;\n",
    "    DROP TABLE IF EXISTS ivan_patakin.pizzeria;\n",
    "    DROP TABLE IF EXISTS ivan_patakin.person;\n",
    "\"\"\")\n",
    "\n",
    "connection.commit()\n",
    "\n",
    "print(\"Таблицы удалены\")"
   ],
   "id": "a149e1baab2382fe",
   "outputs": [
    {
     "name": "stdout",
     "output_type": "stream",
     "text": [
      "Таблицы удалены\n"
     ]
    }
   ],
   "execution_count": 319
  },
  {
   "metadata": {
    "ExecuteTime": {
     "end_time": "2025-05-10T15:52:14.664626Z",
     "start_time": "2025-05-10T15:52:14.657161Z"
    }
   },
   "cell_type": "code",
   "source": [
    "### Закрытие курсора и соединения\n",
    "cursor.close()\n",
    "connection.close()\n",
    "\n",
    "print(\"Соединение с PostgreSQL закрыто.\")"
   ],
   "id": "fe36020f7d9c131e",
   "outputs": [
    {
     "name": "stdout",
     "output_type": "stream",
     "text": [
      "Соединение с PostgreSQL закрыто.\n"
     ]
    }
   ],
   "execution_count": 320
  }
 ],
 "metadata": {
  "kernelspec": {
   "display_name": "Python 3",
   "language": "python",
   "name": "python3"
  },
  "language_info": {
   "codemirror_mode": {
    "name": "ipython",
    "version": 2
   },
   "file_extension": ".py",
   "mimetype": "text/x-python",
   "name": "python",
   "nbconvert_exporter": "python",
   "pygments_lexer": "ipython2",
   "version": "2.7.6"
  }
 },
 "nbformat": 4,
 "nbformat_minor": 5
}
