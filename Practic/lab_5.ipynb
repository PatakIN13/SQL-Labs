{
 "cells": [
  {
   "cell_type": "markdown",
   "id": "e7663cbee6c57f07",
   "metadata": {},
   "source": [
    "# Лабораторная работа No5\n",
    "## Задача:\n",
    "### 1. Адаптируйте pizza-скрипт для базы данных PostgreSQL.\n",
    "Скрип аналогичен скрипту из лабораторной работы No2.\n",
    "Если есть необходимость, то вы можете применить его заново, предварительно удалив таблицы командой.  \n",
    "![Диаграмма](media/lab_2_1.png)\n",
    "#### Таблица `pizzeria` (Справочник пиццерий - ресторанов)\n",
    "- поле `id` - первичный ключ\n",
    "- поле `name` - имя пиццы\n",
    "- поле `rating` - средний рейтинг ресторана (от 0 до 5 звезд)\n",
    "#### Таблица `person` (Справочник людей кто любит пиццу)\n",
    "- поле `id` - первичный ключ\n",
    "- поле `name` - имя человека\n",
    "- поле `age` - возраст\n",
    "- поле `gender` - пол\n",
    "- поле `address` - адрес проживания\n",
    "#### Таблица `menu` (Справочник доступных меню с ценами и конкретными видами\n",
    "пицц)\n",
    "- поле `id` - первичный ключ\n",
    "- поле `pizzeria_id` - ссылка на пиццерию\n",
    "- поле `pizza_name` - название пиццы\n",
    "- поле `price` - цена пиццы\n",
    "#### Таблица `person_visits` (Операционная таблица с информацией о посещении\n",
    "людей конкретных пиццерий)\n",
    "- поле `id` - первичный ключ\n",
    "- поле `person_id` - ссылка на посетившего человека\n",
    "- поле `pizzeria_id` - ссылка на ресторан\n",
    "- поле `visit_date` - дата (например 2022-01-01) визита\n",
    "#### Таблица `person_order` (Операционная таблица с информацией о покупках пицц\n",
    "людьми)\n",
    "- поле `id` - первичный ключ\n",
    "- поле `person_id` - ссылка на человека, который приобрел пиццу\n",
    "- поле `menu_id` - ссылка на меню\n",
    "- поле `order_date` - дата (например 2022-01-01) покупки\n",
    "\n",
    "### 2. Необходимо создать 1 BI дашборд в Superset с 3 графиками на основании 3 SQL запросов.\n",
    "Задание считается выполненным - если SQL запрос написан синтаксически корректно и возвращает ожидаемые данные на условие задачи.\n",
    "\n",
    "Superset - https://superset.apache.org/docs/quickstart/\n",
    "\n",
    "Какой вид / тип визуализации вы будет использовать - решать Вам самим!\n",
    "- Анализ популярности пиццерий по возрастным группам\n",
    "    \n",
    "    Определите, какие пиццерии наиболее популярны среди разных возрастных групп. Разделите людей на возрастные группы: до 18 лет, 18-25 лет, 26-40 лет и старше 40. Для каждой группы и пиццерии выведите:\n",
    "    - возрастную группу\n",
    "    - название пиццерии\n",
    "    - количество посещений\n",
    "    - средний рейтинг пиццерии\n",
    "    - общую сумму потраченных денег в этой пиццерии\n",
    "\n",
    "    Отсортируйте по возрастной группе и убыванию количества посещений.\n",
    "\n",
    "- Сравнение мужских и женских предпочтений по городам\n",
    "\n",
    "    Проанализируйте различия в предпочтениях между мужчинами и женщинами в разных городах. Выведите:\n",
    "    - город\n",
    "    - пол\n",
    "    - самое популярное название пиццы (по количеству заказов)\n",
    "    - среднюю стоимость заказа\n",
    "    - количество уникальных посетителей пиццерий\n",
    "    - долю заказов этого пола от общего числа заказов в городе (в процентах)\n",
    "    \n",
    "    Отсортируйте по городу и полу.\n",
    "\n",
    "- Анализ динамики продаж по дням недели\n",
    "    Исследуйте, как день недели влияет на активность посещений пиццерий. Выведите:\n",
    "    - название пиццерии\n",
    "    - день недели (понедельник, вторник и т.д.)\n",
    "    - количество посещений\n",
    "    - количество сделанных заказов\n",
    "    - средний чек (общая сумма / количество заказов)\n",
    "    - разницу в среднем чеке по сравнению со средним чеком всей пиццерии (в процентах)\n",
    "\n",
    "  Отсортируйте по названию пиццерии и дню недели (от понедельника до воскресенья)."
   ]
  },
  {
   "cell_type": "markdown",
   "id": "75b8d5c8715c45e4",
   "metadata": {},
   "source": [
    "## Создаем подключение к БД"
   ]
  },
  {
   "cell_type": "code",
   "id": "initial_id",
   "metadata": {
    "collapsed": true,
    "ExecuteTime": {
     "end_time": "2025-06-06T11:55:01.211043Z",
     "start_time": "2025-06-06T11:55:01.150450Z"
    }
   },
   "source": [
    "import psycopg2\n",
    "from tabulate import tabulate\n",
    "\n",
    "### Подключение к PostgreSQL\n",
    "connection = psycopg2.connect(\n",
    "    host=\"localhost\",\n",
    "    port=\"5432\",\n",
    "    database=\"\",\n",
    "    user=\"\",\n",
    "    password=\"\",\n",
    ")\n",
    "### Создание курсора\n",
    "cursor = connection.cursor()\n",
    "\n",
    "print(\"Подключение к PostgreSQL успешно.\")"
   ],
   "outputs": [
    {
     "name": "stdout",
     "output_type": "stream",
     "text": [
      "Подключение к PostgreSQL успешно.\n"
     ]
    }
   ],
   "execution_count": 59
  },
  {
   "cell_type": "markdown",
   "id": "c298602acafe5749",
   "metadata": {},
   "source": [
    "## Создание схемы\n",
    "### !Отключено, для данной работы схема создается в скрипте pizza_model.sql"
   ]
  },
  {
   "cell_type": "code",
   "id": "6cf3b2dac501e96e",
   "metadata": {
    "ExecuteTime": {
     "end_time": "2025-06-06T11:55:01.329445Z",
     "start_time": "2025-06-06T11:55:01.319712Z"
    }
   },
   "source": [
    "#cursor.execute(\"CREATE SCHEMA IF NOT EXISTS ivan_patakin;\")\n",
    "#connection.commit()\n",
    "\n",
    "#print(\"Схема 'ivan_patakin' создана.\")"
   ],
   "outputs": [],
   "execution_count": 60
  },
  {
   "cell_type": "markdown",
   "id": "a8c2ff5b0556157f",
   "metadata": {},
   "source": [
    "## Выполняем pizza-скрипт для создания таблиц"
   ]
  },
  {
   "cell_type": "markdown",
   "id": "6d404335ec276018",
   "metadata": {},
   "source": [
    "pizza_model был немного изменен в lab_2:\n",
    "1. Добавлено создание схемы, если она не создана.\n",
    "2. Добавлен автоинкремент ко всем таблицам и восстановлена последовательность в соответствии с данными уже находящимися в таблице"
   ]
  },
  {
   "cell_type": "code",
   "id": "77c26d19c9ea6ee3",
   "metadata": {
    "ExecuteTime": {
     "end_time": "2025-06-06T11:55:01.782030Z",
     "start_time": "2025-06-06T11:55:01.477673Z"
    }
   },
   "source": [
    "with open('Data/Lab2/pizza_model.sql', 'r', encoding='utf-8') as file:\n",
    "    sql_script = file.read()\n",
    "    \n",
    "cursor.execute(sql_script)\n",
    "\n",
    "connection.commit()\n",
    "\n",
    "print(\"pizza-скрипт выполнен\")"
   ],
   "outputs": [
    {
     "name": "stdout",
     "output_type": "stream",
     "text": [
      "pizza-скрипт выполнен\n"
     ]
    }
   ],
   "execution_count": 61
  },
  {
   "cell_type": "markdown",
   "id": "41bff7185d42b14a",
   "metadata": {},
   "source": [
    "## SQL запросы:"
   ]
  },
  {
   "cell_type": "markdown",
   "id": "648596d0ae230b0a",
   "metadata": {},
   "source": [
    "### Анализ популярности пиццерий по возрастным группам"
   ]
  },
  {
   "cell_type": "code",
   "id": "95c00115dc7d4666",
   "metadata": {
    "ExecuteTime": {
     "end_time": "2025-06-06T11:55:01.974684Z",
     "start_time": "2025-06-06T11:55:01.916380Z"
    }
   },
   "source": [
    "cursor.execute(\"\"\"\n",
    "CREATE VIEW ivan_patakin.popularity_by_age_group AS\n",
    "WITH age_groups AS (\n",
    "    SELECT\n",
    "        p.id AS person_id,\n",
    "        CASE\n",
    "            WHEN p.age < 18 THEN 'до 18 лет'\n",
    "            WHEN p.age BETWEEN 18 AND 25 THEN '18-25 лет'\n",
    "            WHEN p.age BETWEEN 26 AND 40 THEN '26-40 лет'\n",
    "            ELSE 'старше 40 лет'\n",
    "        END AS age_group\n",
    "    FROM ivan_patakin.person p\n",
    "),\n",
    "visits_summary AS (\n",
    "    SELECT\n",
    "        ag.age_group,\n",
    "        pv.pizzeria_id,\n",
    "        COUNT(*) AS visit_count\n",
    "    FROM ivan_patakin.person_visits pv\n",
    "    JOIN age_groups ag ON pv.person_id = ag.person_id\n",
    "    GROUP BY ag.age_group, pv.pizzeria_id\n",
    "),\n",
    "spending_summary AS (\n",
    "    SELECT\n",
    "        ag.age_group,\n",
    "        m.pizzeria_id,\n",
    "        SUM(m.price) AS total_spent\n",
    "    FROM ivan_patakin.person_order po\n",
    "    JOIN ivan_patakin.menu m ON po.menu_id = m.id\n",
    "    JOIN age_groups ag ON po.person_id = ag.person_id\n",
    "    GROUP BY ag.age_group, m.pizzeria_id\n",
    ")\n",
    "SELECT\n",
    "    vs.age_group,\n",
    "    pz.name AS pizzeria_name,\n",
    "    vs.visit_count,\n",
    "    pz.rating AS average_rating,\n",
    "    COALESCE(ss.total_spent, 0) AS total_spent\n",
    "FROM visits_summary vs\n",
    "JOIN ivan_patakin.pizzeria pz ON vs.pizzeria_id = pz.id\n",
    "LEFT JOIN spending_summary ss ON vs.age_group = ss.age_group AND vs.pizzeria_id = ss.pizzeria_id\n",
    "ORDER BY\n",
    "    vs.age_group,\n",
    "    vs.visit_count DESC;\n",
    "\"\"\")\n",
    "\n",
    "connection.commit()\n",
    "\n",
    "print(\"Представление для популярности пиццерий по возрастным группам создано\")\n"
   ],
   "outputs": [
    {
     "name": "stdout",
     "output_type": "stream",
     "text": [
      "Представление для популярности пиццерий по возрастным группам создано\n"
     ]
    }
   ],
   "execution_count": 62
  },
  {
   "metadata": {
    "ExecuteTime": {
     "end_time": "2025-06-06T11:55:02.626890Z",
     "start_time": "2025-06-06T11:55:02.596240Z"
    }
   },
   "cell_type": "code",
   "source": [
    "cursor.execute(\"\"\"\n",
    "SELECT \n",
    "    age_group AS \"Возрастная группа\",\n",
    "    pizzeria_name AS \"Название пиццерии\",\n",
    "    visit_count AS \"Количество посещений\",\n",
    "    average_rating AS \"Средний рейтинг\",\n",
    "    total_spent AS \"Общая сумма потраченных денег\"\n",
    "FROM ivan_patakin.popularity_by_age_group;\n",
    "\"\"\")\n",
    "\n",
    "rows = cursor.fetchall()\n",
    "\n",
    "print(\"Популярность пиццерий по возрастным группам:\")\n",
    "headers = [\"Возрастная группа\", \"Название пиццерии\", \"Количество посещений\", \"Средний рейтинг\", \"Общая сумма потраченных денег\"]\n",
    "print(tabulate(rows, headers=headers, tablefmt=\"grid\"))"
   ],
   "id": "6b97c25120aad0a9",
   "outputs": [
    {
     "name": "stdout",
     "output_type": "stream",
     "text": [
      "Популярность пиццерий по возрастным группам:\n",
      "+---------------------+---------------------+------------------------+-------------------+---------------------------------+\n",
      "| Возрастная группа   | Название пиццерии   |   Количество посещений |   Средний рейтинг |   Общая сумма потраченных денег |\n",
      "+=====================+=====================+========================+===================+=================================+\n",
      "| 18-25 лет           | Dominos             |                      3 |               4.3 |                            3000 |\n",
      "+---------------------+---------------------+------------------------+-------------------+---------------------------------+\n",
      "| 18-25 лет           | Pizza Hut           |                      2 |               4.6 |                            2400 |\n",
      "+---------------------+---------------------+------------------------+-------------------+---------------------------------+\n",
      "| 18-25 лет           | Papa Johns          |                      2 |               4.9 |                             950 |\n",
      "+---------------------+---------------------+------------------------+-------------------+---------------------------------+\n",
      "| 18-25 лет           | Best Pizza          |                      1 |               2.3 |                             850 |\n",
      "+---------------------+---------------------+------------------------+-------------------+---------------------------------+\n",
      "| 18-25 лет           | DinoPizza           |                      1 |               4.2 |                             800 |\n",
      "+---------------------+---------------------+------------------------+-------------------+---------------------------------+\n",
      "| 26-40 лет           | Pizza Hut           |                      1 |               4.6 |                               0 |\n",
      "+---------------------+---------------------+------------------------+-------------------+---------------------------------+\n",
      "| 26-40 лет           | Best Pizza          |                      1 |               2.3 |                             700 |\n",
      "+---------------------+---------------------+------------------------+-------------------+---------------------------------+\n",
      "| 26-40 лет           | Dominos             |                      1 |               4.3 |                             800 |\n",
      "+---------------------+---------------------+------------------------+-------------------+---------------------------------+\n",
      "| 26-40 лет           | Papa Johns          |                      1 |               4.9 |                            1000 |\n",
      "+---------------------+---------------------+------------------------+-------------------+---------------------------------+\n",
      "| 26-40 лет           | DinoPizza           |                      1 |               4.2 |                               0 |\n",
      "+---------------------+---------------------+------------------------+-------------------+---------------------------------+\n",
      "| до 18 лет           | Best Pizza          |                      1 |               2.3 |                            2350 |\n",
      "+---------------------+---------------------+------------------------+-------------------+---------------------------------+\n",
      "| до 18 лет           | DinoPizza           |                      1 |               4.2 |                            1800 |\n",
      "+---------------------+---------------------+------------------------+-------------------+---------------------------------+\n",
      "| до 18 лет           | Pizza Hut           |                      1 |               4.6 |                            2100 |\n",
      "+---------------------+---------------------+------------------------+-------------------+---------------------------------+\n",
      "| старше 40 лет       | DinoPizza           |                      1 |               4.2 |                            1800 |\n",
      "+---------------------+---------------------+------------------------+-------------------+---------------------------------+\n",
      "| старше 40 лет       | Dominos             |                      1 |               4.3 |                               0 |\n",
      "+---------------------+---------------------+------------------------+-------------------+---------------------------------+\n"
     ]
    }
   ],
   "execution_count": 63
  },
  {
   "cell_type": "markdown",
   "id": "abcc9c1e3e6b4b62",
   "metadata": {},
   "source": [
    "![Диаграмма](Data/Lab5/A.jpg)"
   ]
  },
  {
   "cell_type": "markdown",
   "id": "830a56f56e97bf65",
   "metadata": {},
   "source": [
    "### Сравнение мужских и женских предпочтений по городам\n"
   ]
  },
  {
   "cell_type": "code",
   "id": "d5007241226c2d68",
   "metadata": {
    "ExecuteTime": {
     "end_time": "2025-06-06T11:55:03.059134Z",
     "start_time": "2025-06-06T11:55:03.020631Z"
    }
   },
   "source": [
    "cursor.execute(\"\"\"\n",
    "CREATE VIEW ivan_patakin.gender_preferences_by_city AS\n",
    "WITH orders_summary AS (\n",
    "    SELECT\n",
    "        p.address AS city,\n",
    "        p.gender,\n",
    "        COUNT(*) AS total_orders,\n",
    "        ROUND(AVG(m.price), 2) AS avg_order_price,\n",
    "        COUNT(DISTINCT p.id) AS unique_visitors\n",
    "    FROM ivan_patakin.person_order po\n",
    "    JOIN ivan_patakin.person p ON po.person_id = p.id\n",
    "    JOIN ivan_patakin.menu m ON po.menu_id = m.id\n",
    "    GROUP BY p.address, p.gender\n",
    "),\n",
    "pizza_popularity AS (\n",
    "    SELECT\n",
    "        p.address AS city,\n",
    "        p.gender,\n",
    "        m.pizza_name,\n",
    "        COUNT(*) AS pizza_count,\n",
    "        ROW_NUMBER() OVER (PARTITION BY p.address, p.gender ORDER BY COUNT(*) DESC, m.pizza_name) AS rank\n",
    "    FROM ivan_patakin.person_order po\n",
    "    JOIN ivan_patakin.person p ON po.person_id = p.id\n",
    "    JOIN ivan_patakin.menu m ON po.menu_id = m.id\n",
    "    GROUP BY p.address, p.gender, m.pizza_name\n",
    "),\n",
    "city_orders AS (\n",
    "    SELECT\n",
    "        p.address AS city,\n",
    "        COUNT(*) AS total_city_orders\n",
    "    FROM ivan_patakin.person_order po\n",
    "    JOIN ivan_patakin.person p ON po.person_id = p.id\n",
    "    GROUP BY p.address\n",
    ")\n",
    "SELECT\n",
    "    os.city,\n",
    "    os.gender,\n",
    "    pp.pizza_name AS most_popular_pizza,\n",
    "    os.total_orders,\n",
    "    os.avg_order_price,\n",
    "    os.unique_visitors,\n",
    "    ROUND((os.total_orders::NUMERIC / co.total_city_orders) * 100, 2) AS order_share_percentage\n",
    "FROM orders_summary os\n",
    "JOIN pizza_popularity pp ON os.city = pp.city AND os.gender = pp.gender AND pp.rank = 1\n",
    "JOIN city_orders co ON os.city = co.city\n",
    "ORDER BY os.city, os.gender;\n",
    "\"\"\")\n",
    "\n",
    "connection.commit()\n",
    "\n",
    "print(\"Представление для мужских и женских предпочтений по городам создано\")"
   ],
   "outputs": [
    {
     "name": "stdout",
     "output_type": "stream",
     "text": [
      "Представление для мужских и женских предпочтений по городам создано\n"
     ]
    }
   ],
   "execution_count": 64
  },
  {
   "metadata": {
    "ExecuteTime": {
     "end_time": "2025-06-06T11:55:03.372610Z",
     "start_time": "2025-06-06T11:55:03.340617Z"
    }
   },
   "cell_type": "code",
   "source": [
    "cursor.execute(\"\"\"\n",
    "SELECT \n",
    "    city AS \"Город\",\n",
    "    gender AS \"Пол\",\n",
    "    most_popular_pizza AS \"Самая популярная пицца\",\n",
    "    total_orders AS \"Общее количество заказов\",\n",
    "    avg_order_price AS \"Средняя стоимость заказа\",\n",
    "    unique_visitors AS \"Количество уникальных посетителей\",\n",
    "    order_share_percentage AS \"Доля заказов (%)\"\n",
    "FROM ivan_patakin.gender_preferences_by_city;\n",
    "\"\"\")\n",
    "\n",
    "rows = cursor.fetchall()\n",
    "\n",
    "print(\"Сравнение мужских и женских предпочтений по городам:\")\n",
    "headers = [\"Город\", \"Пол\", \"Самая популярная пицца\", \"Общее количество заказов\", \"Средняя стоимость заказа\", \"Количество уникальных посетителей\", \"Доля заказов (%)\"]\n",
    "print(tabulate(rows, headers=headers, tablefmt=\"grid\"))"
   ],
   "id": "477d60a4cfea1188",
   "outputs": [
    {
     "name": "stdout",
     "output_type": "stream",
     "text": [
      "Сравнение мужских и женских предпочтений по городам:\n",
      "+------------------+--------+--------------------------+----------------------------+----------------------------+-------------------------------------+--------------------+\n",
      "| Город            | Пол    | Самая популярная пицца   |   Общее количество заказов |   Средняя стоимость заказа |   Количество уникальных посетителей |   Доля заказов (%) |\n",
      "+==================+========+==========================+============================+============================+=====================================+====================+\n",
      "| Kazan            | female | cheese pizza             |                          3 |                     833.33 |                                   2 |               37.5 |\n",
      "+------------------+--------+--------------------------+----------------------------+----------------------------+-------------------------------------+--------------------+\n",
      "| Kazan            | male   | pepperoni pizza          |                          5 |                     830    |                                   1 |               62.5 |\n",
      "+------------------+--------+--------------------------+----------------------------+----------------------------+-------------------------------------+--------------------+\n",
      "| Moscow           | female | cheese pizza             |                          2 |                    1050    |                                   1 |               50   |\n",
      "+------------------+--------+--------------------------+----------------------------+----------------------------+-------------------------------------+--------------------+\n",
      "| Moscow           | male   | cheese pizza             |                          2 |                     950    |                                   1 |               50   |\n",
      "+------------------+--------+--------------------------+----------------------------+----------------------------+-------------------------------------+--------------------+\n",
      "| Novosibirsk      | female | cheese pizza             |                          2 |                     900    |                                   1 |              100   |\n",
      "+------------------+--------+--------------------------+----------------------------+----------------------------+-------------------------------------+--------------------+\n",
      "| Saint-Petersburg | female | mushroom pizza           |                          1 |                     950    |                                   1 |               25   |\n",
      "+------------------+--------+--------------------------+----------------------------+----------------------------+-------------------------------------+--------------------+\n",
      "| Saint-Petersburg | male   | mushroom pizza           |                          3 |                    1166.67 |                                   1 |               75   |\n",
      "+------------------+--------+--------------------------+----------------------------+----------------------------+-------------------------------------+--------------------+\n",
      "| Samara           | male   | pepperoni pizza          |                          2 |                     825    |                                   1 |              100   |\n",
      "+------------------+--------+--------------------------+----------------------------+----------------------------+-------------------------------------+--------------------+\n"
     ]
    }
   ],
   "execution_count": 65
  },
  {
   "cell_type": "markdown",
   "id": "3c7de9c975e19aee",
   "metadata": {},
   "source": [
    "![Диаграмма](Data/Lab5/B.jpg)"
   ]
  },
  {
   "cell_type": "markdown",
   "id": "d9e0115683cdb19a",
   "metadata": {},
   "source": [
    "### Анализ динамики продаж по дням недели"
   ]
  },
  {
   "cell_type": "code",
   "id": "751b1eb6a1209264",
   "metadata": {
    "ExecuteTime": {
     "end_time": "2025-06-06T11:55:03.592843Z",
     "start_time": "2025-06-06T11:55:03.566397Z"
    }
   },
   "source": [
    "cursor.execute(\"\"\"\n",
    "CREATE VIEW ivan_patakin.sales_dynamics_by_weekday AS\n",
    "WITH visits_by_weekday AS (\n",
    "    SELECT\n",
    "        pz.name AS pizzeria_name,\n",
    "        TRIM(TO_CHAR(pv.visit_date, 'Day')) AS weekday,\n",
    "        COUNT(*) AS visit_count\n",
    "    FROM ivan_patakin.person_visits pv\n",
    "    JOIN ivan_patakin.pizzeria pz ON pv.pizzeria_id = pz.id\n",
    "    GROUP BY pz.name, TRIM(TO_CHAR(pv.visit_date, 'Day'))\n",
    "),\n",
    "orders_by_weekday AS (\n",
    "    SELECT\n",
    "        pz.name AS pizzeria_name,\n",
    "        TRIM(TO_CHAR(po.order_date, 'Day')) AS weekday,\n",
    "        COUNT(*) AS order_count,\n",
    "        SUM(m.price) AS total_revenue,\n",
    "        ROUND(AVG(m.price), 2) AS avg_check\n",
    "    FROM ivan_patakin.person_order po\n",
    "    JOIN ivan_patakin.menu m ON po.menu_id = m.id\n",
    "    JOIN ivan_patakin.pizzeria pz ON m.pizzeria_id = pz.id\n",
    "    GROUP BY pz.name, TRIM(TO_CHAR(po.order_date, 'Day'))\n",
    "),\n",
    "avg_check_by_pizzeria AS (\n",
    "    SELECT\n",
    "        pz.name AS pizzeria_name,\n",
    "        ROUND(AVG(m.price), 2) AS overall_avg_check\n",
    "    FROM ivan_patakin.menu m\n",
    "    JOIN ivan_patakin.pizzeria pz ON m.pizzeria_id = pz.id\n",
    "    GROUP BY pz.name\n",
    ")\n",
    "SELECT\n",
    "    vbw.pizzeria_name,\n",
    "    vbw.weekday,\n",
    "    vbw.visit_count,\n",
    "    obw.order_count,\n",
    "    obw.avg_check,\n",
    "    ROUND(((obw.avg_check - acbp.overall_avg_check) / acbp.overall_avg_check) * 100, 2) AS avg_check_difference_percentage\n",
    "FROM visits_by_weekday vbw\n",
    "LEFT JOIN orders_by_weekday obw ON vbw.pizzeria_name = obw.pizzeria_name AND vbw.weekday = obw.weekday\n",
    "JOIN avg_check_by_pizzeria acbp ON vbw.pizzeria_name = acbp.pizzeria_name\n",
    "ORDER BY vbw.pizzeria_name, \n",
    "         CASE \n",
    "             WHEN vbw.weekday = 'Monday' THEN 1\n",
    "             WHEN vbw.weekday = 'Tuesday' THEN 2\n",
    "             WHEN vbw.weekday = 'Wednesday' THEN 3\n",
    "             WHEN vbw.weekday = 'Thursday' THEN 4\n",
    "             WHEN vbw.weekday = 'Friday' THEN 5\n",
    "             WHEN vbw.weekday = 'Saturday' THEN 6\n",
    "             WHEN vbw.weekday = 'Sunday' THEN 7\n",
    "         END;\n",
    "\"\"\")\n",
    "\n",
    "connection.commit()\n",
    "print(\"Представление для динамики продаж по дням недели создано\")"
   ],
   "outputs": [
    {
     "name": "stdout",
     "output_type": "stream",
     "text": [
      "Представление для динамики продаж по дням недели создано\n"
     ]
    }
   ],
   "execution_count": 66
  },
  {
   "metadata": {
    "ExecuteTime": {
     "end_time": "2025-06-06T11:55:03.883351Z",
     "start_time": "2025-06-06T11:55:03.849912Z"
    }
   },
   "cell_type": "code",
   "source": [
    "cursor.execute(\"\"\"\n",
    "SELECT \n",
    "    pizzeria_name AS \"Название пиццерии\",\n",
    "    weekday AS \"День недели\",\n",
    "    visit_count AS \"Количество посещений\",\n",
    "    order_count AS \"Количество заказов\",\n",
    "    avg_check AS \"Средний чек\",\n",
    "    avg_check_difference_percentage AS \"Разница в среднем чеке (%)\"\n",
    "FROM ivan_patakin.sales_dynamics_by_weekday;\n",
    "\"\"\")\n",
    "\n",
    "rows = cursor.fetchall()\n",
    "\n",
    "print(\"Динамика продаж по дням недели:\")\n",
    "headers = [\"Название пиццерии\", \"День недели\", \"Количество посещений\", \"Количество заказов\", \"Средний чек\", \"Разница в среднем чеке (%)\"]\n",
    "print(tabulate(rows, headers=headers, tablefmt=\"grid\"))"
   ],
   "id": "a72617c76c56b314",
   "outputs": [
    {
     "name": "stdout",
     "output_type": "stream",
     "text": [
      "Динамика продаж по дням недели:\n",
      "+---------------------+---------------+------------------------+----------------------+---------------+------------------------------+\n",
      "| Название пиццерии   | День недели   |   Количество посещений |   Количество заказов |   Средний чек |   Разница в среднем чеке (%) |\n",
      "+=====================+===============+========================+======================+===============+==============================+\n",
      "| Best Pizza          | Monday        |                      1 |                      |               |                              |\n",
      "+---------------------+---------------+------------------------+----------------------+---------------+------------------------------+\n",
      "| Best Pizza          | Friday        |                      1 |                    3 |        783.33 |                         0    |\n",
      "+---------------------+---------------+------------------------+----------------------+---------------+------------------------------+\n",
      "| Best Pizza          | Sunday        |                      1 |                    1 |        850    |                         8.51 |\n",
      "+---------------------+---------------+------------------------+----------------------+---------------+------------------------------+\n",
      "| DinoPizza           | Monday        |                      1 |                    1 |        800    |                       -12.73 |\n",
      "+---------------------+---------------+------------------------+----------------------+---------------+------------------------------+\n",
      "| DinoPizza           | Tuesday       |                      1 |                      |               |                              |\n",
      "+---------------------+---------------+------------------------+----------------------+---------------+------------------------------+\n",
      "| DinoPizza           | Saturday      |                      1 |                    2 |        900    |                        -1.82 |\n",
      "+---------------------+---------------+------------------------+----------------------+---------------+------------------------------+\n",
      "| DinoPizza           | Sunday        |                      1 |                    2 |        900    |                        -1.82 |\n",
      "+---------------------+---------------+------------------------+----------------------+---------------+------------------------------+\n",
      "| Dominos             | Wednesday     |                      1 |                    1 |       1100    |                        15.79 |\n",
      "+---------------------+---------------+------------------------+----------------------+---------------+------------------------------+\n",
      "| Dominos             | Thursday      |                      1 |                    1 |        800    |                       -15.79 |\n",
      "+---------------------+---------------+------------------------+----------------------+---------------+------------------------------+\n",
      "| Dominos             | Saturday      |                      2 |                    2 |        950    |                         0    |\n",
      "+---------------------+---------------+------------------------+----------------------+---------------+------------------------------+\n",
      "| Dominos             | Sunday        |                      1 |                      |               |                              |\n",
      "+---------------------+---------------+------------------------+----------------------+---------------+------------------------------+\n",
      "| Papa Johns          | Friday        |                      1 |                    1 |       1000    |                        11.11 |\n",
      "+---------------------+---------------+------------------------+----------------------+---------------+------------------------------+\n",
      "| Papa Johns          | Saturday      |                      2 |                    1 |        950    |                         5.56 |\n",
      "+---------------------+---------------+------------------------+----------------------+---------------+------------------------------+\n",
      "| Pizza Hut           | Monday        |                      1 |                    1 |       1200    |                         6.67 |\n",
      "+---------------------+---------------+------------------------+----------------------+---------------+------------------------------+\n",
      "| Pizza Hut           | Wednesday     |                      1 |                    1 |       1200    |                         6.67 |\n",
      "+---------------------+---------------+------------------------+----------------------+---------------+------------------------------+\n",
      "| Pizza Hut           | Saturday      |                      1 |                    2 |       1050    |                        -6.67 |\n",
      "+---------------------+---------------+------------------------+----------------------+---------------+------------------------------+\n",
      "| Pizza Hut           | Sunday        |                      1 |                      |               |                              |\n",
      "+---------------------+---------------+------------------------+----------------------+---------------+------------------------------+\n"
     ]
    }
   ],
   "execution_count": 67
  },
  {
   "metadata": {},
   "cell_type": "markdown",
   "source": "![Диаграмма](Data/Lab5/C.jpg)",
   "id": "808831190cc1b03c"
  },
  {
   "metadata": {},
   "cell_type": "markdown",
   "source": [
    "## Дашборд\n",
    "![Диаграмма](Data/Lab5/ALL.jpg)"
   ],
   "id": "dd181afc9b4bee41"
  },
  {
   "metadata": {},
   "cell_type": "markdown",
   "source": "## Удаление таблиц",
   "id": "3bb63bfacd45727a"
  },
  {
   "metadata": {
    "ExecuteTime": {
     "end_time": "2025-06-06T11:55:04.127171Z",
     "start_time": "2025-06-06T11:55:04.077686Z"
    }
   },
   "cell_type": "code",
   "source": [
    "cursor.execute(\"\"\"\n",
    "    DROP VIEW IF EXISTS ivan_patakin.popularity_by_age_group;\n",
    "    DROP VIEW IF EXISTS ivan_patakin.gender_preferences_by_city;\n",
    "    DROP VIEW IF EXISTS ivan_patakin.sales_dynamics_by_weekday;\n",
    "    DROP TABLE IF EXISTS ivan_patakin.person_order;\n",
    "    DROP TABLE IF EXISTS ivan_patakin.menu;\n",
    "    DROP TABLE IF EXISTS ivan_patakin.person_visits;\n",
    "    DROP TABLE IF EXISTS ivan_patakin.pizzeria;\n",
    "    DROP TABLE IF EXISTS ivan_patakin.person;\n",
    "\"\"\")\n",
    "\n",
    "connection.commit()\n",
    "\n",
    "print(\"Таблицы удалены\")"
   ],
   "id": "a283a36a1467634c",
   "outputs": [
    {
     "name": "stdout",
     "output_type": "stream",
     "text": [
      "Таблицы удалены\n"
     ]
    }
   ],
   "execution_count": 68
  },
  {
   "cell_type": "code",
   "id": "95744c62a3b471c0",
   "metadata": {
    "ExecuteTime": {
     "end_time": "2025-06-06T11:55:04.306113Z",
     "start_time": "2025-06-06T11:55:04.293522Z"
    }
   },
   "source": [
    "cursor.close()\n",
    "connection.close()\n",
    "\n",
    "print(\"Соединение с PostgreSQL закрыто.\")"
   ],
   "outputs": [
    {
     "name": "stdout",
     "output_type": "stream",
     "text": [
      "Соединение с PostgreSQL закрыто.\n"
     ]
    }
   ],
   "execution_count": 69
  }
 ],
 "metadata": {
  "kernelspec": {
   "display_name": "Python 3",
   "language": "python",
   "name": "python3"
  },
  "language_info": {
   "codemirror_mode": {
    "name": "ipython",
    "version": 2
   },
   "file_extension": ".py",
   "mimetype": "text/x-python",
   "name": "python",
   "nbconvert_exporter": "python",
   "pygments_lexer": "ipython2",
   "version": "2.7.6"
  }
 },
 "nbformat": 4,
 "nbformat_minor": 5
}
