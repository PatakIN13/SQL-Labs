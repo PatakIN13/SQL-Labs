{
 "cells": [
  {
   "cell_type": "markdown",
   "id": "cdfceba4730f5571",
   "metadata": {},
   "source": [
    "# Lab 1. PostgreSQL\n",
    "Задача:\n",
    "Подтвердить или опровергнуть “миф” о том, что виртуальная таблица\n",
    "(VIEW), созданная на SQL запросе, работает медленнее, чем запрос к\n",
    "оригинальной таблице напрямую."
   ]
  },
  {
   "cell_type": "code",
   "id": "initial_id",
   "metadata": {
    "collapsed": true,
    "jupyter": {
     "outputs_hidden": true
    },
    "ExecuteTime": {
     "end_time": "2025-04-14T05:11:31.517913Z",
     "start_time": "2025-04-14T05:11:31.081395Z"
    }
   },
   "source": [
    "import psycopg2\n",
    "### Подключение к PostgreSQL\n",
    "connection = psycopg2.connect(\n",
    "    host=\"localhost\",\n",
    "    port=\"5432\",\n",
    "    database=\"\",\n",
    "    user=\"\",\n",
    "    password=\"\",\n",
    ")\n",
    "### Создание курсора\n",
    "cursor = connection.cursor()\n",
    "\n",
    "print(\"Подключение к PostgreSQL успешно.\")"
   ],
   "outputs": [
    {
     "name": "stdout",
     "output_type": "stream",
     "text": [
      "Подключение к PostgreSQL успешно.\n"
     ]
    }
   ],
   "execution_count": 143
  },
  {
   "cell_type": "code",
   "id": "4f3d06112ff19692",
   "metadata": {
    "ExecuteTime": {
     "end_time": "2025-04-14T05:11:34.654951Z",
     "start_time": "2025-04-14T05:11:34.445659Z"
    }
   },
   "source": [
    "### Создание cхемы\n",
    "cursor.execute(\"CREATE SCHEMA IF NOT EXISTS ivan_patakin;\")\n",
    "connection.commit()\n",
    "\n",
    "print(\"Схема 'ivan_patakin' создана.\")"
   ],
   "outputs": [
    {
     "name": "stdout",
     "output_type": "stream",
     "text": [
      "Схема 'ivan_patakin' создана.\n"
     ]
    }
   ],
   "execution_count": 144
  },
  {
   "cell_type": "code",
   "id": "ff37df0db6556768",
   "metadata": {
    "ExecuteTime": {
     "end_time": "2025-04-14T05:11:34.934021Z",
     "start_time": "2025-04-14T05:11:34.747794Z"
    }
   },
   "source": [
    "### Создание таблицы\n",
    "cursor.execute(\"CREATE TABLE ivan_patakin.student (id SERIAL PRIMARY KEY, name VARCHAR(50), age INT);\")\n",
    "connection.commit()\n",
    "\n",
    "print(\"Таблица 'ivan_patakin.student' создана.\")"
   ],
   "outputs": [
    {
     "name": "stdout",
     "output_type": "stream",
     "text": [
      "Таблица 'ivan_patakin.student' создана.\n"
     ]
    }
   ],
   "execution_count": 145
  },
  {
   "cell_type": "code",
   "id": "32dc07dcdddb6a09",
   "metadata": {
    "ExecuteTime": {
     "end_time": "2025-04-14T05:13:31.400116Z",
     "start_time": "2025-04-14T05:11:36.147710Z"
    }
   },
   "source": [
    "### Заполнение таблицы данными\n",
    "cursor.executemany(\n",
    "    \"INSERT INTO ivan_patakin.student (name, age) VALUES (%s, %s);\",\n",
    "    [(f\"Student {i}\", 20 + i % 10) for i in range(1, 100001)]\n",
    ")\n",
    "connection.commit()\n",
    "\n",
    "print(\"Таблица 'ivan_patakin.student' заполнена данными.\")"
   ],
   "outputs": [
    {
     "name": "stdout",
     "output_type": "stream",
     "text": [
      "Таблица 'ivan_patakin.student' заполнена данными.\n"
     ]
    }
   ],
   "execution_count": 146
  },
  {
   "cell_type": "code",
   "id": "5c1dd31141b7ed93",
   "metadata": {
    "ExecuteTime": {
     "end_time": "2025-04-14T05:13:31.456173Z",
     "start_time": "2025-04-14T05:13:31.431971Z"
    }
   },
   "source": [
    "### Создание виртуальной таблицы\n",
    "cursor.execute(\"CREATE OR REPLACE VIEW ivan_patakin.v_student AS SELECT * FROM ivan_patakin.student;\")\n",
    "connection.commit()\n",
    "\n",
    "print(\"Виртуальная таблица 'ivan_patakin.v_student' создана.\")"
   ],
   "outputs": [
    {
     "name": "stdout",
     "output_type": "stream",
     "text": [
      "Виртуальная таблица 'ivan_patakin.v_student' создана.\n"
     ]
    }
   ],
   "execution_count": 147
  },
  {
   "cell_type": "code",
   "id": "a4840fe02a866c05",
   "metadata": {
    "ExecuteTime": {
     "end_time": "2025-04-14T05:13:32.709147Z",
     "start_time": "2025-04-14T05:13:32.695765Z"
    }
   },
   "source": [
    "### Создание запросов к виртуальной таблице и обычной таблице\n",
    "import random\n",
    "\n",
    "query_student = \"SELECT * FROM ivan_patakin.student WHERE id = %s;\"\n",
    "query_v_student = \"SELECT * FROM ivan_patakin.v_student WHERE id = %s;\"\n",
    "\n",
    "### Создание списка id для выборки\n",
    "ids = [random.randint(1, 10000) for _ in range(1000)]"
   ],
   "outputs": [],
   "execution_count": 148
  },
  {
   "cell_type": "code",
   "id": "a3590867652193f7",
   "metadata": {
    "ExecuteTime": {
     "end_time": "2025-04-14T05:13:32.968413Z",
     "start_time": "2025-04-14T05:13:32.961944Z"
    }
   },
   "source": [
    "### Функция для выполнения запросов и получения времени выполнения\n",
    "import time\n",
    "\n",
    "def measure_query_time(query, params):\n",
    "    start_time = time.time()\n",
    "    cursor.execute(query, params)\n",
    "    cursor.fetchall()\n",
    "    return time.time() - start_time"
   ],
   "outputs": [],
   "execution_count": 149
  },
  {
   "cell_type": "code",
   "id": "b1743304f3349512",
   "metadata": {
    "ExecuteTime": {
     "end_time": "2025-04-14T05:13:36.402913Z",
     "start_time": "2025-04-14T05:13:33.054125Z"
    }
   },
   "source": [
    "### Измерение времени выполнения запросов\n",
    "time_student = sum(measure_query_time(query_student, (i,)) for i in ids)\n",
    "time_v_student = sum(measure_query_time(query_v_student, (i,)) for i in ids)\n",
    "\n",
    "print(f\"Время выполнения запросов к обычной таблице: {time_student:.4f} секунд\")\n",
    "print(f\"Время выполнения запросов к виртуальной таблице: {time_v_student:.4f} секунд\")\n",
    "print(f\"Разница во времени: {abs(time_student - time_v_student):.4f} секунд\")"
   ],
   "outputs": [
    {
     "name": "stdout",
     "output_type": "stream",
     "text": [
      "Время выполнения запросов к обычной таблице: 1.8876 секунд\n",
      "Время выполнения запросов к виртуальной таблице: 1.4335 секунд\n",
      "Разница во времени: 0.4541 секунд\n"
     ]
    }
   ],
   "execution_count": 150
  },
  {
   "cell_type": "code",
   "id": "2b68e762719d24c6",
   "metadata": {
    "ExecuteTime": {
     "end_time": "2025-04-14T05:17:30.262049Z",
     "start_time": "2025-04-14T05:13:36.434901Z"
    }
   },
   "source": [
    "### Выполнение 10 раз для обычной таблицы и виртуальной таблицы для определения разницы во времени\n",
    "for i in range(10):\n",
    "    ids = [random.randint(1, 100000) for _ in range(10000)]\n",
    "    time_student = sum(measure_query_time(query_student, (i,)) for i in ids)\n",
    "    time_v_student = sum(measure_query_time(query_v_student, (i,)) for i in ids)\n",
    "    print(f\"Время выполнения запросов к обычной таблице: {time_student:.4f} секунд\")\n",
    "    print(f\"Время выполнения запросов к виртуальной таблице: {time_v_student:.4f} секунд\")\n",
    "    print(f\"Разница во времени: {abs(time_student - time_v_student):.4f} секунд\")"
   ],
   "outputs": [
    {
     "name": "stdout",
     "output_type": "stream",
     "text": [
      "Время выполнения запросов к обычной таблице: 10.7179 секунд\n",
      "Время выполнения запросов к виртуальной таблице: 15.6331 секунд\n",
      "Разница во времени: 4.9152 секунд\n",
      "Время выполнения запросов к обычной таблице: 14.7385 секунд\n",
      "Время выполнения запросов к виртуальной таблице: 13.3874 секунд\n",
      "Разница во времени: 1.3511 секунд\n",
      "Время выполнения запросов к обычной таблице: 14.1886 секунд\n",
      "Время выполнения запросов к виртуальной таблице: 10.9901 секунд\n",
      "Разница во времени: 3.1986 секунд\n",
      "Время выполнения запросов к обычной таблице: 12.4384 секунд\n",
      "Время выполнения запросов к виртуальной таблице: 9.9980 секунд\n",
      "Разница во времени: 2.4404 секунд\n",
      "Время выполнения запросов к обычной таблице: 12.4977 секунд\n",
      "Время выполнения запросов к виртуальной таблице: 10.4350 секунд\n",
      "Разница во времени: 2.0628 секунд\n",
      "Время выполнения запросов к обычной таблице: 10.3656 секунд\n",
      "Время выполнения запросов к виртуальной таблице: 10.5313 секунд\n",
      "Разница во времени: 0.1658 секунд\n",
      "Время выполнения запросов к обычной таблице: 10.9288 секунд\n",
      "Время выполнения запросов к виртуальной таблице: 9.9473 секунд\n",
      "Разница во времени: 0.9815 секунд\n",
      "Время выполнения запросов к обычной таблице: 11.0675 секунд\n",
      "Время выполнения запросов к виртуальной таблице: 10.7063 секунд\n",
      "Разница во времени: 0.3612 секунд\n",
      "Время выполнения запросов к обычной таблице: 10.0441 секунд\n",
      "Время выполнения запросов к виртуальной таблице: 11.7653 секунд\n",
      "Разница во времени: 1.7212 секунд\n",
      "Время выполнения запросов к обычной таблице: 11.8028 секунд\n",
      "Время выполнения запросов к виртуальной таблице: 11.0788 секунд\n",
      "Разница во времени: 0.7240 секунд\n"
     ]
    }
   ],
   "execution_count": 151
  },
  {
   "cell_type": "code",
   "id": "6024c7e3b6660693",
   "metadata": {
    "ExecuteTime": {
     "end_time": "2025-04-14T05:17:30.448526Z",
     "start_time": "2025-04-14T05:17:30.356272Z"
    }
   },
   "source": [
    "### Удаление таблицы и схемы\n",
    "cursor.execute(\"DROP VIEW IF EXISTS ivan_patakin.v_student;\")\n",
    "cursor.execute(\"DROP TABLE IF EXISTS ivan_patakin.student;\")\n",
    "connection.commit()\n",
    "\n",
    "print(\"Таблица удалена.\")"
   ],
   "outputs": [
    {
     "name": "stdout",
     "output_type": "stream",
     "text": [
      "Таблица и схема удалены.\n"
     ]
    }
   ],
   "execution_count": 152
  },
  {
   "metadata": {},
   "cell_type": "code",
   "outputs": [],
   "execution_count": null,
   "source": "connection.rollback()",
   "id": "95307e0bc466c826"
  },
  {
   "cell_type": "code",
   "id": "2073b2723633a040",
   "metadata": {
    "ExecuteTime": {
     "end_time": "2025-04-14T05:17:33.667621Z",
     "start_time": "2025-04-14T05:17:33.656593Z"
    }
   },
   "source": [
    "### Закрытие курсора и соединения\n",
    "cursor.close()\n",
    "connection.close()\n",
    "\n",
    "print(\"Соединение с PostgreSQL закрыто.\")"
   ],
   "outputs": [
    {
     "name": "stdout",
     "output_type": "stream",
     "text": [
      "Соединение с PostgreSQL закрыто.\n"
     ]
    }
   ],
   "execution_count": 153
  }
 ],
 "metadata": {
  "kernelspec": {
   "display_name": "Python 3 (ipykernel)",
   "language": "python",
   "name": "python3"
  },
  "language_info": {
   "codemirror_mode": {
    "name": "ipython",
    "version": 3
   },
   "file_extension": ".py",
   "mimetype": "text/x-python",
   "name": "python",
   "nbconvert_exporter": "python",
   "pygments_lexer": "ipython3",
   "version": "3.12.2"
  }
 },
 "nbformat": 4,
 "nbformat_minor": 5
}
