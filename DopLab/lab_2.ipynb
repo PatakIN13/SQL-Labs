{
 "cells": [
  {
   "metadata": {},
   "cell_type": "markdown",
   "source": [
    "# Дополнительная лабораторная работа No2\n",
    "## Задача:\n",
    "Создать наследованную (inhereted table) таблицу\n",
    "`table_inhereted_master` с атрибутами (id serial, created_at timestamp with\n",
    "timezone).  \n",
    "Для данной таблицы создать триггер с именем `trg_inhereted_master` и\n",
    "типом `FOR EACH ROW BEFORE INSERT` и соответствующую триггерную\n",
    "функцию с именем `fnc_inhereted_master`.  \n",
    "Логика данного триггера должна определять автоматическое создание\n",
    "таблицы наследуемой от `table_inhereted_master` на основании значения\n",
    "`NEW.created_at` (потомок должен создаваться на каждый месяц).\n",
    "- Имя таблицы наследуемого потомка должно определять динамически\n",
    "(например как `table_child_032021`)\n",
    "- Используйте команду `EXECUTE` для выполнения динамического SQL на\n",
    "уровне триггера\n",
    "\n",
    "**ВНИМАНИЕ! Не старайтесь создавать таблицы потомки самостоятельно\n",
    "заранее, они должны создаваться автоматически при каждом INSERT\n",
    "выражении**"
   ],
   "id": "6f562c3d80457ae8"
  },
  {
   "metadata": {},
   "cell_type": "markdown",
   "source": "## Создаем подключение к БД",
   "id": "7c6801a3a20e99c7"
  },
  {
   "metadata": {
    "collapsed": true,
    "ExecuteTime": {
     "end_time": "2025-04-30T17:30:28.237624Z",
     "start_time": "2025-04-30T17:30:28.193260Z"
    }
   },
   "cell_type": "code",
   "source": [
    "import psycopg2\n",
    "### Подключение к PostgreSQL\n",
    "connection = psycopg2.connect(\n",
    "    host=\"localhost\",\n",
    "    port=\"5432\",\n",
    "    database=\"\",\n",
    "    user=\"\",\n",
    "    password=\"\",\n",
    ")\n",
    "### Создание курсора\n",
    "cursor = connection.cursor()\n",
    "\n",
    "print(\"Подключение к PostgreSQL успешно.\")"
   ],
   "id": "initial_id",
   "outputs": [
    {
     "name": "stdout",
     "output_type": "stream",
     "text": [
      "Подключение к PostgreSQL успешно.\n"
     ]
    }
   ],
   "execution_count": 117
  },
  {
   "metadata": {},
   "cell_type": "markdown",
   "source": "## Создание схемы",
   "id": "3be966a34ac2796f"
  },
  {
   "metadata": {
    "ExecuteTime": {
     "end_time": "2025-04-30T17:30:28.329853Z",
     "start_time": "2025-04-30T17:30:28.317457Z"
    }
   },
   "cell_type": "code",
   "source": [
    "cursor.execute(\"CREATE SCHEMA IF NOT EXISTS ivan_patakin;\")\n",
    "connection.commit()\n",
    "\n",
    "print(\"Схема 'ivan_patakin' создана.\")"
   ],
   "id": "182a946178eb8a03",
   "outputs": [
    {
     "name": "stdout",
     "output_type": "stream",
     "text": [
      "Схема 'ivan_patakin' создана.\n"
     ]
    }
   ],
   "execution_count": 118
  },
  {
   "metadata": {},
   "cell_type": "markdown",
   "source": [
    "## Создание таблиц\n",
    "### Создадим таблицу `table_inhereted_master`"
   ],
   "id": "db8877fea91e345b"
  },
  {
   "metadata": {
    "ExecuteTime": {
     "end_time": "2025-04-30T17:30:28.394651Z",
     "start_time": "2025-04-30T17:30:28.369647Z"
    }
   },
   "cell_type": "code",
   "source": [
    "cursor.execute(\"\"\"\n",
    "    CREATE TABLE ivan_patakin.table_inhereted_master (\n",
    "    id SERIAL PRIMARY KEY,\n",
    "    created_at TIMESTAMP WITH TIME ZONE NOT NULL\n",
    "    );\n",
    "\"\"\")\n",
    "connection.commit()\n",
    "\n",
    "print(\"Таблица 'table_inhereted_master' создана.\")"
   ],
   "id": "a7c55c6b2df56131",
   "outputs": [
    {
     "name": "stdout",
     "output_type": "stream",
     "text": [
      "Таблица 'table_inhereted_master' создана.\n"
     ]
    }
   ],
   "execution_count": 119
  },
  {
   "metadata": {},
   "cell_type": "markdown",
   "source": "### Создадим триггерную функцию `fnc_inhereted_master`",
   "id": "9d36a85a5a68a58e"
  },
  {
   "metadata": {
    "ExecuteTime": {
     "end_time": "2025-04-30T17:30:28.469627Z",
     "start_time": "2025-04-30T17:30:28.419435Z"
    }
   },
   "cell_type": "code",
   "source": [
    "cursor.execute(\"\"\"\n",
    "    CREATE FUNCTION ivan_patakin.fnc_inhereted_master()\n",
    "    RETURNS TRIGGER AS $$\n",
    "    DECLARE\n",
    "        child_table_name TEXT;\n",
    "        start_of_month TIMESTAMP WITH TIME ZONE;\n",
    "        end_of_month TIMESTAMP WITH TIME ZONE;\n",
    "    BEGIN\n",
    "        child_table_name := 'ivan_patakin.table_child_' || TO_CHAR(NEW.created_at, 'MMYYYY');\n",
    "        \n",
    "        start_of_month := DATE_TRUNC('month', NEW.created_at);\n",
    "        end_of_month := start_of_month + INTERVAL '1 month';\n",
    "    \n",
    "        EXECUTE format('\n",
    "            CREATE TABLE IF NOT EXISTS %I.%I (\n",
    "                CHECK (created_at >= %L AND created_at < %L)\n",
    "            ) INHERITS (ivan_patakin.table_inhereted_master);',\n",
    "            'ivan_patakin', 'table_child_' || TO_CHAR(NEW.created_at, 'MMYYYY'), start_of_month, end_of_month);\n",
    "    \n",
    "        EXECUTE format('INSERT INTO %I.%I (id, created_at) VALUES ($1, $2)',\n",
    "            'ivan_patakin', 'table_child_' || TO_CHAR(NEW.created_at, 'MMYYYY'))\n",
    "        USING NEW.id, NEW.created_at;\n",
    "    \n",
    "        RETURN NULL;\n",
    "    END;\n",
    "    $$ LANGUAGE plpgsql;\n",
    "\"\"\")\n",
    "connection.commit()\n",
    "\n",
    "print(\"Триггерная функция 'fnc_inhereted_master' создана.\")"
   ],
   "id": "4ff1b864ff8b49e5",
   "outputs": [
    {
     "name": "stdout",
     "output_type": "stream",
     "text": [
      "Триггерная функция 'fnc_inhereted_master' создана.\n"
     ]
    }
   ],
   "execution_count": 120
  },
  {
   "metadata": {},
   "cell_type": "markdown",
   "source": "Функция `fnc_inhereted_master` автоматически создаёт таблицы для каждого месяца на основе даты вставляемой записи. Если таблицы для нужного месяца ещё нет, она создаётся с ограничением, чтобы в неё попадали только записи с датами этого месяца. Затем данные из вставляемой строки перенаправляются в соответствующую таблицу.",
   "id": "fbc55b7aa1593dfe"
  },
  {
   "metadata": {},
   "cell_type": "markdown",
   "source": "### Создание триггера `trg_inhereted_master`",
   "id": "348442c45763c597"
  },
  {
   "metadata": {
    "ExecuteTime": {
     "end_time": "2025-04-30T17:30:28.507933Z",
     "start_time": "2025-04-30T17:30:28.490886Z"
    }
   },
   "cell_type": "code",
   "source": [
    "cursor.execute(\"\"\"\n",
    "    CREATE TRIGGER trg_inhereted_master\n",
    "    BEFORE INSERT ON ivan_patakin.table_inhereted_master\n",
    "    FOR EACH ROW\n",
    "    EXECUTE FUNCTION ivan_patakin.fnc_inhereted_master();\n",
    "\"\"\")\n",
    "connection.commit()\n",
    "\n",
    "print(\"Триггер 'trg_inhereted_master' создан.\")"
   ],
   "id": "5f13d61172160f88",
   "outputs": [
    {
     "name": "stdout",
     "output_type": "stream",
     "text": [
      "Триггер 'trg_inhereted_master' создан.\n"
     ]
    }
   ],
   "execution_count": 121
  },
  {
   "metadata": {},
   "cell_type": "markdown",
   "source": [
    "## Тестирование триггера\n",
    "### Вставляем данные в родительскую таблицу"
   ],
   "id": "355ebb430e9fb5b2"
  },
  {
   "metadata": {
    "ExecuteTime": {
     "end_time": "2025-04-30T17:30:28.553315Z",
     "start_time": "2025-04-30T17:30:28.539551Z"
    }
   },
   "cell_type": "code",
   "source": [
    "cursor.execute(\"\"\"\n",
    "    INSERT INTO ivan_patakin.table_inhereted_master (created_at)\n",
    "    VALUES ('2023-10-01 12:00:00+00');\n",
    "\"\"\")\n",
    "connection.commit()\n",
    "\n",
    "print(\"Данные вставлены в table_inhereted_master.\")"
   ],
   "id": "6aa1ff64db2135b1",
   "outputs": [
    {
     "name": "stdout",
     "output_type": "stream",
     "text": [
      "Данные вставлены в table_inhereted_master.\n"
     ]
    }
   ],
   "execution_count": 122
  },
  {
   "metadata": {
    "ExecuteTime": {
     "end_time": "2025-04-30T17:30:28.620121Z",
     "start_time": "2025-04-30T17:30:28.595134Z"
    }
   },
   "cell_type": "code",
   "source": [
    "cursor.execute(\"\"\"\n",
    "    INSERT INTO ivan_patakin.table_inhereted_master (created_at)\n",
    "    VALUES ('2024-10-01 12:00:00+00');\n",
    "\"\"\")\n",
    "connection.commit()\n",
    "\n",
    "cursor.execute(\"\"\"\n",
    "    INSERT INTO ivan_patakin.table_inhereted_master (created_at)\n",
    "    VALUES ('2024-10-01 13:00:00+00');\n",
    "\"\"\")\n",
    "connection.commit()\n",
    "\n",
    "print(\"Данные вставлены в table_inhereted_master.\")"
   ],
   "id": "2dca63330f192f5c",
   "outputs": [
    {
     "name": "stdout",
     "output_type": "stream",
     "text": [
      "Данные вставлены в table_inhereted_master.\n"
     ]
    }
   ],
   "execution_count": 123
  },
  {
   "metadata": {},
   "cell_type": "markdown",
   "source": "### Проверяем созданные таблицы-потомки",
   "id": "4b6863209be6d180"
  },
  {
   "metadata": {
    "ExecuteTime": {
     "end_time": "2025-04-30T17:30:28.673030Z",
     "start_time": "2025-04-30T17:30:28.658522Z"
    }
   },
   "cell_type": "code",
   "source": [
    "cursor.execute(\"\"\"\n",
    "    SELECT table_name\n",
    "    FROM information_schema.tables\n",
    "    WHERE table_name = 'table_child_102023'\n",
    "    AND table_schema = 'ivan_patakin';\n",
    "\"\"\")\n",
    "\n",
    "child_table = cursor.fetchone()\n",
    "if child_table:\n",
    "    print(f\"Таблица-потомок '{child_table[0]}' успешно создана.\")\n",
    "else:\n",
    "    print(\"Таблица-потомок не создана.\")"
   ],
   "id": "e294e1dc01579cf5",
   "outputs": [
    {
     "name": "stdout",
     "output_type": "stream",
     "text": [
      "Таблица-потомок 'table_child_102023' успешно создана.\n"
     ]
    }
   ],
   "execution_count": 124
  },
  {
   "metadata": {
    "ExecuteTime": {
     "end_time": "2025-04-30T17:30:28.734146Z",
     "start_time": "2025-04-30T17:30:28.723411Z"
    }
   },
   "cell_type": "code",
   "source": [
    "cursor.execute(\"\"\"\n",
    "    SELECT table_name\n",
    "    FROM information_schema.tables\n",
    "    WHERE table_name = 'table_child_102024'\n",
    "    AND table_schema = 'ivan_patakin';\n",
    "\"\"\")\n",
    "\n",
    "child_table = cursor.fetchone()\n",
    "if child_table:\n",
    "    print(f\"Таблица-потомок '{child_table[0]}' успешно создана.\")\n",
    "else:\n",
    "    print(\"Таблица-потомок не создана.\")"
   ],
   "id": "a081d10e55f7263f",
   "outputs": [
    {
     "name": "stdout",
     "output_type": "stream",
     "text": [
      "Таблица-потомок 'table_child_102024' успешно создана.\n"
     ]
    }
   ],
   "execution_count": 125
  },
  {
   "metadata": {},
   "cell_type": "markdown",
   "source": "### Проверяем данные в таблице-потомке",
   "id": "12efb6478f3ad613"
  },
  {
   "metadata": {
    "ExecuteTime": {
     "end_time": "2025-04-30T17:30:28.790265Z",
     "start_time": "2025-04-30T17:30:28.778187Z"
    }
   },
   "cell_type": "code",
   "source": [
    "cursor.execute(\"\"\"\n",
    "    SELECT * FROM ivan_patakin.table_inhereted_master;\n",
    "\"\"\")\n",
    "rows = cursor.fetchall()\n",
    "print(\"Данные в родительской таблице:\")\n",
    "for row in rows:\n",
    "    print(row)"
   ],
   "id": "97c7412e9942c629",
   "outputs": [
    {
     "name": "stdout",
     "output_type": "stream",
     "text": [
      "Данные в родительской таблице:\n",
      "(1, datetime.datetime(2023, 10, 1, 12, 0, tzinfo=datetime.timezone.utc))\n",
      "(2, datetime.datetime(2024, 10, 1, 12, 0, tzinfo=datetime.timezone.utc))\n",
      "(3, datetime.datetime(2024, 10, 1, 13, 0, tzinfo=datetime.timezone.utc))\n"
     ]
    }
   ],
   "execution_count": 126
  },
  {
   "metadata": {
    "ExecuteTime": {
     "end_time": "2025-04-30T17:30:28.847896Z",
     "start_time": "2025-04-30T17:30:28.839583Z"
    }
   },
   "cell_type": "code",
   "source": [
    "cursor.execute(\"\"\"\n",
    "    SELECT * FROM ivan_patakin.table_child_102023;\n",
    "\"\"\")\n",
    "rows = cursor.fetchall()\n",
    "print(\"Данные в таблице-потомке:\")\n",
    "for row in rows:\n",
    "    print(row)"
   ],
   "id": "55dd33fe3f7764fb",
   "outputs": [
    {
     "name": "stdout",
     "output_type": "stream",
     "text": [
      "Данные в таблице-потомке:\n",
      "(1, datetime.datetime(2023, 10, 1, 12, 0, tzinfo=datetime.timezone.utc))\n"
     ]
    }
   ],
   "execution_count": 127
  },
  {
   "metadata": {
    "ExecuteTime": {
     "end_time": "2025-04-30T17:30:28.894314Z",
     "start_time": "2025-04-30T17:30:28.883410Z"
    }
   },
   "cell_type": "code",
   "source": [
    "cursor.execute(\"\"\"\n",
    "    SELECT * FROM ivan_patakin.table_child_102024;\n",
    "\"\"\")\n",
    "rows = cursor.fetchall()\n",
    "print(\"Данные в таблице-потомке:\")\n",
    "for row in rows:\n",
    "    print(row)"
   ],
   "id": "e9b5db2095bf6908",
   "outputs": [
    {
     "name": "stdout",
     "output_type": "stream",
     "text": [
      "Данные в таблице-потомке:\n",
      "(2, datetime.datetime(2024, 10, 1, 12, 0, tzinfo=datetime.timezone.utc))\n",
      "(3, datetime.datetime(2024, 10, 1, 13, 0, tzinfo=datetime.timezone.utc))\n"
     ]
    }
   ],
   "execution_count": 128
  },
  {
   "metadata": {},
   "cell_type": "markdown",
   "source": "## Удаляем созданные таблицы и триггер",
   "id": "a35a9fcc366cf4bc"
  },
  {
   "metadata": {
    "ExecuteTime": {
     "end_time": "2025-04-30T17:30:28.962777Z",
     "start_time": "2025-04-30T17:30:28.939628Z"
    }
   },
   "cell_type": "code",
   "source": [
    "cursor.execute(\"\"\"\n",
    "    DROP TRIGGER IF EXISTS trg_inhereted_master ON ivan_patakin.table_inhereted_master;\n",
    "    DROP FUNCTION IF EXISTS ivan_patakin.fnc_inhereted_master();\n",
    "    DROP TABLE IF EXISTS ivan_patakin.table_inhereted_master CASCADE;\n",
    "\"\"\")\n",
    "connection.commit()\n",
    "\n",
    "print(\"Триггер, функция и таблица удалены.\")"
   ],
   "id": "becde311c172d6f7",
   "outputs": [
    {
     "name": "stdout",
     "output_type": "stream",
     "text": [
      "Триггер, функция и таблица удалены.\n"
     ]
    }
   ],
   "execution_count": 129
  },
  {
   "metadata": {},
   "cell_type": "markdown",
   "source": "## Закрываем соединение с БД",
   "id": "dcace07459be1e1f"
  },
  {
   "metadata": {
    "ExecuteTime": {
     "end_time": "2025-04-30T17:30:29.009166Z",
     "start_time": "2025-04-30T17:30:29.001816Z"
    }
   },
   "cell_type": "code",
   "source": [
    "cursor.close()\n",
    "connection.close()"
   ],
   "id": "60a63ad87f6635",
   "outputs": [],
   "execution_count": 130
  }
 ],
 "metadata": {
  "kernelspec": {
   "display_name": "Python 3",
   "language": "python",
   "name": "python3"
  },
  "language_info": {
   "codemirror_mode": {
    "name": "ipython",
    "version": 2
   },
   "file_extension": ".py",
   "mimetype": "text/x-python",
   "name": "python",
   "nbconvert_exporter": "python",
   "pygments_lexer": "ipython2",
   "version": "2.7.6"
  }
 },
 "nbformat": 4,
 "nbformat_minor": 5
}
