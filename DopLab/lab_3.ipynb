{
 "cells": [
  {
   "metadata": {},
   "cell_type": "markdown",
   "source": [
    "# Дополнительная лабораторная работа No3\n",
    "## Задача:\n",
    "- имеются часть данных геномов 2 животных (какие животные - я озвучу чуть позже после вашего исследования) в текстовых файлах (2 файла с данными приложены к заданию)\n",
    "- необходимо провести расчеты по сравнению “близости” двух геномов, используя последовательность символов-шинглов (k=2, 5, 9). Например, для последовательности аминокислот TCAGACTT при k=2 у нас получается набор элементов: {TC, CA, AG, GA, AC, CT, TT}\n",
    "- для этого создайте модель данных в базе данных для хранения последовательностей для k=2, 5, 9.\n",
    "- загрузите в ваши таблицы последовательности символов для k=2, 5, 9, используя знакомые вам механизмы парсинга текста (bash, Java, Python, SQL, Excel, AI ...)\n",
    "- напишите один SQL запрос, который будет использовать формулу Жаккара для подсчета расстояния отдельно для последовательностей символов k=2, 5, 9.  \n",
    "`𝐽 = (|𝐴 ⋂ 𝐵|)/(|𝐴 ⋃ 𝐵|)`\n",
    "\n",
    "| Значение k | Значение J |\n",
    "| ---------- | ---------- |\n",
    "| 2 | ? |\n",
    "| 5 | ? |\n",
    "| 9 | ? |"
   ],
   "id": "4713d53d7dfd93b2"
  },
  {
   "metadata": {},
   "cell_type": "markdown",
   "source": "## Создаем подключение к БД",
   "id": "d4061246899c7c0b"
  },
  {
   "cell_type": "code",
   "id": "initial_id",
   "metadata": {
    "collapsed": true,
    "ExecuteTime": {
     "end_time": "2025-05-12T16:16:02.650544Z",
     "start_time": "2025-05-12T16:16:02.607687Z"
    }
   },
   "source": [
    "import psycopg2\n",
    "from tabulate import tabulate\n",
    "\n",
    "### Подключение к PostgreSQL\n",
    "connection = psycopg2.connect(\n",
    "    host=\"localhost\",\n",
    "    port=\"5432\",\n",
    "    database=\"\",\n",
    "    user=\"\",\n",
    "    password=\"\",\n",
    ")\n",
    "### Создание курсора\n",
    "cursor = connection.cursor()\n",
    "\n",
    "print(\"Подключение к PostgreSQL успешно.\")"
   ],
   "outputs": [
    {
     "name": "stdout",
     "output_type": "stream",
     "text": [
      "Подключение к PostgreSQL успешно.\n"
     ]
    }
   ],
   "execution_count": 120
  },
  {
   "metadata": {},
   "cell_type": "markdown",
   "source": "## Создание схемы",
   "id": "bfa3ff526e72e31e"
  },
  {
   "metadata": {
    "ExecuteTime": {
     "end_time": "2025-05-12T16:16:02.733846Z",
     "start_time": "2025-05-12T16:16:02.722152Z"
    }
   },
   "cell_type": "code",
   "source": [
    "cursor.execute(\"CREATE SCHEMA IF NOT EXISTS ivan_patakin;\")\n",
    "connection.commit()\n",
    "\n",
    "print(\"Схема 'ivan_patakin' создана.\")"
   ],
   "id": "c13cd4165f4fabf2",
   "outputs": [
    {
     "name": "stdout",
     "output_type": "stream",
     "text": [
      "Схема 'ivan_patakin' создана.\n"
     ]
    }
   ],
   "execution_count": 121
  },
  {
   "metadata": {},
   "cell_type": "markdown",
   "source": "## Подготовка данных",
   "id": "65c23b8ece625884"
  },
  {
   "metadata": {
    "ExecuteTime": {
     "end_time": "2025-05-12T16:16:03.197311Z",
     "start_time": "2025-05-12T16:16:03.161065Z"
    }
   },
   "cell_type": "code",
   "source": [
    "with open('Data/Lab3/Genome_1-1.txt') as f:\n",
    "    genome1 = f.read().strip()\n",
    "with open('Data/Lab3/Genome_2-1.txt') as f:\n",
    "    genome2 = f.read().strip()"
   ],
   "id": "1f523c84983f30b8",
   "outputs": [],
   "execution_count": 122
  },
  {
   "metadata": {
    "ExecuteTime": {
     "end_time": "2025-05-12T16:16:05.734156Z",
     "start_time": "2025-05-12T16:16:03.958050Z"
    }
   },
   "cell_type": "code",
   "source": [
    "def get_shingles(seq, k):\n",
    "    return {seq[i:i+k] for i in range(len(seq)-k+1)}\n",
    "\n",
    "shingles = {}\n",
    "for k in (2, 5, 9):\n",
    "    s1 = get_shingles(genome1, k)\n",
    "    s2 = get_shingles(genome2, k)\n",
    "    shingles[k] = (s1, s2)"
   ],
   "id": "e891227ae35943c6",
   "outputs": [],
   "execution_count": 123
  },
  {
   "metadata": {},
   "cell_type": "markdown",
   "source": "## Создание таблиц",
   "id": "8590f3e3f28ecf88"
  },
  {
   "metadata": {
    "ExecuteTime": {
     "end_time": "2025-05-12T16:16:06.980747Z",
     "start_time": "2025-05-12T16:16:06.799808Z"
    }
   },
   "cell_type": "code",
   "source": [
    "for k in (2, 5, 9):\n",
    "    cursor.execute(f\"\"\"\n",
    "        CREATE TABLE IF NOT EXISTS ivan_patakin.shingles_k{k} (\n",
    "            shingle TEXT NOT NULL,\n",
    "            source INTEGER NOT NULL\n",
    "        );\n",
    "    \"\"\")\n",
    "\n",
    "connection.commit()"
   ],
   "id": "92edfe365d6c9517",
   "outputs": [],
   "execution_count": 124
  },
  {
   "metadata": {},
   "cell_type": "markdown",
   "source": "## Заполнение таблиц",
   "id": "f1addde15e7cf03c"
  },
  {
   "metadata": {
    "ExecuteTime": {
     "end_time": "2025-05-12T16:37:45.231373Z",
     "start_time": "2025-05-12T16:29:49.371779Z"
    }
   },
   "cell_type": "code",
   "source": [
    "for k in (2, 5, 9):\n",
    "    data = [(s, 1) for s in shingles[k][0]] + [(s, 2) for s in shingles[k][1]]\n",
    "    cursor.executemany(\n",
    "        f\"INSERT INTO ivan_patakin.shingles_k{k} (shingle, source) VALUES (%s, %s)\", data\n",
    "    )\n",
    "connection.commit()"
   ],
   "id": "d9c65685d1215fe0",
   "outputs": [],
   "execution_count": 135
  },
  {
   "metadata": {},
   "cell_type": "markdown",
   "source": "## Создание запросов",
   "id": "db847263c86c572"
  },
  {
   "metadata": {
    "ExecuteTime": {
     "end_time": "2025-05-12T16:39:33.796122Z",
     "start_time": "2025-05-12T16:39:33.791501Z"
    }
   },
   "cell_type": "code",
   "source": [
    "query = \"\"\"\n",
    "WITH j2 AS (\n",
    "  SELECT \n",
    "    (SELECT COUNT(DISTINCT a.shingle) FROM ivan_patakin.shingles_k2 a JOIN ivan_patakin.shingles_k2 b\n",
    "     ON a.shingle=b.shingle WHERE a.source=1 AND b.source=2) AS inters,\n",
    "    (SELECT COUNT(DISTINCT shingle) FROM (\n",
    "         SELECT shingle FROM ivan_patakin.shingles_k2 WHERE source=1\n",
    "         UNION\n",
    "         SELECT shingle FROM ivan_patakin.shingles_k2 WHERE source=2\n",
    "     )) AS uni\n",
    "),\n",
    "j5 AS (\n",
    "  SELECT \n",
    "    (SELECT COUNT(DISTINCT a.shingle) FROM ivan_patakin.shingles_k5 a JOIN ivan_patakin.shingles_k5 b\n",
    "     ON a.shingle=b.shingle WHERE a.source=1 AND b.source=2) AS inters,\n",
    "    (SELECT COUNT(DISTINCT shingle) FROM (\n",
    "         SELECT shingle FROM ivan_patakin.shingles_k5 WHERE source=1\n",
    "         UNION\n",
    "         SELECT shingle FROM ivan_patakin.shingles_k5 WHERE source=2\n",
    "     )) AS uni\n",
    "),\n",
    "j9 AS (\n",
    "  SELECT \n",
    "    (SELECT COUNT(DISTINCT a.shingle) FROM ivan_patakin.shingles_k9 a JOIN ivan_patakin.shingles_k9 b\n",
    "     ON a.shingle=b.shingle WHERE a.source=1 AND b.source=2) AS inters,\n",
    "    (SELECT COUNT(DISTINCT shingle) FROM (\n",
    "         SELECT shingle FROM ivan_patakin.shingles_k9 WHERE source=1\n",
    "         UNION\n",
    "         SELECT shingle FROM ivan_patakin.shingles_k9 WHERE source=2\n",
    "     )) AS uni\n",
    ")\n",
    "SELECT 2 as k, ROUND(1.0*j2.inters/j2.uni,6) as J FROM j2 UNION ALL\n",
    "SELECT 5 as k, ROUND(1.0*j5.inters/j5.uni,6) FROM j5 UNION ALL\n",
    "SELECT 9 as k, ROUND(1.0*j9.inters/j9.uni,6) FROM j9;\n",
    "\"\"\""
   ],
   "id": "2e4d57f99ea4227b",
   "outputs": [],
   "execution_count": 136
  },
  {
   "metadata": {
    "ExecuteTime": {
     "end_time": "2025-05-12T16:39:38.480564Z",
     "start_time": "2025-05-12T16:39:35.995036Z"
    }
   },
   "cell_type": "code",
   "source": [
    "cursor.execute(query)\n",
    "rows = cursor.fetchall()\n",
    "\n",
    "headers = [\"K\", \"Jaccard\"]\n",
    "print(tabulate(rows, headers=headers))"
   ],
   "id": "4af888bbb5141c4b",
   "outputs": [
    {
     "name": "stdout",
     "output_type": "stream",
     "text": [
      "  K    Jaccard\n",
      "---  ---------\n",
      "  2   1\n",
      "  5   1\n",
      "  9   0.398709\n"
     ]
    }
   ],
   "execution_count": 137
  },
  {
   "metadata": {
    "ExecuteTime": {
     "end_time": "2025-05-12T16:39:41.349071Z",
     "start_time": "2025-05-12T16:39:41.294720Z"
    }
   },
   "cell_type": "code",
   "source": [
    "cursor.execute(\"\"\"\n",
    "DROP TABLE IF EXISTS ivan_patakin.shingles_k2;\n",
    "DROP TABLE IF EXISTS ivan_patakin.shingles_k5;\n",
    "DROP TABLE IF EXISTS ivan_patakin.shingles_k9;\n",
    "\"\"\")\n",
    "\n",
    "connection.commit()\n",
    "print(\"Таблицы удалены.\")"
   ],
   "id": "ba2a9896800fc9ce",
   "outputs": [
    {
     "name": "stdout",
     "output_type": "stream",
     "text": [
      "Таблицы удалены.\n"
     ]
    }
   ],
   "execution_count": 138
  },
  {
   "metadata": {
    "ExecuteTime": {
     "end_time": "2025-05-12T16:39:44.516872Z",
     "start_time": "2025-05-12T16:39:44.511351Z"
    }
   },
   "cell_type": "code",
   "source": [
    "cursor.close()\n",
    "connection.close()"
   ],
   "id": "d99ab9222506675b",
   "outputs": [],
   "execution_count": 140
  }
 ],
 "metadata": {
  "kernelspec": {
   "display_name": "Python 3",
   "language": "python",
   "name": "python3"
  },
  "language_info": {
   "codemirror_mode": {
    "name": "ipython",
    "version": 2
   },
   "file_extension": ".py",
   "mimetype": "text/x-python",
   "name": "python",
   "nbconvert_exporter": "python",
   "pygments_lexer": "ipython2",
   "version": "2.7.6"
  }
 },
 "nbformat": 4,
 "nbformat_minor": 5
}
