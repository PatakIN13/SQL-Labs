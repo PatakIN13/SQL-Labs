{
 "cells": [
  {
   "cell_type": "markdown",
   "id": "f857a2e47434b248",
   "metadata": {},
   "source": [
    "# Аттестационное задание No1\n",
    "## Задача:  \n",
    "Друзья, решили организовать свой собственный технологический  \n",
    "стартап. Ребята выстроили между собой следующие взаимоотношения в  \n",
    "рамках проектной деятельности.  \n",
    "- Сергей Петров - лидер проекта  \n",
    "- Ильяс Мухаметшин - тимлид команды разработчиков  \n",
    "- Иван Иванов - frontend разработчик  \n",
    "- Екатерина Андреева - backend разработчик  \n",
    "- Анна Потапова - тимлид команды специалистов по тестированию  \n",
    "  ![Взаимоотношения](media/lab1_1.png)\n",
    "\n",
    "Создайте модель данных для хранения этих зависимостей между  \n",
    "коллегами. Для этого:  \n",
    "1. Добавьте отдельную таблицу с зависимостями между участниками  \n",
    "стартапа.  \n",
    "- Укажите внешние ключи необходимые для поддержания  \n",
    "консистентности данных.  \n",
    "- Заполните таблицу соответствующими  \n",
    "записями по зависимостям.  \n",
    "2. Добавьте таблицу-справочник, хранящую роли (должности) участников  \n",
    "проекта и использующуюся как источник.   \n",
    "- Заполните таблицу соответствующими записями.  \n",
    "  \n",
    "Напишите SQL-функцию **(ВНИМАНИЕ! не pl/pgsql-функцию !)** с именем  \n",
    "`ваша_схема.getHierarchy` c входящей переменной, которая указывает,  \n",
    "начиная с какого ID менеджера выстраивать иерархию вывода (не обязательно  \n",
    "с роли “Лидера проекта”).     \n",
    "Например, вызов функции с указанием менеджера Ильяса выглядит вот так:  \n",
    "```sql\n",
    "SELECT * FROM getHierarchy(p_manager_id => 50);   \n",
    "```  \n",
    "\n",
    "| студент            | роль                         | уровень | путь от лидера                         |\n",
    "| ------------------ | ---------------------------- | ------- | -------------------------------------- |\n",
    "| Ильяс Мухаметшин   | тимлид команды разработчиков | 1       | Ильяс Мухаметшин                       |\n",
    "| Екатерина Андреева | backend разработчик          | 2       | Ильяс Мухаметшин -> Екатерина Андреева |\n",
    "| Иван Иванов        | frontend разработчик         | 2       | Ильяс Мухаметшин -> Иван Иванов        |\n",
    "  \n",
    "Если значение переменной не указано (принимается значение null), то  \n",
    "необходимо выводить данные с самого начала иерархии. Пример вывода без  \n",
    "указания переменной `p_manager_id`.  \n",
    "```sql  \n",
    "SELECT * FROM getHierarchy(p_manager_id => null);  \n",
    "SELECT * FROM getHierarchy();  \n",
    "```  \n",
    "\n",
    "| студент                 | роль                                                            | уровень | путь от лидера                                                   |\n",
    "| ----------------------- | --------------------------------------------------------------- | ------- | ---------------------------------------------------------------- |\n",
    "| Сергей Петров           | лидер проекта                                                   | 1       | Сергей Петров                                                    |\n",
    "| Ильяс  <br>Мухаметшин   | тимлид  <br>команды  <br>разработчиков                          | 2       | Сергей Петров ->  <br>Ильяс Мухаметшин                           |\n",
    "| Анна Потапова           | тимлид  <br>команды  <br>специалистов  <br>по  <br>тестированию | 2       | Сергей Петров ->Анна  <br>Потапова                               |\n",
    "| Екатерина  <br>Андреева | backend  <br>разработчик                                        | 3       | Сергей Петров ->  <br>Ильяс Мухаметшин  <br>->Екатерина Андреева |\n",
    "| Иван Иванов             | frontend  <br>разработчик                                       | 3       | Сергей Петров ->  <br>Ильяс Мухаметшин ->  <br>Иван Иванов       |\n",
    "\n",
    "Пожалуйста, предоставьте результаты выполнения 3 вызовов функции  \n",
    "(xxx - это существующий ID менеджера в вашей модели)  \n",
    "```sql  \n",
    "SELECT * FROM getHierarchy(p_manager_id := xxx);  \n",
    "SELECT * FROM getHierarchy(p_manager_id := null);  \n",
    "SELECT * FROM getHierarchy();  \n",
    "```"
   ]
  },
  {
   "cell_type": "markdown",
   "id": "1c57d79a3a0610a6",
   "metadata": {},
   "source": [
    "## Создаем подключение к БД"
   ]
  },
  {
   "cell_type": "code",
   "execution_count": 44,
   "id": "4d7657c7ac208273",
   "metadata": {
    "ExecuteTime": {
     "end_time": "2025-04-29T07:46:17.592540Z",
     "start_time": "2025-04-29T07:46:17.550473Z"
    }
   },
   "outputs": [
    {
     "name": "stdout",
     "output_type": "stream",
     "text": [
      "Подключение к PostgreSQL успешно.\n"
     ]
    }
   ],
   "source": [
    "import psycopg2\n",
    "### Подключение к PostgreSQL\n",
    "connection = psycopg2.connect(\n",
    "    host=\"localhost\",\n",
    "    port=\"5432\",\n",
    "    database=\"\",\n",
    "    user=\"\",\n",
    "    password=\"\",\n",
    ")\n",
    "### Создание курсора\n",
    "cursor = connection.cursor()\n",
    "\n",
    "print(\"Подключение к PostgreSQL успешно.\")"
   ]
  },
  {
   "cell_type": "markdown",
   "id": "fb3ae25ce1b10fe1",
   "metadata": {},
   "source": [
    "## Создание схемы"
   ]
  },
  {
   "cell_type": "code",
   "execution_count": 45,
   "id": "a4c5454040dcf2d4",
   "metadata": {
    "ExecuteTime": {
     "end_time": "2025-04-29T07:46:19.747973Z",
     "start_time": "2025-04-29T07:46:19.738655Z"
    }
   },
   "outputs": [
    {
     "name": "stdout",
     "output_type": "stream",
     "text": [
      "Схема 'ivan_patakin' создана.\n"
     ]
    }
   ],
   "source": [
    "cursor.execute(\"CREATE SCHEMA IF NOT EXISTS ivan_patakin;\")\n",
    "connection.commit()\n",
    "\n",
    "print(\"Схема 'ivan_patakin' создана.\")"
   ]
  },
  {
   "cell_type": "markdown",
   "id": "5c5b0368aab21f",
   "metadata": {},
   "source": [
    "## Создание таблиц\n",
    "### Создадим справочники для хранения ролей и таблицу сотрудников"
   ]
  },
  {
   "cell_type": "code",
   "execution_count": 46,
   "id": "7d96da695bf6fc6e",
   "metadata": {
    "ExecuteTime": {
     "end_time": "2025-04-29T07:46:21.851049Z",
     "start_time": "2025-04-29T07:46:21.823617Z"
    }
   },
   "outputs": [
    {
     "name": "stdout",
     "output_type": "stream",
     "text": [
      "Таблица 'role' создана.\n"
     ]
    }
   ],
   "source": [
    "cursor.execute(\"\"\"\n",
    "    CREATE TABLE ivan_patakin.role (\n",
    "    id SERIAL PRIMARY KEY,\n",
    "    role_name VARCHAR(255) NOT NULL\n",
    "    );\n",
    "\"\"\")\n",
    "connection.commit()\n",
    "\n",
    "print(\"Таблица 'role' создана.\")"
   ]
  },
  {
   "cell_type": "code",
   "execution_count": 47,
   "id": "71a5bea5f255b713",
   "metadata": {
    "ExecuteTime": {
     "end_time": "2025-04-29T07:46:23.964243Z",
     "start_time": "2025-04-29T07:46:23.944025Z"
    }
   },
   "outputs": [
    {
     "name": "stdout",
     "output_type": "stream",
     "text": [
      "Таблица 'staff' создана.\n"
     ]
    }
   ],
   "source": [
    "cursor.execute(\"\"\"\n",
    "    CREATE TABLE ivan_patakin.staff (\n",
    "    id SERIAL PRIMARY KEY,\n",
    "    name VARCHAR(255) NOT NULL,\n",
    "    role_id INTEGER NOT NULL REFERENCES ivan_patakin.role(id)\n",
    "    );\n",
    "\"\"\")\n",
    "connection.commit()\n",
    "\n",
    "print(\"Таблица 'staff' создана.\")"
   ]
  },
  {
   "cell_type": "markdown",
   "id": "f0194e107deaee3c",
   "metadata": {},
   "source": [
    "### Создадим cправочник для хранения взаимоотношений между сотрудниками"
   ]
  },
  {
   "cell_type": "code",
   "execution_count": 48,
   "id": "98d66057221632cb",
   "metadata": {
    "ExecuteTime": {
     "end_time": "2025-04-29T07:46:25.540214Z",
     "start_time": "2025-04-29T07:46:25.517317Z"
    }
   },
   "outputs": [
    {
     "name": "stdout",
     "output_type": "stream",
     "text": [
      "Таблица 'dependency' создана.\n"
     ]
    }
   ],
   "source": [
    "cursor.execute(\"\"\"\n",
    "    CREATE TABLE ivan_patakin.dependency (\n",
    "    id SERIAL PRIMARY KEY,\n",
    "    staff_id INTEGER NOT NULL REFERENCES ivan_patakin.staff(id),\n",
    "    dependency_id INTEGER NOT NULL REFERENCES ivan_patakin.staff(id),\n",
    "    UNIQUE (staff_id, dependency_id)\n",
    "    );\n",
    "\"\"\")\n",
    "connection.commit()\n",
    "\n",
    "print(\"Таблица 'dependency' создана.\")"
   ]
  },
  {
   "cell_type": "markdown",
   "id": "c3b08c69ca8548fd",
   "metadata": {},
   "source": [
    "## Заполнение таблиц данными"
   ]
  },
  {
   "cell_type": "code",
   "execution_count": 49,
   "id": "f252259818ffdf2e",
   "metadata": {
    "ExecuteTime": {
     "end_time": "2025-04-29T07:46:28.317295Z",
     "start_time": "2025-04-29T07:46:28.305939Z"
    }
   },
   "outputs": [
    {
     "name": "stdout",
     "output_type": "stream",
     "text": [
      "Таблица 'role' заполнена данными.\n"
     ]
    }
   ],
   "source": [
    "cursor.execute(\"\"\"\n",
    "    INSERT INTO ivan_patakin.role (role_name) VALUES\n",
    "    ('лидер проекта'),\n",
    "    ('тимлид команды разработчиков'),\n",
    "    ('frontend разработчик'),\n",
    "    ('backend разработчик'),\n",
    "    ('тимлид команды специалистов по тестированию');\n",
    "\"\"\")\n",
    "connection.commit()\n",
    "\n",
    "print(\"Таблица 'role' заполнена данными.\")"
   ]
  },
  {
   "cell_type": "code",
   "execution_count": 50,
   "id": "832546b56ff275b9",
   "metadata": {
    "ExecuteTime": {
     "end_time": "2025-04-29T07:46:30.377110Z",
     "start_time": "2025-04-29T07:46:30.357466Z"
    }
   },
   "outputs": [
    {
     "name": "stdout",
     "output_type": "stream",
     "text": [
      "Таблица 'staff' заполнена данными.\n"
     ]
    }
   ],
   "source": [
    "cursor.execute(\"\"\"\n",
    "    INSERT INTO ivan_patakin.staff (name, role_id) VALUES\n",
    "    ('Сергей Петров', 1),\n",
    "    ('Ильяс Мухаметшин', 2),\n",
    "    ('Иван Иванов', 3),\n",
    "    ('Екатерина Андреева', 4),\n",
    "    ('Анна Потапова', 5);\n",
    "\"\"\")\n",
    "connection.commit()\n",
    "\n",
    "print(\"Таблица 'staff' заполнена данными.\")"
   ]
  },
  {
   "cell_type": "code",
   "execution_count": 51,
   "id": "45485cd841b8f741",
   "metadata": {
    "ExecuteTime": {
     "end_time": "2025-04-29T07:46:32.008593Z",
     "start_time": "2025-04-29T07:46:31.977637Z"
    }
   },
   "outputs": [
    {
     "name": "stdout",
     "output_type": "stream",
     "text": [
      "Таблица 'dependency' заполнена данными.\n"
     ]
    }
   ],
   "source": [
    "cursor.execute(\"\"\"\n",
    "    INSERT INTO ivan_patakin.dependency (dependency_id, staff_id) VALUES\n",
    "    (1, 2), -- Сергей Петров -> Ильяс Мухаметшин\n",
    "    (2, 3), -- Ильяс Мухаметшин -> Иван Иванов\n",
    "    (2, 4), -- Ильяс Мухаметшин -> Екатерина Андреева\n",
    "    (1, 5); -- Сергей Петров -> Анна Потапова\n",
    "\"\"\")\n",
    "connection.commit()\n",
    "\n",
    "print(\"Таблица 'dependency' заполнена данными.\")"
   ]
  },
  {
   "cell_type": "markdown",
   "id": "41718a25ac55cbb0",
   "metadata": {},
   "source": [
    "## Создание функции для получения всех пользователей по взаимоотношениям\n",
    "\n",
    "Функция `getHierarchy` строит иерархию сотрудников на основе их взаимоотношений. Она показывает, кто кому подчиняется, начиная с указанного менеджера (или с самого верхнего уровня, если менеджер не указан).  \n",
    "Результат функции — таблица, где указаны:  \n",
    "- Имя сотрудника.\n",
    "- Его роль.\n",
    "- Уровень в иерархии (чем меньше число, тем выше уровень).\n",
    "- Полный путь от руководителя до этого сотрудника."
   ]
  },
  {
   "cell_type": "code",
   "execution_count": 52,
   "id": "fec288fd62c39eb9",
   "metadata": {
    "ExecuteTime": {
     "end_time": "2025-04-29T07:46:34.654472Z",
     "start_time": "2025-04-29T07:46:34.635923Z"
    }
   },
   "outputs": [
    {
     "name": "stdout",
     "output_type": "stream",
     "text": [
      "Функция 'getHierarchy' создана.\n"
     ]
    }
   ],
   "source": [
    "cursor.execute(\"\"\"\n",
    "CREATE FUNCTION ivan_patakin.getHierarchy(p_manager_id INT DEFAULT NULL)\n",
    "RETURNS TABLE (\n",
    "    staff VARCHAR,\n",
    "    role VARCHAR,\n",
    "    level INT,\n",
    "    path TEXT\n",
    ") AS $$\n",
    "WITH RECURSIVE hierarchy AS (\n",
    "    SELECT\n",
    "        s.id,\n",
    "        s.name AS staff,\n",
    "        r.role_name AS role,\n",
    "        1 AS level,\n",
    "        s.name::TEXT AS path\n",
    "    FROM ivan_patakin.staff s\n",
    "    JOIN ivan_patakin.role r ON s.role_id = r.id\n",
    "    WHERE s.id = COALESCE(\n",
    "        p_manager_id,\n",
    "        (SELECT s.id FROM ivan_patakin.staff s\n",
    "         LEFT JOIN ivan_patakin.dependency d ON s.id = d.staff_id\n",
    "         WHERE d.staff_id IS NULL LIMIT 1)\n",
    "    )\n",
    "    UNION ALL\n",
    "    SELECT\n",
    "        s.id,\n",
    "        s.name,\n",
    "        r.role_name,\n",
    "        h.level + 1,\n",
    "        h.path || ' -> ' || s.name\n",
    "    FROM ivan_patakin.staff s\n",
    "    JOIN ivan_patakin.role r ON s.role_id = r.id\n",
    "    JOIN ivan_patakin.dependency d ON s.id = d.staff_id\n",
    "    JOIN hierarchy h ON d.dependency_id = h.id\n",
    ")\n",
    "SELECT staff, role, level, path FROM hierarchy;\n",
    "$$ LANGUAGE sql;\n",
    "\"\"\")\n",
    "connection.commit()\n",
    "\n",
    "print(\"Функция 'getHierarchy' создана.\")"
   ]
  },
  {
   "cell_type": "code",
   "execution_count": 53,
   "id": "8fb7ca3a95d3e96f",
   "metadata": {
    "ExecuteTime": {
     "end_time": "2025-04-29T07:46:38.510125Z",
     "start_time": "2025-04-29T07:46:38.497652Z"
    }
   },
   "outputs": [
    {
     "name": "stdout",
     "output_type": "stream",
     "text": [
      "('Ильяс Мухаметшин', 'тимлид команды разработчиков', 1, 'Ильяс Мухаметшин')\n",
      "('Иван Иванов', 'frontend разработчик', 2, 'Ильяс Мухаметшин -> Иван Иванов')\n",
      "('Екатерина Андреева', 'backend разработчик', 2, 'Ильяс Мухаметшин -> Екатерина Андреева')\n"
     ]
    }
   ],
   "source": [
    "cursor.execute(\"\"\" SELECT * FROM ivan_patakin.getHierarchy(p_manager_id := 2); \"\"\")\n",
    "rows = cursor.fetchall()\n",
    "for row in rows:\n",
    "    print(row)\n",
    "    "
   ]
  },
  {
   "cell_type": "code",
   "execution_count": 54,
   "id": "494bb261ae42be30",
   "metadata": {
    "ExecuteTime": {
     "end_time": "2025-04-29T07:46:40.308693Z",
     "start_time": "2025-04-29T07:46:40.296378Z"
    }
   },
   "outputs": [
    {
     "name": "stdout",
     "output_type": "stream",
     "text": [
      "('Сергей Петров', 'лидер проекта', 1, 'Сергей Петров')\n",
      "('Ильяс Мухаметшин', 'тимлид команды разработчиков', 2, 'Сергей Петров -> Ильяс Мухаметшин')\n",
      "('Анна Потапова', 'тимлид команды специалистов по тестированию', 2, 'Сергей Петров -> Анна Потапова')\n",
      "('Иван Иванов', 'frontend разработчик', 3, 'Сергей Петров -> Ильяс Мухаметшин -> Иван Иванов')\n",
      "('Екатерина Андреева', 'backend разработчик', 3, 'Сергей Петров -> Ильяс Мухаметшин -> Екатерина Андреева')\n"
     ]
    }
   ],
   "source": [
    "cursor.execute(\"\"\" SELECT * FROM ivan_patakin.getHierarchy(p_manager_id := null); \"\"\")\n",
    "rows = cursor.fetchall()\n",
    "for row in rows:\n",
    "    print(row)"
   ]
  },
  {
   "cell_type": "code",
   "execution_count": 55,
   "id": "2976e53a35b3c78f",
   "metadata": {
    "ExecuteTime": {
     "end_time": "2025-04-29T07:46:42.146612Z",
     "start_time": "2025-04-29T07:46:42.133962Z"
    }
   },
   "outputs": [
    {
     "name": "stdout",
     "output_type": "stream",
     "text": [
      "('Сергей Петров', 'лидер проекта', 1, 'Сергей Петров')\n",
      "('Ильяс Мухаметшин', 'тимлид команды разработчиков', 2, 'Сергей Петров -> Ильяс Мухаметшин')\n",
      "('Анна Потапова', 'тимлид команды специалистов по тестированию', 2, 'Сергей Петров -> Анна Потапова')\n",
      "('Иван Иванов', 'frontend разработчик', 3, 'Сергей Петров -> Ильяс Мухаметшин -> Иван Иванов')\n",
      "('Екатерина Андреева', 'backend разработчик', 3, 'Сергей Петров -> Ильяс Мухаметшин -> Екатерина Андреева')\n"
     ]
    }
   ],
   "source": [
    "cursor.execute(\"\"\" SELECT * FROM ivan_patakin.getHierarchy(); \"\"\")\n",
    "rows = cursor.fetchall()\n",
    "for row in rows:\n",
    "    print(row)"
   ]
  },
  {
   "cell_type": "code",
   "execution_count": 56,
   "id": "4b56c9c856acb4ea",
   "metadata": {
    "ExecuteTime": {
     "end_time": "2025-04-29T07:46:44.335603Z",
     "start_time": "2025-04-29T07:46:44.305215Z"
    }
   },
   "outputs": [
    {
     "name": "stdout",
     "output_type": "stream",
     "text": [
      "Таблицы удалены.\n"
     ]
    }
   ],
   "source": [
    "cursor.execute(\"\"\"\n",
    "DROP FUNCTION IF EXISTS ivan_patakin.getHierarchy;\n",
    "DROP TABLE IF EXISTS ivan_patakin.dependency;\n",
    "DROP TABLE IF EXISTS ivan_patakin.staff;\n",
    "DROP TABLE IF EXISTS ivan_patakin.role;\n",
    "\"\"\")\n",
    "\n",
    "connection.commit()\n",
    "print(\"Таблицы удалены.\")"
   ]
  },
  {
   "cell_type": "code",
   "execution_count": 57,
   "id": "df743b52b2dbdea0",
   "metadata": {
    "ExecuteTime": {
     "end_time": "2025-04-29T07:46:46.028274Z",
     "start_time": "2025-04-29T07:46:46.020091Z"
    }
   },
   "outputs": [],
   "source": [
    "cursor.close()\n",
    "connection.close()"
   ]
  }
 ],
 "metadata": {
  "kernelspec": {
   "display_name": "Python 3 (ipykernel)",
   "language": "python",
   "name": "python3"
  },
  "language_info": {
   "codemirror_mode": {
    "name": "ipython",
    "version": 3
   },
   "file_extension": ".py",
   "mimetype": "text/x-python",
   "name": "python",
   "nbconvert_exporter": "python",
   "pygments_lexer": "ipython3",
   "version": "3.12.2"
  }
 },
 "nbformat": 4,
 "nbformat_minor": 5
}
